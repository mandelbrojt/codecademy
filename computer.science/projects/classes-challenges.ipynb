{
 "cells": [
  {
   "cell_type": "markdown",
   "metadata": {},
   "source": [
    "# Challenge 1  \n",
    "\n",
    "- Create a python class called `DriveBot`.  \n",
    "\n",
    "- Within this class, create instance variables for `motor_speed`, `sensor_range`, and `direction`. All of these should be initialized to 0 by default.  \n",
    "\n",
    "- After setting up the class, create an object from the class called `robot_1`. Set the `motor_speed` to 5, the `direction` to 90, and the `sensor_range` to 10."
   ]
  },
  {
   "cell_type": "code",
   "execution_count": 10,
   "metadata": {},
   "outputs": [
    {
     "name": "stdout",
     "output_type": "stream",
     "text": [
      "5\n",
      "10\n",
      "90\n"
     ]
    }
   ],
   "source": [
    "# Define the DriveBot class here!\n",
    "class DriveBot:\n",
    "    def __init__(self, motor_speed=0, direction=0, sensor_range=0):\n",
    "        self.motor_speed = motor_speed\n",
    "        self.direction = direction\n",
    "        self.sensor_range = sensor_range\n",
    "\n",
    "robot_1 = DriveBot(5,10,90)\n",
    "\n",
    "print(robot_1.motor_speed)\n",
    "print(robot_1.direction)\n",
    "print(robot_1.sensor_range)"
   ]
  },
  {
   "cell_type": "markdown",
   "metadata": {},
   "source": [
    "# Challenge 2  \n",
    "\n",
    "- In the `DriveBot` class, add a method called `control_bot` which accepts parameters: `new_speed` and `new_direction`. These should replace the associated instance variables.  \n",
    "\n",
    "- Create another method called `adjust_sensor` which accepts a parameter called `new_sensor_range` which replaces the `sensor_range` instance variable.  \n",
    "\n",
    "- Afterwards, use these methods to rotate the robot 180 degrees at 10 miles per hour with a sensor range of 20 feet."
   ]
  },
  {
   "cell_type": "code",
   "execution_count": 8,
   "metadata": {},
   "outputs": [
    {
     "name": "stdout",
     "output_type": "stream",
     "text": [
      "10\n",
      "180\n",
      "20\n"
     ]
    }
   ],
   "source": [
    "class DriveBot:\n",
    "    def __init__(self):\n",
    "        self.motor_speed = 0\n",
    "        self.direction = 0\n",
    "        self.sensor_range = 0\n",
    "    \n",
    "    # Add the methods here:\n",
    "    def control_bot(self, new_speed, new_direction):\n",
    "        self.motor_speed = new_speed\n",
    "        self.direction = new_direction\n",
    "    \n",
    "    def adjust_sensor(self, new_sensor_range):\n",
    "        self.sensor_range = new_sensor_range\n",
    "\n",
    "robot_1 = DriveBot()\n",
    "\n",
    "# Use the methods here:\n",
    "robot_1.control_bot(10,180)\n",
    "robot_1.adjust_sensor(20)\n",
    "\n",
    "print(robot_1.motor_speed)\n",
    "print(robot_1.direction)\n",
    "print(robot_1.sensor_range)"
   ]
  },
  {
   "cell_type": "markdown",
   "metadata": {},
   "source": [
    "# Challenge 3  \n",
    "\n",
    "- Upgrade the constructor in the `DriveBot` class in order to accept three optional parameters.  \n",
    "\n",
    "- The constructor can accept `motor_speed` (which defaults to 0 if not provided), `direction` (which defaults to 180 if not provided, and `sensor_range` (which defaults to 10 if not provided).These parameters should replace the associated instance variables.  \n",
    "\n",
    "- Test out the upgraded constructor by initializing a new robot called robot_2 with a speed of 35, a direction of 75, and a sensor range of 25."
   ]
  },
  {
   "cell_type": "code",
   "execution_count": 11,
   "metadata": {},
   "outputs": [
    {
     "name": "stdout",
     "output_type": "stream",
     "text": [
      "35\n",
      "75\n",
      "25\n"
     ]
    }
   ],
   "source": [
    "class DriveBot:\n",
    "    def __init__(self, motor_speed=0, direction=180, sensor_range=10):\n",
    "        self.motor_speed = motor_speed\n",
    "        self.direction = direction\n",
    "        self.sensor_range = sensor_range\n",
    "    \n",
    "    def control_bot(self, new_speed, new_direction):\n",
    "        self.motor_speed = new_speed\n",
    "        self.direction = new_direction\n",
    "    \n",
    "    def adjust_sensor(self, new_sensor_range):\n",
    "        self.sensor_range = new_sensor_range\n",
    "\n",
    "# Initialize the first robot\n",
    "robot_1 = DriveBot()\n",
    "robot_1.motor_speed = 5\n",
    "robot_1.direction = 90\n",
    "robot_1.sensor_range = 10\n",
    "\n",
    "# Initialize the second robot\n",
    "robot_2 = DriveBot(35,75,25)\n",
    "print(robot_2.motor_speed)\n",
    "print(robot_2.direction)\n",
    "print(robot_2.sensor_range)"
   ]
  },
  {
   "cell_type": "markdown",
   "metadata": {},
   "source": [
    "# Challenge 4  \n",
    "\n",
    "- Create a class variable called `all_disabled` which is set to `False`.  \n",
    "\n",
    "- Next, create two more class variables called `latitude` and `longitude`. Set both of those variables to equal -999999.  \n",
    "\n",
    "- Set the `latitude` of all of the robots to -50.0 at once. Set the `longitude` of the robots to 50.0 and set `all_disabled` to True. You should be able to set those values using three lines of code."
   ]
  },
  {
   "cell_type": "code",
   "execution_count": 17,
   "metadata": {},
   "outputs": [
    {
     "name": "stdout",
     "output_type": "stream",
     "text": [
      "-50.0\n",
      "50.0\n",
      "True\n"
     ]
    }
   ],
   "source": [
    "class DriveBot:\n",
    "    # Create class variables\n",
    "    all_disabled = False\n",
    "    longitude = -999999\n",
    "    latitude = -999999\n",
    "    \n",
    "    def __init__(self, motor_speed=0, direction=180, sensor_range=10):\n",
    "        self.motor_speed = motor_speed\n",
    "        self.direction = direction\n",
    "        self.sensor_range = sensor_range\n",
    "    \n",
    "    def control_bot(self, new_speed, new_direction):\n",
    "        self.motor_speed = new_speed\n",
    "        self.direction = new_direction\n",
    "    \n",
    "    def adjust_sensor(self, new_sensor_range):\n",
    "        self.sensor_range = new_sensor_range\n",
    "\n",
    "# Initialize the first robot\n",
    "robot_1 = DriveBot()\n",
    "robot_1.motor_speed = 5\n",
    "robot_1.direction = 90\n",
    "robot_1.sensor_range = 10\n",
    "\n",
    "# Initialize the second robot\n",
    "robot_2 = DriveBot(35,75,25)\n",
    "\n",
    "# Initialize the third robot\n",
    "robot_3 = DriveBot(20, 60, 10)\n",
    "\n",
    "DriveBot.longitude = 50.0\n",
    "DriveBot.latitude = -50.0\n",
    "DriveBot.all_disabled = True\n",
    "\n",
    "print(robot_1.latitude)\n",
    "print(robot_2.longitude)\n",
    "print(robot_3.all_disabled)"
   ]
  },
  {
   "cell_type": "markdown",
   "metadata": {},
   "source": [
    "# Challenge 5  \n",
    "\n",
    "- Within the `DriveBot` class, create an instance variable called `id` which will be assigned to the robot when the object is created.  \n",
    "\n",
    "- Every time a robot is created, increment a counter (stored as a class variable) so that the next robot will have a different id.  \n",
    "\n",
    "- For example, if three robots were created: `first_robot`, `next_robot`, and `last_robot`; `first_robot` will have an `id` of 1 `next_robot` will have an `id` of 2 and `last_robot` will have an `id` of 3."
   ]
  },
  {
   "cell_type": "code",
   "execution_count": 25,
   "metadata": {},
   "outputs": [
    {
     "name": "stdout",
     "output_type": "stream",
     "text": [
      "1\n",
      "2\n",
      "3\n"
     ]
    }
   ],
   "source": [
    "class DriveBot:\n",
    "  # Create a counter to keep track of how many robots were created\n",
    "    all_disabled = False\n",
    "    latitude = -999999\n",
    "    longitude = -999999\n",
    "    counter = 0\n",
    "\n",
    "    def __init__(self, motor_speed = 0, direction = 180, sensor_range = 10):\n",
    "        self.motor_speed = motor_speed\n",
    "        self.direction = direction\n",
    "        self.sensor_range = sensor_range\n",
    "        # Assign an `id` to the robot when it is constructed by incrementing the counter\n",
    "        DriveBot.counter += 1\n",
    "        # Assign the counter value to `id`\n",
    "        self.id = DriveBot.counter\n",
    "    \n",
    "    def control_bot(self, new_speed, new_direction):\n",
    "        self.motor_speed = new_speed\n",
    "        self.direction = new_direction\n",
    "\n",
    "    def adjust_sensor(self, new_sensor_range):\n",
    "        self.sensor_range = new_sensor_range\n",
    "\n",
    "robot_1 = DriveBot()\n",
    "robot_1.motor_speed = 5\n",
    "robot_1.direction = 90\n",
    "robot_1.sensor_range = 10\n",
    "\n",
    "robot_2 = DriveBot(35, 75, 25)\n",
    "robot_3 = DriveBot(20, 60, 10)\n",
    "\n",
    "print(robot_1.id)\n",
    "print(robot_2.id)\n",
    "print(robot_3.id)"
   ]
  }
 ],
 "metadata": {
  "interpreter": {
   "hash": "aee8b7b246df8f9039afb4144a1f6fd8d2ca17a180786b69acc140d282b71a49"
  },
  "kernelspec": {
   "display_name": "Python 3.9.7 64-bit",
   "language": "python",
   "name": "python3"
  },
  "language_info": {
   "codemirror_mode": {
    "name": "ipython",
    "version": 3
   },
   "file_extension": ".py",
   "mimetype": "text/x-python",
   "name": "python",
   "nbconvert_exporter": "python",
   "pygments_lexer": "ipython3",
   "version": "3.9.7"
  },
  "orig_nbformat": 4
 },
 "nbformat": 4,
 "nbformat_minor": 2
}
