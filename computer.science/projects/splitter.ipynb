{
 "cells": [
  {
   "cell_type": "code",
   "execution_count": 18,
   "metadata": {},
   "outputs": [],
   "source": [
    "\"\"\"\n",
    "Project Name: Splitter\n",
    "\n",
    "Creates a system that allows users to split the expenses \n",
    "across all members of a group using Python objects and classes.\n",
    "\n",
    "The project must accomplish the following requirements:\n",
    "\n",
    "- At leats 2 objects\n",
    "- Each class must have at least 3 attributes\n",
    "- Each class must have at least 3 methods\n",
    "- Classes must be able to describe themselves\n",
    "\"\"\"\n",
    "\n",
    "class Group:\n",
    "    def __init__(self, name, type, members, currency = \"USD\"):\n",
    "        self.name = name\n",
    "        self.type = type\n",
    "        self.members = []\n",
    "        self.currency = currency\n",
    "    \n",
    "    def __repr__(self):\n",
    "        description = \"The {group_name} group is made up {members_length} member(s).\\nThe main use is for {type} expenses, and the currency is {currency}\".format(group_name=self.name, members_length=len(self.members), type=self.type, currency=self.currency)\n",
    "        return description\n",
    "\n",
    "class Member:\n",
    "    def __init__(self, name, email, age, gender, income):\n",
    "        self.name = name\n",
    "        self.email = email\n",
    "        self.age = age\n",
    "        self.gender = gender\n",
    "        self.income = income"
   ]
  },
  {
   "cell_type": "code",
   "execution_count": 17,
   "metadata": {},
   "outputs": [
    {
     "data": {
      "text/plain": [
       "The Roomies group is made up 0 member(s).\n",
       "The main use is for health expenses, and the currency is MXN"
      ]
     },
     "execution_count": 17,
     "metadata": {},
     "output_type": "execute_result"
    }
   ],
   "source": [
    "Group(\"Roomies\", \"health\", \"Luis\", \"MXN\")"
   ]
  },
  {
   "cell_type": "code",
   "execution_count": null,
   "metadata": {},
   "outputs": [],
   "source": []
  }
 ],
 "metadata": {
  "interpreter": {
   "hash": "aee8b7b246df8f9039afb4144a1f6fd8d2ca17a180786b69acc140d282b71a49"
  },
  "kernelspec": {
   "display_name": "Python 3.9.4 64-bit",
   "language": "python",
   "name": "python3"
  },
  "language_info": {
   "codemirror_mode": {
    "name": "ipython",
    "version": 3
   },
   "file_extension": ".py",
   "mimetype": "text/x-python",
   "name": "python",
   "nbconvert_exporter": "python",
   "pygments_lexer": "ipython3",
   "version": "3.9.4"
  },
  "orig_nbformat": 4
 },
 "nbformat": 4,
 "nbformat_minor": 2
}
