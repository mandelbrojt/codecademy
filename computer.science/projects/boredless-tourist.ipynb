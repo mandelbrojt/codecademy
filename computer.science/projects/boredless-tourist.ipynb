{
 "cells": [
  {
   "cell_type": "code",
   "execution_count": 38,
   "metadata": {},
   "outputs": [],
   "source": [
    "# Create a list with destinations\n",
    "destinations = [\"Paris, France\", \"Shanghai, China\", \"Los Angeles, USA\", \"São Paulo, Brazil\", \"Cairo, Egypt\"]\n",
    "\n",
    "# Create a list with traveler's information\n",
    "test_traveler = [\"Erin Wilkes\", \"Shanghai, China\", [\"historical site\", \"art\"]]\n",
    "\n",
    "# Return the index of a destination if it is in the destinations list\n",
    "def get_destination_index(destination):\n",
    "  destination_index = destinations.index(destination)\n",
    "  return destination_index\n",
    "\n",
    "# Return the index of the travelers destination\n",
    "def get_traveler_location(traveler):\n",
    "    traveler_destination = test_traveler[1]\n",
    "    traveler_destination_index = get_destination_index(traveler_destination)\n",
    "    return traveler_destination_index\n",
    "\n",
    "# Create a list with 5 empty sub-lists using list comprehension\n",
    "attractions = [[] for i in destinations]\n",
    "\n",
    "# Create a function that adds the attraction to its corresponding\n",
    "# location in the attractions list \n",
    "def add_attraction(destination, attraction):\n",
    "    destination_index = get_destination_index(destination)\n",
    "    attractions_for_destination = attractions[destination_index]\n",
    "    attractions_for_destination.append(attraction)\n",
    "    return attractions_for_destination\n",
    "\n",
    "# Add current attractions\n",
    "add_attraction(\"Paris, France\", [\"the Louvre\", [\"art\", \"museum\"]])\n",
    "add_attraction(\"Paris, France\", [\"Arc de Triomphe\", [\"historical site\", \"monument\"]])\n",
    "add_attraction(\"Shanghai, China\", [\"Yu Garden\", [\"garden\", \"historcical site\"]])\n",
    "add_attraction(\"Shanghai, China\", [\"Yuz Museum\", [\"art\", \"museum\"]])\n",
    "add_attraction(\"Shanghai, China\", [\"Oriental Pearl Tower\", [\"skyscraper\", \"viewing deck\"]])\n",
    "add_attraction(\"Los Angeles, USA\", [\"LACMA\", [\"art\", \"museum\"]])\n",
    "add_attraction(\"São Paulo, Brazil\", [\"São Paulo Zoo\", [\"zoo\"]])\n",
    "add_attraction(\"São Paulo, Brazil\", [\"Pátio do Colégio\", [\"historical site\"]])\n",
    "add_attraction(\"Cairo, Egypt\", [\"Pyramids of Giza\", [\"monument\", \"historical site\"]])\n",
    "add_attraction(\"Cairo, Egypt\", [\"Egyptian Museum\", [\"museum\"]])\n",
    "\n",
    "# Create a function that returns the attractions with interest\n",
    "def find_attractions(destination, interests):\n",
    "    destination_index = get_destination_index(destination)\n",
    "    attractions_in_city = attractions[destination_index]\n",
    "    attractions_with_interest = []\n",
    "    for attraction in attractions_in_city:\n",
    "        possible_attraction = attraction\n",
    "        attraction_tags = attraction[1]\n",
    "        for interest in interests:\n",
    "            if interest in attraction_tags:\n",
    "                attractions_with_interest.append(possible_attraction[0])\n",
    "    return attractions_with_interest"
   ]
  },
  {
   "cell_type": "code",
   "execution_count": 48,
   "metadata": {},
   "outputs": [],
   "source": [
    "def get_attractions_for_traveler(traveler):\n",
    "    traveler_destination = traveler[1]\n",
    "    traveler_interests = traveler[2]\n",
    "    traveler_attractions = find_attractions(traveler_destination, traveler_interests)\n",
    "    interests_string = \"Hi \" + traveler[0] + \", we think you'll like these places around \" + traveler[1] + \": \"\n",
    "    for attraction in traveler_attractions:\n",
    "        interests_string += attraction\n",
    "    return interests_string"
   ]
  },
  {
   "cell_type": "code",
   "execution_count": 49,
   "metadata": {},
   "outputs": [
    {
     "name": "stdout",
     "output_type": "stream",
     "text": [
      "Hi Dereck Smill, we think you'll like these places around Paris, France: Arc de Triomphe\n"
     ]
    }
   ],
   "source": [
    "smills_france = get_attractions_for_traveler(['Dereck Smill', 'Paris, France', ['monument']])\n",
    "print(smills_france)"
   ]
  }
 ],
 "metadata": {
  "interpreter": {
   "hash": "aee8b7b246df8f9039afb4144a1f6fd8d2ca17a180786b69acc140d282b71a49"
  },
  "kernelspec": {
   "display_name": "Python 3.9.4 64-bit",
   "language": "python",
   "name": "python3"
  },
  "language_info": {
   "codemirror_mode": {
    "name": "ipython",
    "version": 3
   },
   "file_extension": ".py",
   "mimetype": "text/x-python",
   "name": "python",
   "nbconvert_exporter": "python",
   "pygments_lexer": "ipython3",
   "version": "3.9.4"
  },
  "orig_nbformat": 4
 },
 "nbformat": 4,
 "nbformat_minor": 2
}
