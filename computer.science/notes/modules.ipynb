{
 "cells": [
  {
   "cell_type": "markdown",
   "metadata": {},
   "source": [
    "# Python Modules"
   ]
  },
  {
   "cell_type": "markdown",
   "metadata": {},
   "source": [
    "- `Module`: a collection of Python declarations intended broadly to be used as a tool.\n",
    "\n",
    "- Also referred to as **“libraries”** or **“packages”** — a package is really a directory that holds a collection of modules.\n",
    "\n",
    "- A library may include a lot of code that you don’t need, so only import what you need to prevent errors or slower computing processing.\n",
    "\n",
    "- Use the `dir()` function, which returns a list of all the attributes of a specified module.\n",
    "\n",
    "- Use the `help()` function on modules, functions, classes, or other objects to know how they work."
   ]
  },
  {
   "cell_type": "markdown",
   "metadata": {},
   "source": [
    "## [Datetime](https://docs.python.org/3/library/datetime.html)"
   ]
  },
  {
   "cell_type": "code",
   "execution_count": 1,
   "metadata": {},
   "outputs": [
    {
     "name": "stdout",
     "output_type": "stream",
     "text": [
      "2022-02-23 08:10:38.924756\n"
     ]
    }
   ],
   "source": [
    "# Import datetime object from datetime module\n",
    "from datetime import datetime\n",
    "\n",
    "# Store the current time in a variable\n",
    "current_time = datetime.now()\n",
    "\n",
    "# Print the current time\n",
    "print(current_time)"
   ]
  },
  {
   "cell_type": "code",
   "execution_count": 19,
   "metadata": {},
   "outputs": [
    {
     "name": "stdout",
     "output_type": "stream",
     "text": [
      "1995\n",
      "11\n",
      "5\n",
      "9596 days, 7:11:16.953963\n"
     ]
    }
   ],
   "source": [
    "from datetime import datetime\n",
    "\n",
    "# Create a datetime object with the user's birthday\n",
    "birthday = datetime(1995, 11, 18, 15)\n",
    "\n",
    "# Access your birthday year number\n",
    "print(birthday.year)\n",
    "\n",
    "# Access your birthday month number\n",
    "print(birthday.month)\n",
    "\n",
    "# Access your birthday weekday number\n",
    "print(birthday.weekday())\n",
    "\n",
    "# Store the actual date and time\n",
    "today = datetime.now()\n",
    "\n",
    "# Store your age by calculating the difference between your birthday and today\n",
    "age = today - birthday\n",
    "\n",
    "print(age)"
   ]
  },
  {
   "cell_type": "markdown",
   "metadata": {},
   "source": [
    "## [Random](https://docs.python.org/3/library/random.html)"
   ]
  },
  {
   "cell_type": "code",
   "execution_count": 10,
   "metadata": {},
   "outputs": [
    {
     "name": "stdout",
     "output_type": "stream",
     "text": [
      "Help on method randint in module random:\n",
      "\n",
      "randint(a, b) method of random.Random instance\n",
      "    Return random integer in range [a, b], including both end points.\n",
      "\n",
      "None\n"
     ]
    }
   ],
   "source": [
    "# Get help on random.randint() function\n",
    "print(help(random.randint))"
   ]
  },
  {
   "cell_type": "code",
   "execution_count": 7,
   "metadata": {},
   "outputs": [
    {
     "name": "stdout",
     "output_type": "stream",
     "text": [
      "5\n"
     ]
    }
   ],
   "source": [
    "# Import the random module\n",
    "import random\n",
    "\n",
    "# Create random_list below:\n",
    "random_list = [random.randint(1, 101) for i in range(101)]\n",
    "\n",
    "# Create randomer_number below:\n",
    "randomer_number = random.choice(random_list)\n",
    "\n",
    "# Print randomer_number below:\n",
    "print(randomer_number)"
   ]
  },
  {
   "cell_type": "markdown",
   "metadata": {},
   "source": [
    "## Namespaces"
   ]
  },
  {
   "cell_type": "markdown",
   "metadata": {},
   "source": [
    "- Namespaces isolates the functions, variables and classes defined in the module from the code in the file doing the importing. The local namespace is where your code is run.\n",
    "\n",
    "- Use `as` keyword to change the name of the module when the name of the library is long.\n",
    "\n",
    "- The wildcard `*` used on `import *` imports anything and everything."
   ]
  },
  {
   "cell_type": "markdown",
   "metadata": {
    "collapsed": false
   },
   "source": [
    "## [Decimals](https://docs.python.org/3/library/decimal.html)"
   ]
  },
  {
   "cell_type": "code",
   "execution_count": 1,
   "metadata": {
    "collapsed": false,
    "pycharm": {
     "name": "#%%\n"
    }
   },
   "outputs": [
    {
     "name": "stdout",
     "output_type": "stream",
     "text": [
      "0.89\n",
      "0.3445\n"
     ]
    }
   ],
   "source": [
    "# Import Decimal below:\n",
    "from decimal import Decimal\n",
    "\n",
    "# Fix the floating point math below:\n",
    "two_decimal_points = Decimal('0.2') + Decimal('0.69')\n",
    "print(two_decimal_points)\n",
    "\n",
    "four_decimal_points = Decimal('0.53') * Decimal('0.65')\n",
    "print(four_decimal_points)"
   ]
  },
  {
   "cell_type": "markdown",
   "metadata": {},
   "source": [
    "# Python Files and Scope"
   ]
  },
  {
   "cell_type": "markdown",
   "metadata": {},
   "source": [
    "- Files inside the same directory do not have access to each other’s variables, functions, classes, or any other code.\n",
    "\n",
    "- Files are actually modules, so you can give a file access to another file’s content using the `import` statement."
   ]
  }
 ],
 "metadata": {
  "interpreter": {
   "hash": "aee8b7b246df8f9039afb4144a1f6fd8d2ca17a180786b69acc140d282b71a49"
  },
  "kernelspec": {
   "display_name": "Python 3.9.4 64-bit",
   "language": "python",
   "name": "python3"
  },
  "language_info": {
   "codemirror_mode": {
    "name": "ipython",
    "version": 3
   },
   "file_extension": ".py",
   "mimetype": "text/x-python",
   "name": "python",
   "nbconvert_exporter": "python",
   "pygments_lexer": "ipython3",
   "version": "3.9.4"
  },
  "orig_nbformat": 4
 },
 "nbformat": 4,
 "nbformat_minor": 2
}
