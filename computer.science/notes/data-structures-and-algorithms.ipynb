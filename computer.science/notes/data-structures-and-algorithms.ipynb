{
 "cells": [
  {
   "cell_type": "markdown",
   "metadata": {},
   "source": [
    "# Introduction  "
   ]
  },
  {
   "cell_type": "markdown",
   "metadata": {},
   "source": [
    "- ## [Cheat Sheet](https://www.codecademy.com/learn/paths/computer-science/tracks/cspath-cs-102/modules/linked-lists/cheatsheet)"
   ]
  },
  {
   "cell_type": "markdown",
   "metadata": {},
   "source": [
    "## Data Structures  \n",
    "\n",
    "Data structures are the way we are able to store and retrieve data.  \n",
    "\n",
    "Main functions of data structures:  \n",
    "- **Inputting** information: how the data is **received**.  \n",
    "\n",
    "- **Processing** information: how data is **manipulated** in the data structure.  \n",
    "\n",
    "- **Maintaining** information: how the data is **organized** within the structure.  \n",
    "\n",
    "- **Retrieving** information: **finding** and **returning** the data that is stored in the structure.  \n",
    "  \n",
    "  \n",
    "Factors to consider for choosing a data structure:  \n",
    "- The intended **purpose** for the data: search, sort, iterate, etc.  \n",
    "\n",
    "- Memory control: **static** memory allocation or **dynamic** memory allocation.  \n",
    "\n",
    "- **Time** to accomplish tasks relative to other data structures (**runtime**).  "
   ]
  },
  {
   "cell_type": "markdown",
   "metadata": {},
   "source": [
    "## Algorithms  \n",
    "\n",
    "Algorithms are a set of instructions that the computer follows to carry out tasks.  \n",
    "\n",
    "Common types of algorithms:  \n",
    "- Sorting algorithms  \n",
    "\n",
    "- Search algorithms  \n",
    "\n",
    "- Divide and conquer algorithms  \n",
    "\n",
    "- Greedy algorithms  \n",
    "\n",
    "- Brute force algorithms  \n",
    "\n",
    "\n",
    "Algorithms are used to manipulate and process data. Data structures are useful in maintaining and storing data, but algorithms are what actually utilize that data."
   ]
  },
  {
   "cell_type": "markdown",
   "metadata": {},
   "source": [
    "# Nodes  \n",
    "\n",
    "- An individual node **contains data and links to other nodes**.  \n",
    "\n",
    "- Data contained within a node can be a variety of types.  \n",
    "\n",
    "- Links within the node are sometimes referred to as `pointers`.  \n",
    "\n",
    "- If a link is null it denotes that you have reached the end of the particular node or link path.  \n",
    "\n",
    "- If a single link to a node is removed, its data and linked nodes could be lost. This is called an `orphaned` node.  "
   ]
  },
  {
   "cell_type": "markdown",
   "metadata": {},
   "source": [
    "## Python Nodes  \n",
    "\n",
    "- A Python node's data is immutable (can't be updated).  \n",
    "\n",
    "- The link is optional at initialization and can be updated.  \n",
    "\n",
    "- When we reach the end of a node path the link needs to be set to `None`.  "
   ]
  },
  {
   "cell_type": "code",
   "execution_count": 3,
   "metadata": {},
   "outputs": [],
   "source": [
    "# Create a Node class:\n",
    "class Node:\n",
    "  def __init__(self, value, link_node = None):\n",
    "    self.value = value\n",
    "    self.link_node = link_node\n",
    "\n",
    "# Define get_value and get_link_node methods:\n",
    "  def get_value(self):\n",
    "      return self.value\n",
    "  \n",
    "  def get_link_node(self):\n",
    "      return self.link_node\n",
    "\n",
    "# Define set_link_node method:\n",
    "  def set_link_node(self, link_node):\n",
    "      self.link_node = link_node"
   ]
  },
  {
   "cell_type": "code",
   "execution_count": 4,
   "metadata": {},
   "outputs": [],
   "source": [
    "# Instantiate three nodes:\n",
    "yacko = Node(\"likes to yak\")\n",
    "wacko = Node(\"has a penchant for hoarding snacks\")\n",
    "dot = Node(\"enjoys spending time in movie lots\")\n",
    "\n",
    "# Set link between nodes:\n",
    "\n",
    "# yacko can keep track of dot\n",
    "yacko.set_link_node(dot)\n",
    "# dot can keep track of wacko\n",
    "dot.set_link_node(wacko)"
   ]
  },
  {
   "cell_type": "markdown",
   "metadata": {},
   "source": [
    "- Create two new variables, `dots_data`, and `wackos_data`.  \n",
    "\n",
    "- Use both getter methods to get dot‘s value from yacko and get wacko‘s value from dot.  "
   ]
  },
  {
   "cell_type": "code",
   "execution_count": 9,
   "metadata": {},
   "outputs": [
    {
     "name": "stdout",
     "output_type": "stream",
     "text": [
      "enjoys spending time in movie lots\n",
      "has a penchant for hoarding snacks\n"
     ]
    }
   ],
   "source": [
    "dots_data = yacko.get_link_node().get_value()\n",
    "print(dots_data)\n",
    "\n",
    "wackos_data = dot.get_link_node().get_value()\n",
    "print(wackos_data)"
   ]
  },
  {
   "cell_type": "markdown",
   "metadata": {},
   "source": [
    "# Linked Lists  "
   ]
  },
  {
   "cell_type": "markdown",
   "metadata": {},
   "source": [
    "- The `head node` is the node at the **beginning** of the list.  \n",
    "\n",
    "- Each node **contains data and a link** (or `pointer`) to the next node in the list.  \n",
    "\n",
    "- The list is terminated when a node’s link is `null` (**tail node**).  \n",
    "\n",
    "- Nodes are not required to be sequentially located in memory.  "
   ]
  },
  {
   "cell_type": "markdown",
   "metadata": {},
   "source": [
    "Common operations on linked lists:  \n",
    "\n",
    "- adding nodes  \n",
    "\n",
    "- removing nodes  \n",
    "\n",
    "- finding a node  \n",
    "\n",
    "- traversing (or traveling through) the linked list  "
   ]
  },
  {
   "cell_type": "markdown",
   "metadata": {},
   "source": [
    "## Adding Nodes  \n",
    "\n",
    "- Adding a new node to the **beginning** of the list requires you to link your new node to the current **head node** to maintain your connection with the following nodes in the list.  \n",
    "\n",
    "## Removing Nodes  \n",
    "\n",
    "- If a single link is removed from a node, that node’s data and any following nodes could be lost to your application, leaving you with **orphaned nodes**.  \n",
    "\n",
    "- To remove a node from the **middle** of a **linked list**, you must adjust the link on the previous node so that it points to the following node.  "
   ]
  },
  {
   "cell_type": "markdown",
   "metadata": {},
   "source": [
    "## Linked Lists in Python  "
   ]
  },
  {
   "cell_type": "code",
   "execution_count": 2,
   "metadata": {},
   "outputs": [],
   "source": [
    "# Define the Node class:\n",
    "class Node:\n",
    "  def __init__(self, value, next_node=None):\n",
    "    self.value = value\n",
    "    self.next_node = next_node\n",
    "\n",
    "  # Define a method that returns the Node class value\n",
    "  def get_value(self):\n",
    "      return self.value\n",
    "  \n",
    "  # Define a method that returns the Node class next node\n",
    "  def get_next_node(self):\n",
    "      return self.next_node\n",
    "\n",
    "  # Define a method that allows to update the link to the next node\n",
    "  def set_next_node(self, next_node):\n",
    "      self.next_node = next_node"
   ]
  },
  {
   "cell_type": "code",
   "execution_count": 6,
   "metadata": {},
   "outputs": [],
   "source": [
    "# Define the LinkedList class:\n",
    "class LinkedList():\n",
    "    def __init__(self, value=None):\n",
    "        self.value = value\n",
    "        self.head_node = Node(value)\n",
    "    \n",
    "    # Define a method that peeks at the first node in the list\n",
    "    def get_head_node(self):\n",
    "        return self.head_node\n",
    "    \n",
    "    # Define a method that instantiates a new node\n",
    "    # Link the new node with the head node\n",
    "    def insert_beginning(self, new_value):\n",
    "        new_node = Node(new_value)\n",
    "        new_node.set_next_node(self.head_node)\n",
    "        self.head_node = new_node\n",
    "  \n",
    "\n",
    "def stringify_list(self):\n",
    "        string_list = \"\"\n",
    "        current_node = self.get_head_node()\n",
    "        while current_node:\n",
    "            if current_node.get_value() != None:\n",
    "                string_list += str(current_node.get_value()) + \"\\n\"\n",
    "            current_node = current_node.get_next_node()\n",
    "            return string_list"
   ]
  },
  {
   "cell_type": "code",
   "execution_count": 5,
   "metadata": {},
   "outputs": [
    {
     "data": {
      "text/plain": [
       "44"
      ]
     },
     "execution_count": 5,
     "metadata": {},
     "output_type": "execute_result"
    }
   ],
   "source": [
    "# Instantiate a node\n",
    "my_node = Node(44)\n",
    "\n",
    "# Print the node's value\n",
    "my_node.get_value()"
   ]
  }
 ],
 "metadata": {
  "interpreter": {
   "hash": "aee8b7b246df8f9039afb4144a1f6fd8d2ca17a180786b69acc140d282b71a49"
  },
  "kernelspec": {
   "display_name": "Python 3.9.7 64-bit",
   "language": "python",
   "name": "python3"
  },
  "language_info": {
   "codemirror_mode": {
    "name": "ipython",
    "version": 3
   },
   "file_extension": ".py",
   "mimetype": "text/x-python",
   "name": "python",
   "nbconvert_exporter": "python",
   "pygments_lexer": "ipython3",
   "version": "3.9.7"
  },
  "orig_nbformat": 4
 },
 "nbformat": 4,
 "nbformat_minor": 2
}
