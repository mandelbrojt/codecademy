{
 "cells": [
  {
   "cell_type": "markdown",
   "metadata": {},
   "source": [
    "# [Pipenv](https://pipenv.pypa.io/en/latest/)"
   ]
  },
  {
   "cell_type": "markdown",
   "metadata": {},
   "source": [
    "It automatically creates and manages a **virtualenv** for your projects, as well as adds/removes packages from your `Pipfile` as you install/uninstall packages.\n",
    "\n",
    "It also generates the ever-important `Pipfile.lock`, which is used to produce deterministic builds."
   ]
  },
  {
   "cell_type": "markdown",
   "metadata": {},
   "source": [
    "The following commands are executed on the CLI:\n",
    "\n",
    "- `pipenv --three`: initializes a virtualenv for Python 3 on the specified directory and creates a `Pipfile` file.\n",
    "- `pipenv install <module_name>`: installs a package into a virtualenv.\n",
    "    - `pipenv install <module_name>==<version_number>`: installs a specific version of a module in the virtualenv.\n",
    "- `pipenv shell`: access to a sub-shell to execute commands on an environment."
   ]
  }
 ],
 "metadata": {
  "interpreter": {
   "hash": "aee8b7b246df8f9039afb4144a1f6fd8d2ca17a180786b69acc140d282b71a49"
  },
  "kernelspec": {
   "display_name": "Python 3.9.4 64-bit",
   "language": "python",
   "name": "python3"
  },
  "language_info": {
   "name": "python",
   "version": "3.9.4"
  },
  "orig_nbformat": 4
 },
 "nbformat": 4,
 "nbformat_minor": 2
}
