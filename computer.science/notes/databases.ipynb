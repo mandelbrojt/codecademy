{
 "cells": [
  {
   "cell_type": "markdown",
   "metadata": {},
   "source": [
    "# Introduction"
   ]
  },
  {
   "cell_type": "markdown",
   "metadata": {},
   "source": [
    "## Definitions  \n",
    "\n",
    "- *Database*: is a **set of data stored in a computer**, usually structured in a way that makes the data easily accessible.  \n",
    "\n",
    "- *Relational database*: is a **type of database** that uses a structure that allows us to **identify and access data in relation** to another piece of data in the database.  \n",
    "\n",
    "- *Table*: is made up of **rows** and **columns**. Rows are often called **records**. Columns are labeled with **descriptive names** and have specific **data types**.\n",
    "\n",
    "- *Schema*: is the set of columns and data types of a table.  \n",
    "\n",
    "- *Relational Database Management System* (RDBMS): is a **program** that allows the user to **create, update, and administer a relational database**.  \n",
    "\n",
    "- *Structured Query Language* (SQL): is a **programming language used to comunicate with data** stored in a relational database management system.  "
   ]
  },
  {
   "cell_type": "markdown",
   "metadata": {},
   "source": [
    "## Popular RDBMS  \n",
    "\n",
    "### [MySQL](https://www.mysql.com/)  \n",
    "- Open source SQL database.\n",
    "- Typically used for web application development.\n",
    "- Easy to use, inexpensive, reliable, and has a large developer community.  \n",
    "\n",
    "### [PostgreSQL](https://www.postgresql.org/)  \n",
    "- **[Installation Guide](https://www.codecademy.com/paths/design-databases-with-postgresql/tracks/what-is-a-database/modules/using-postgresql-on-your-own-computer/articles/installing-and-using-postgresql-locally)**\n",
    "- Open source SQL database.\n",
    "- Typically used for web application development.\n",
    "- Easy to use, inexpensive, reliable, and has a large developer community.  \n",
    "- It can be slower in performance than other databases such as MySQL.  \n",
    "\n",
    "### [Oracle Database](https://www.oracle.com/database/)  \n",
    "- Not open source.\n",
    "- Used for large applications (particularly in the banking industry).\n",
    "- Offers pre-integrated business applications.\n",
    "- Expensive.  \n",
    "\n",
    "### [SQLite](https://www.sqlite.org/index.html)  \n",
    "- **[Installation Guide](https://www.codecademy.com/courses/learn-sql/articles/what-is-sqlite)**\n",
    "- Open source SQL database.\n",
    "- All of the data can be stored locally without having to connect your database to a server.\n",
    "- Mainly built into cellphones, PDAs, MP3 players, set-top boxes, and other electronic gadgets."
   ]
  },
  {
   "cell_type": "markdown",
   "metadata": {},
   "source": [
    "## SQL  \n",
    "\n",
    "\n",
    "### Commands  \n",
    "- [Commonly used SQL commands](https://www.codecademy.com/article/sql-commands)"
   ]
  }
 ],
 "metadata": {
  "interpreter": {
   "hash": "aee8b7b246df8f9039afb4144a1f6fd8d2ca17a180786b69acc140d282b71a49"
  },
  "kernelspec": {
   "display_name": "Python 3.9.7 64-bit",
   "language": "python",
   "name": "python3"
  },
  "language_info": {
   "name": "python",
   "version": "3.9.7"
  },
  "orig_nbformat": 4
 },
 "nbformat": 4,
 "nbformat_minor": 2
}
