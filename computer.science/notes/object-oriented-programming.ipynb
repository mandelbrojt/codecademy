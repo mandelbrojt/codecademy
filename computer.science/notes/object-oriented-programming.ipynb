{
 "cells": [
  {
   "cell_type": "markdown",
   "metadata": {},
   "source": [
    "# Introduction"
   ]
  },
  {
   "cell_type": "markdown",
   "metadata": {},
   "source": [
    "Object-oriented programming allows us to **model real world entities into our programs**, giving us the flexibility to **create our own custom data types**.\n",
    "\n",
    "By convention, class names are always capitalized."
   ]
  },
  {
   "cell_type": "markdown",
   "metadata": {},
   "source": [
    "## Classes and Objects"
   ]
  },
  {
   "cell_type": "markdown",
   "metadata": {},
   "source": [
    "A `class` is a specification of `attributes` and `methods` (*a.k.a* functions).\n",
    "\n",
    "- An `attribute` can be thought of as something a class has. These are often **nouns or adjectives**.\n",
    "\n",
    "- A `method` can be thought of as something a class can do. These are often **verbs**.\n",
    "\n",
    "    - Classes can have attributes from an object of a different class.\n",
    "\n",
    "An `object` is an instance of a class (it's the implementation of the class)."
   ]
  },
  {
   "cell_type": "code",
   "execution_count": 10,
   "metadata": {},
   "outputs": [
    {
     "name": "stdout",
     "output_type": "stream",
     "text": [
      "The name of the first cat is: Molly\n",
      "Its age is: 7\n"
     ]
    }
   ],
   "source": [
    "# Create your class here\n",
    "class Cat:\n",
    "\n",
    "  # Create a __init__ method\n",
    " def __init__(self, input_name, input_age, input_purrs = True):\n",
    "     self.name = input_name # string\n",
    "     self.age = input_age # number\n",
    "     self.purrs = input_purrs # boolean\n",
    "\n",
    "# Create a new cat!\n",
    "cat_one = Cat(\"Molly\", 7, False)\n",
    "\n",
    "# Print cat_one attributes\n",
    "print(\"The name of the first cat is:\", cat_one.name)\n",
    "print(\"Its age is:\", cat_one.age)"
   ]
  },
  {
   "cell_type": "markdown",
   "metadata": {},
   "source": [
    "- An `__init__` method, also known as the `constructor`, defines who our class will be when first created.\n",
    "- `self` will refer to a specific `class` that we create. \n",
    "- `self.age` refers to that specific attribute of the class."
   ]
  },
  {
   "cell_type": "code",
   "execution_count": 13,
   "metadata": {},
   "outputs": [
    {
     "name": "stdout",
     "output_type": "stream",
     "text": [
      "Sparky had a birthday! Sparky is 6 years old.\n"
     ]
    }
   ],
   "source": [
    "class Dog:\n",
    "  def __init__(self, input_name, input_breed, input_age = 0, input_friendliness = True):\n",
    "    # Dog attributes...\n",
    "    self.name = input_name\n",
    "    self.age = input_age\n",
    "    # Other attributes would be listed below...\n",
    " \n",
    "  # The self parameter refers to the specific\n",
    "  # dog we're attaching this method to.\n",
    "  def have_birthday(self):\n",
    "    #  Add one to this specific dog's age.\n",
    "    self.age = self.age + 1\n",
    "    # Print out the change we made.\n",
    "    print(\"{name} had a birthday! {name} is {age} years old.\".format(name = self.name, age = self.age))\n",
    "\n",
    "dog_one = Dog(\"Sparky\", \"Golden Retriever\", 5)\n",
    " \n",
    "# The self parameter will see that self = dog_one\n",
    "dog_one.have_birthday()"
   ]
  },
  {
   "cell_type": "markdown",
   "metadata": {},
   "source": [
    "- `self` refers to a specific instance of a dog. \n",
    "- `self.age` refers to that specific dog’s age.\n",
    "- Using `self` as a parameter means that the method will be referring to the specific dog we attach the method to."
   ]
  },
  {
   "cell_type": "code",
   "execution_count": 7,
   "metadata": {},
   "outputs": [],
   "source": [
    "\"\"\"\n",
    "Give the dogs the ability to become_friends with another dog. \n",
    "One dog will try to become friends with another dog, BUT they \n",
    "will only be able to become friends if the other dog is friendly.\n",
    "\"\"\"\n",
    "\n",
    "class Dog:\n",
    "  def __init__(self, input_name, input_breed, input_age = 0, input_friendliness = True):\n",
    "    self.name = input_name\n",
    "    self.breed = input_breed\n",
    "    self.age = input_age\n",
    "    self.is_friendly = input_friendliness\n",
    "    self.friends = []\n",
    "   # self will point to this specific dog\n",
    "   # other_dog will be an argument we pass in\n",
    "  def become_friends(self, other_dog):\n",
    "    if(other_dog.is_friendly):\n",
    "      # If the other dog is friendly,\n",
    "      # it adds other_dog to its friends\n",
    "      self.friends.append(other_dog)\n",
    "      # The other dog also adds this \n",
    "      # specific dog to its friends\n",
    "      other_dog.friends.append(self)\n",
    "      print(\"{name} become friends with {other_name}!\".format(name = self.name, other_name = other_dog.name))\n",
    "    else:\n",
    "      # If the other dog is NOT friendly,\n",
    "      # no one becomes friends.\n",
    "      print(\"{other_name} did not want to become friends with {name}!\".format(name = self.name, other_name = other_dog.name))"
   ]
  },
  {
   "cell_type": "code",
   "execution_count": 8,
   "metadata": {},
   "outputs": [
    {
     "name": "stdout",
     "output_type": "stream",
     "text": [
      "Bruno did not want to become friends with Sparky!\n"
     ]
    }
   ],
   "source": [
    "dog_one = Dog(\"Sparky\", \"Golden Retriever\", 5)\n",
    "dog_two = Dog(\"Bruno\", \"Chihuahua\", 10, False)\n",
    "\n",
    "# When Sparky asks Bruno, Bruno says no and do not become friends\n",
    "dog_one.become_friends(dog_two)"
   ]
  },
  {
   "cell_type": "code",
   "execution_count": 14,
   "metadata": {},
   "outputs": [
    {
     "name": "stdout",
     "output_type": "stream",
     "text": [
      "Bruno become friends with Sparky!\n"
     ]
    }
   ],
   "source": [
    "dog_one = Dog(\"Sparky\", \"Golden Retriever\", 5)\n",
    "dog_two = Dog(\"Bruno\", \"Chihuahua\", 10, False)\n",
    " \n",
    "# When Bruno asks Sparky, Sparky says yes and they become friends\n",
    "dog_two.become_friends(dog_one)"
   ]
  },
  {
   "cell_type": "code",
   "execution_count": 11,
   "metadata": {},
   "outputs": [
    {
     "name": "stdout",
     "output_type": "stream",
     "text": [
      "Leo and Misho hugged each other\n",
      "None\n"
     ]
    }
   ],
   "source": [
    "# Cat class or erase this\n",
    "# and use your own!\n",
    "class Cat:\n",
    "  def __init__(self, input_name, input_breed, input_age = 0, input_friendliness = True):\n",
    "    self.name = input_name\n",
    "    self.breed = input_breed\n",
    "    self.age = input_age\n",
    "    self.is_friendly = input_friendliness\n",
    "   # Create method where two\n",
    "   # pets interact.\n",
    "  def hugged(self, other_cat):\n",
    "    if (other_cat.is_friendly):\n",
    "      print(\"{name} and {other_name} hugged each other\".format(name=self.name, other_name=other_cat.name))\n",
    "    else:\n",
    "      print(\"{other_name} growled to {name}\".format(name=self.name, other_name=other_cat.name))\n",
    "\n",
    "cat_one = Cat(\"Leo\", \"Tabby\", 3)\n",
    "cat_two = Cat(\"Misho\", \"Bengal\", False)\n",
    "\n",
    "print(cat_one.hugged(cat_two))"
   ]
  },
  {
   "cell_type": "code",
   "execution_count": 12,
   "metadata": {},
   "outputs": [
    {
     "name": "stdout",
     "output_type": "stream",
     "text": [
      "Rashid was scared by Leo!\n",
      "Leo was NOT scared of Rashid!\n"
     ]
    }
   ],
   "source": [
    "class Cat:\n",
    "  def __init__(self, input_name, input_breed, input_age = 0, input_is_brave = False):\n",
    "    self.name = input_name\n",
    "    self.breed = input_breed\n",
    "    self.age = input_age\n",
    "    # Added is_brave\n",
    "    self.is_brave = input_is_brave\n",
    "    self.is_cuddly = True\n",
    "     \n",
    "  # if the other cat is NOT\n",
    "  # brave, they will be \n",
    "  # scared\n",
    "  def scare(self, other_cat):\n",
    "    if(other_cat.is_brave):\n",
    "      print(\"{other_name} was NOT scared of {name}!\".format(name = self.name, other_name = other_cat.name))\n",
    "    else:\n",
    "      print(\"{other_name} was scared by {name}!\".format(name = self.name, other_name = other_cat.name))\n",
    "\n",
    "# Create two pets.\n",
    "cat_one = Cat(\"Leo\", \"Tabby\", 3, True)\n",
    "cat_two = Cat(\"Rashid\", \"Bengal\", 6, False)\n",
    "\n",
    "# Rashid is brave and will \n",
    "# NOT be scared\n",
    "cat_one.scare(cat_two)\n",
    "\n",
    "# Leo is NOT brave and will \n",
    "# be scared\n",
    "cat_two.scare(cat_one)"
   ]
  },
  {
   "cell_type": "markdown",
   "metadata": {},
   "source": [
    "## Describing Classes"
   ]
  },
  {
   "cell_type": "markdown",
   "metadata": {},
   "source": [
    "- A `__repr__()` method will print out all of an Object’s attributes in a readable way."
   ]
  },
  {
   "cell_type": "code",
   "execution_count": 17,
   "metadata": {},
   "outputs": [
    {
     "name": "stdout",
     "output_type": "stream",
     "text": [
      "Sparky had a birthday! Sparky is 6 years old.\n",
      "Bruno become friends with Sparky!\n",
      "\n",
      "This Golden Retriever named Sparky is 6 years old and has 1 friends. Sparky is a friendly dog.\n",
      "This Chihuahua named Bruno is 10 years old and has 1 friends. Bruno is an unfriendly dog.\n"
     ]
    }
   ],
   "source": [
    "class Dog:\n",
    "  def __init__(self, input_name, input_breed, input_age = 0, input_friendliness=True):\n",
    "    self.name = input_name\n",
    "    self.breed = input_breed\n",
    "    self.age = input_age\n",
    "    self.is_friendly = input_friendliness\n",
    "    self.friends = []\n",
    " \n",
    "  def __repr__(self):\n",
    "    description = \"This {breed} named {name} is {age} years old and has {number_of_friends} friends.\".format(breed = self.breed, name = self.name, age=self.age, number_of_friends=len(self.friends))\n",
    "    if self.is_friendly:\n",
    "      description += \" {name} is a friendly dog.\".format(name = self.name)\n",
    "    else:\n",
    "      description += \" {name} is an unfriendly dog.\".format(name = self.name)\n",
    "    return description\n",
    " \n",
    "  def have_birthday(self):\n",
    "    self.age = self.age + 1\n",
    "    print(\"{name} had a birthday! {name} is {age} years old.\".format(name = self.name, age = self.age))\n",
    " \n",
    "  def become_friends(self, other_dog):\n",
    "    if(other_dog.is_friendly):\n",
    "      self.friends.append(other_dog)\n",
    "      other_dog.friends.append(self)\n",
    "      print(\"{name} become friends with {other_name}!\".format(name = self.name, other_name = other_dog.name))\n",
    "    else:\n",
    "      print(\"{other_name} did not want to become friends with {name}!\".format(name = self.name, other_name = other_dog.name))\n",
    " \n",
    "dog_one = Dog(\"Sparky\", \"Golden Retriever\", 5)\n",
    "dog_two = Dog(\"Bruno\", \"Chihuahua\", 10, False)\n",
    " \n",
    "dog_one.have_birthday()\n",
    "dog_two.become_friends(dog_one)\n",
    "print()\n",
    "print(dog_one)\n",
    "print(dog_two)"
   ]
  },
  {
   "cell_type": "markdown",
   "metadata": {},
   "source": [
    "# Introduction to Classes"
   ]
  },
  {
   "cell_type": "markdown",
   "metadata": {},
   "source": [
    "## Types\n",
    "\n",
    "- We can check the type of a Python variable using the `type()` function.\n",
    "\n",
    "- A variable’s type determines what you can do with it and how you can use it."
   ]
  },
  {
   "cell_type": "markdown",
   "metadata": {},
   "source": [
    "## Class\n",
    "\n",
    "- A class is a template for a data type. It describes the kinds of information that class will hold and how a programmer will interact with that data.\n",
    "\n",
    "-  `PEP 8 Style Guide` for Python Code recommends **capitalizing the names of classes to make them easier to identify**.\n",
    "\n",
    "- The `pass` keyword can be used in Python to indicate that the body of a class was intentionally left blank so we don’t cause an `IndentationError`.\n"
   ]
  },
  {
   "cell_type": "markdown",
   "metadata": {},
   "source": [
    "## Instantiation\n",
    "\n",
    "- A `class` **must be instantiated**. We must create an instance of the class, in order to breathe life into the schematic.\n",
    "\n",
    "- A `class` instance is also called an `object`.\n",
    "\n",
    "- The pattern of **defining classes and creating objects to represent the responsibilities of a program** is known as `Object Oriented Programming`.\n",
    "\n",
    "- In Python `__main__` means **“this current file that we’re running”**."
   ]
  },
  {
   "cell_type": "markdown",
   "metadata": {},
   "source": [
    "## Class Variables\n",
    "\n",
    "- A `class variable` is **a variable that is the same for every instance of the class**.\n",
    "\n",
    "- A class variable can be defined by including it in the indented part of your class definition, and you can access all of an object’s class variables with `object.variable` syntax."
   ]
  },
  {
   "cell_type": "code",
   "execution_count": 3,
   "metadata": {},
   "outputs": [
    {
     "name": "stdout",
     "output_type": "stream",
     "text": [
      "Rockstar\n"
     ]
    }
   ],
   "source": [
    "# Create a Musician class\n",
    "class Musician:\n",
    "  # Create a class variable\n",
    "  title = \"Rockstar\"\n",
    " \n",
    "# Create an instance of Musician\n",
    "drummer = Musician()\n",
    "\n",
    "# Print the title class variable\n",
    "print(drummer.title)"
   ]
  },
  {
   "cell_type": "markdown",
   "metadata": {},
   "source": [
    "## Methods\n",
    "\n"
   ]
  }
 ],
 "metadata": {
  "interpreter": {
   "hash": "aee8b7b246df8f9039afb4144a1f6fd8d2ca17a180786b69acc140d282b71a49"
  },
  "kernelspec": {
   "display_name": "Python 3.9.4 64-bit",
   "language": "python",
   "name": "python3"
  },
  "language_info": {
   "codemirror_mode": {
    "name": "ipython",
    "version": 3
   },
   "file_extension": ".py",
   "mimetype": "text/x-python",
   "name": "python",
   "nbconvert_exporter": "python",
   "pygments_lexer": "ipython3",
   "version": "3.9.4"
  },
  "orig_nbformat": 4
 },
 "nbformat": 4,
 "nbformat_minor": 2
}
