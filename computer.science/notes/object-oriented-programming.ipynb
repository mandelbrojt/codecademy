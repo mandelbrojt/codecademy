{
 "cells": [
  {
   "cell_type": "markdown",
   "metadata": {},
   "source": [
    "# Introduction"
   ]
  },
  {
   "cell_type": "markdown",
   "metadata": {},
   "source": [
    "Object-oriented programming allows us to **model real world entities into our programs**, giving us the flexibility to **create our own custom data types**.\n",
    "\n",
    "By convention, class names are always capitalized."
   ]
  },
  {
   "cell_type": "markdown",
   "metadata": {},
   "source": [
    "## Classes and Objects"
   ]
  },
  {
   "cell_type": "markdown",
   "metadata": {},
   "source": [
    "A `class` is a specification of `attributes` and `methods` (*a.k.a* functions).\n",
    "\n",
    "- An `attribute` can be thought of as something a class has. These are often **nouns or adjectives**.\n",
    "\n",
    "- A `method` can be thought of as something a class can do. These are often **verbs**.\n",
    "\n",
    "    - Classes can have attributes from an object of a different class.\n",
    "\n",
    "An `object` is an instance of a class (it's the implementation of the class)."
   ]
  },
  {
   "cell_type": "code",
   "execution_count": 10,
   "metadata": {},
   "outputs": [
    {
     "name": "stdout",
     "output_type": "stream",
     "text": [
      "The name of the first cat is: Molly\n",
      "Its age is: 7\n"
     ]
    }
   ],
   "source": [
    "# Create your class here\n",
    "class Cat:\n",
    "\n",
    "  # Create a __init__ method\n",
    " def __init__(self, input_name, input_age, input_purrs = True):\n",
    "     self.name = input_name # string\n",
    "     self.age = input_age # number\n",
    "     self.purrs = input_purrs # boolean\n",
    "\n",
    "# Create a new cat!\n",
    "cat_one = Cat(\"Molly\", 7, False)\n",
    "\n",
    "# Print cat_one attributes\n",
    "print(\"The name of the first cat is:\", cat_one.name)\n",
    "print(\"Its age is:\", cat_one.age)"
   ]
  },
  {
   "cell_type": "markdown",
   "metadata": {},
   "source": [
    "- An `__init__` method, also known as the `constructor`, defines who our class will be when first created.\n",
    "- `self` will refer to a specific `class` that we create. \n",
    "- `self.age` refers to that specific attribute of the class."
   ]
  },
  {
   "cell_type": "code",
   "execution_count": 11,
   "metadata": {},
   "outputs": [],
   "source": [
    "class Dog:\n",
    "  def __init__(self, input_name, input_breed, input_age = 0, input_friendliness = True):\n",
    "    # Dog attributes...\n",
    "    self.name = input_name\n",
    "    self.age = input_age\n",
    "    # Other attributes would be listed below...\n",
    " \n",
    "  # The self parameter refers to the specific\n",
    "  # dog we're attaching this method to.\n",
    "  def have_birthday(self):\n",
    "    #  Add one to this specific dog's age.\n",
    "    self.age = self.age + 1\n",
    "    # Print out the change we made.\n",
    "    print(\"{name} had a birthday! {name} is {age} years old.\".format(name = self.name, age = self.age))"
   ]
  },
  {
   "cell_type": "markdown",
   "metadata": {},
   "source": [
    "- `self` refers to a specific instance of a dog. \n",
    "- `self.age` refers to that specific dog’s age.\n",
    "- Using `self` as a parameter means that the method will be referring to the specific dog we attach the method to."
   ]
  },
  {
   "cell_type": "code",
   "execution_count": 12,
   "metadata": {},
   "outputs": [
    {
     "name": "stdout",
     "output_type": "stream",
     "text": [
      "Sparky had a birthday! Sparky is 6 years old.\n"
     ]
    }
   ],
   "source": [
    "dog_one = Dog(\"Sparky\", \"Golden Retriever\", 5)\n",
    " \n",
    "# The self parameter will see that self = dog_one\n",
    "dog_one.have_birthday()"
   ]
  },
  {
   "cell_type": "code",
   "execution_count": 13,
   "metadata": {},
   "outputs": [
    {
     "name": "stdout",
     "output_type": "stream",
     "text": [
      "Does Leo is hungry?: True\n"
     ]
    }
   ],
   "source": [
    "# Create a Cat class\n",
    "class Cat:\n",
    "  def __init__(self, input_name, input_breed, input_age = 0):\n",
    "    self.name = input_name\n",
    "    self.breed = input_breed\n",
    "    self.age = input_age\n",
    "    self.is_hungry = False\n",
    "  \n",
    "  # Create method to change\n",
    "  # at least one attribute.\n",
    "  def change_hungry_level(self):\n",
    "      self.is_hungry = True\n",
    "      print(\"Does {name} is hungry?: {hungry}\".format(name=self.name, hungry=self.is_hungry))\n",
    "# Create your new pet.\n",
    "new_cat = Cat(\"Leo\", \"Tabby\", 3)\n",
    "\n",
    "# Call your method on your new pet\n",
    "new_cat.change_hungry_level()\n"
   ]
  },
  {
   "cell_type": "code",
   "execution_count": null,
   "metadata": {},
   "outputs": [],
   "source": [
    "\"\"\"\n",
    "Give the dogs the ability to become_friends with another dog. \n",
    "One dog will try to become friends with another dog, BUT they \n",
    "will only be able to become friends if the other dog is friendly.\n",
    "\"\"\"\n",
    "\n",
    "class Dog:\n",
    "  def __init__(self, input_name, input_breed, input_age = 0, input_friendliness = True):\n",
    "    self.name = input_name\n",
    "    self.breed = input_breed\n",
    "    self.age = input_age\n",
    "    self.is_friendly = input_friendliness\n",
    "    self.friends = []\n",
    "\n",
    "# self will equal this specific dog\n",
    "# other_dog will be an argument we pass in\n",
    "def become_friends(self, other_dog):\n",
    "  if(other_dog.is_friendly):\n",
    "    # If the other dog is friendly,\n",
    "    # it adds other_dog to its friends\n",
    "    self.friends.append(other_dog)\n",
    "    # The other dog also adds this \n",
    "    # specific dog to its friends\n",
    "    other_dog.friends.append(self)\n",
    "    print(\"{name} become friends with {other_name}!\".format(name = self.name, other_name = other_dog.name))\n",
    "  else:\n",
    "    # If the other dog is NOT friendly,\n",
    "    # no one becomes friends.\n",
    "    print(\"{other_name} did not want to become friends with {name}!\".format(name = self.name, other_name = other_dog.name))"
   ]
  }
 ],
 "metadata": {
  "interpreter": {
   "hash": "aee8b7b246df8f9039afb4144a1f6fd8d2ca17a180786b69acc140d282b71a49"
  },
  "kernelspec": {
   "display_name": "Python 3.9.4 64-bit",
   "language": "python",
   "name": "python3"
  },
  "language_info": {
   "codemirror_mode": {
    "name": "ipython",
    "version": 3
   },
   "file_extension": ".py",
   "mimetype": "text/x-python",
   "name": "python",
   "nbconvert_exporter": "python",
   "pygments_lexer": "ipython3",
   "version": "3.9.4"
  },
  "orig_nbformat": 4
 },
 "nbformat": 4,
 "nbformat_minor": 2
}
