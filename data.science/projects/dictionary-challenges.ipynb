{
 "cells": [
  {
   "cell_type": "markdown",
   "metadata": {},
   "source": [
    "# Challenge 1  \n",
    "\n",
    "- Write a function named `sum_values` that takes a dictionary named `my_dictionary` as a parameter.  \n",
    "\n",
    "- The function should return the sum of the values of the dictionary."
   ]
  },
  {
   "cell_type": "code",
   "execution_count": 3,
   "metadata": {},
   "outputs": [
    {
     "name": "stdout",
     "output_type": "stream",
     "text": [
      "10\n",
      "6\n"
     ]
    }
   ],
   "source": [
    "# Write your sum_values function here:\n",
    "def sum_values(my_dictionary):\n",
    "    total_sum = 0\n",
    "    for value in my_dictionary.values():\n",
    "        total_sum += value\n",
    "    return total_sum\n",
    "\n",
    "# Uncomment these function calls to test your sum_values function:\n",
    "print(sum_values({\"milk\":5, \"eggs\":2, \"flour\": 3}))\n",
    "# should print 10\n",
    "print(sum_values({10:1, 100:2, 1000:3}))\n",
    "# should print 6"
   ]
  },
  {
   "cell_type": "markdown",
   "metadata": {},
   "source": [
    "# Challenge 2  \n",
    "\n",
    "- Create a function called `sum_even_keys` that takes a dictionary named `my_dictionary`, with all integer keys and values, as a parameter.  \n",
    "\n",
    "- This function should return the sum of the values of all even keys."
   ]
  },
  {
   "cell_type": "code",
   "execution_count": 11,
   "metadata": {},
   "outputs": [
    {
     "name": "stdout",
     "output_type": "stream",
     "text": [
      "2\n",
      "6\n"
     ]
    }
   ],
   "source": [
    "# Write your sum_even_keys function here:\n",
    "def sum_even_keys(my_dictionary):\n",
    "    total = 0\n",
    "    for key,value in my_dictionary.items():\n",
    "        if (key % 2 == 0):\n",
    "            total += value\n",
    "    return total\n",
    "\n",
    "# Uncomment these function calls to test your  function:\n",
    "print(sum_even_keys({1:5, 2:2, 3:3}))\n",
    "# should print 2\n",
    "print(sum_even_keys({10:1, 100:2, 1000:3}))\n",
    "# should print 6"
   ]
  },
  {
   "cell_type": "markdown",
   "metadata": {},
   "source": [
    "# Challenge 3  \n",
    "\n",
    "- Create a function named `add_ten` that takes a dictionary with integer values named `my_dictionary` as a parameter.  \n",
    "\n",
    "- The function should add 10 to every value in `my_dictionary` and return `my_dictionary`."
   ]
  },
  {
   "cell_type": "code",
   "execution_count": 10,
   "metadata": {},
   "outputs": [
    {
     "name": "stdout",
     "output_type": "stream",
     "text": [
      "{1: 15, 2: 12, 3: 13}\n",
      "{10: 11, 100: 12, 1000: 13}\n"
     ]
    }
   ],
   "source": [
    "# Write your add_ten function here:\n",
    "def add_ten(my_dictionary):\n",
    "    for key,value in my_dictionary.items():\n",
    "        my_dictionary[key] += 10\n",
    "    return my_dictionary\n",
    "\n",
    "# Uncomment these function calls to test your  function:\n",
    "print(add_ten({1:5, 2:2, 3:3}))\n",
    "# should print {1:15, 2:12, 3:13}\n",
    "print(add_ten({10:1, 100:2, 1000:3}))\n",
    "# should print {10:11, 100:12, 1000:13}"
   ]
  },
  {
   "cell_type": "markdown",
   "metadata": {},
   "source": [
    "# Challenge 4  \n",
    "\n",
    "- Create a function named `values_that_are_keys` that takes a dictionary named `my_dictionary` as a parameter.  \n",
    "\n",
    "- This function should return a list of all values in the dictionary that are also keys."
   ]
  },
  {
   "cell_type": "code",
   "execution_count": 21,
   "metadata": {},
   "outputs": [
    {
     "name": "stdout",
     "output_type": "stream",
     "text": [
      "[1, 4]\n",
      "['a']\n"
     ]
    }
   ],
   "source": [
    "# Write your values_that_are_keys function here:\n",
    "def values_that_are_keys(my_dictionary):\n",
    "  value_is_key = []\n",
    "  for value in my_dictionary.values():\n",
    "    if value in my_dictionary:\n",
    "      value_is_key.append(value)\n",
    "  return value_is_key\n",
    "\n",
    "# Uncomment these function calls to test your  function:\n",
    "print(values_that_are_keys({1:100, 2:1, 3:4, 4:10}))\n",
    "# should print [1, 4]\n",
    "print(values_that_are_keys({\"a\":\"apple\", \"b\":\"a\", \"c\":100}))\n",
    "# should print [\"a\"]"
   ]
  },
  {
   "cell_type": "markdown",
   "metadata": {},
   "source": [
    "# Challenge 5  \n",
    "\n",
    "- Write a function named `max_key` that takes a dictionary named `my_dictionary` as a parameter.  \n",
    "\n",
    "- The function should return the key associated with the largest value in the dictionary."
   ]
  },
  {
   "cell_type": "code",
   "execution_count": 27,
   "metadata": {},
   "outputs": [
    {
     "name": "stdout",
     "output_type": "stream",
     "text": [
      "1\n",
      "c\n"
     ]
    }
   ],
   "source": [
    "# Write your max_key function here:\n",
    "def max_key(my_dictionary):\n",
    "    keys = list(my_dictionary.keys())\n",
    "    values = list(my_dictionary.values())\n",
    "    max_value = max(values)\n",
    "    max_value_index = values.index(max_value)\n",
    "    return keys[max_value_index]\n",
    "\n",
    "# Uncomment these function calls to test your  function:\n",
    "print(max_key({1:100, 2:1, 3:4, 4:10}))\n",
    "# should print 1\n",
    "print(max_key({\"a\":100, \"b\":10, \"c\":1000}))\n",
    "# should print \"c\""
   ]
  },
  {
   "cell_type": "markdown",
   "metadata": {},
   "source": [
    "# Challenge 6  \n",
    "\n",
    "- Write a function named `word_length_dictionary` that takes a list of strings named `words` as a parameter.  \n",
    "\n",
    "- The function should return a dictionary of key/value pairs where every key is a word in `words` and every value is the length of that word."
   ]
  },
  {
   "cell_type": "code",
   "execution_count": 32,
   "metadata": {},
   "outputs": [
    {
     "name": "stdout",
     "output_type": "stream",
     "text": [
      "{'apple': 5, 'dog': 3, 'cat': 3}\n",
      "{'a': 1, '': 0}\n"
     ]
    }
   ],
   "source": [
    "# Write your word_length_dictionary function here:\n",
    "def word_length_dictionary(words):\n",
    "    word_length = [len(word) for word in words]\n",
    "    words_dict = {key:value for key,value in zip(words, word_length)}\n",
    "    return words_dict\n",
    "\n",
    "# Uncomment these function calls to test your  function:\n",
    "print(word_length_dictionary([\"apple\", \"dog\", \"cat\"]))\n",
    "# should print {\"apple\":5, \"dog\": 3, \"cat\":3}\n",
    "print(word_length_dictionary([\"a\", \"\"]))\n",
    "# should print {\"a\": 1, \"\": 0}"
   ]
  },
  {
   "cell_type": "markdown",
   "metadata": {},
   "source": [
    "# Challenge 7  \n",
    "\n",
    "- Write a function named `frequency_dictionary` that takes a list of elements named `words` as a parameter.  \n",
    "\n",
    "- The function should return a dictionary containing the frequency of each element in `words`."
   ]
  },
  {
   "cell_type": "code",
   "execution_count": 2,
   "metadata": {},
   "outputs": [
    {
     "name": "stdout",
     "output_type": "stream",
     "text": [
      "{'apple': 2, 'cat': 1, 1: 1}\n",
      "{0: 5}\n"
     ]
    }
   ],
   "source": [
    "# Write your frequency_dictionary function here:\n",
    "def frequency_dictionary(words):\n",
    "    unique_words = []\n",
    "    unique_words_count = []\n",
    "    \n",
    "    # Iterate througn each word in words list and store the unique words\n",
    "    for word in words:\n",
    "        if word not in unique_words:\n",
    "            unique_words.append(word)\n",
    "    \n",
    "    # For every unique word...\n",
    "    for word in unique_words:\n",
    "        # Initialize a counter\n",
    "        counter = 0\n",
    "        # For every word in words list\n",
    "        for i in range(len(words)):\n",
    "            # Check if the unique word is equal to each word in words list\n",
    "            if word == words[i]:\n",
    "                # Add 1\n",
    "                counter += 1\n",
    "        # Append the results\n",
    "        unique_words_count.append(counter)\n",
    "    \n",
    "    # Create a dictionary containing words as keys and frequency as values\n",
    "    frequency_dict = {key:value for key,value in zip(unique_words, unique_words_count)}\n",
    "\n",
    "    return frequency_dict\n",
    "\n",
    "# Uncomment these function calls to test your  function:\n",
    "print(frequency_dictionary([\"apple\", \"apple\", \"cat\", 1]))\n",
    "# should print {\"apple\":2, \"cat\":1, 1:1}\n",
    "print(frequency_dictionary([0,0,0,0,0]))\n",
    "# should print {0:5}"
   ]
  },
  {
   "cell_type": "markdown",
   "metadata": {},
   "source": [
    "# Challenge 8  \n",
    "\n",
    "- Create a function named `unique_values` that takes a dictionary named `my_dictionary` as a parameter.  \n",
    "\n",
    "- The function should return the number of unique values in the dictionary."
   ]
  },
  {
   "cell_type": "code",
   "execution_count": 4,
   "metadata": {},
   "outputs": [
    {
     "name": "stdout",
     "output_type": "stream",
     "text": [
      "2\n",
      "1\n"
     ]
    }
   ],
   "source": [
    "# Write your unique_values function here:\n",
    "def unique_values(my_dictionary):\n",
    "    unique_values_list = []\n",
    "    for value in my_dictionary.values():\n",
    "        if value not in unique_values_list:\n",
    "            unique_values_list.append(value)\n",
    "    return len(unique_values_list)\n",
    "\n",
    "# Uncomment these function calls to test your  function:\n",
    "print(unique_values({0:3, 1:1, 4:1, 5:3}))\n",
    "# should print 2\n",
    "print(unique_values({0:3, 1:3, 4:3, 5:3}))\n",
    "# should print 1"
   ]
  },
  {
   "cell_type": "markdown",
   "metadata": {},
   "source": [
    "# Challenge 9  \n",
    "\n",
    "- Create a function named `count_first_letter` that takes a dictionary named `names` as a parameter.  \n",
    "\n",
    "- `names` should be a dictionary where the key is a last name and the value is a list of first names.  \n",
    "\n",
    "- The function should return a new dictionary where each key is the first letter of a last name, and the value is the number of people whose last name begins with that letter."
   ]
  },
  {
   "cell_type": "code",
   "execution_count": 17,
   "metadata": {},
   "outputs": [
    {
     "name": "stdout",
     "output_type": "stream",
     "text": [
      "{'S': 4, 'L': 3}\n",
      "{'S': 7}\n"
     ]
    }
   ],
   "source": [
    "# Write your count_first_letter function here:\n",
    "def count_first_letter(names):\n",
    "    first_letters_keys = []\n",
    "    keys_value_length = []\n",
    "    for key, value in names.items():\n",
    "        first_letters_keys.append(key[0])\n",
    "        keys_value_length.append(len(value))\n",
    "    \n",
    "    unique_first_letters = []\n",
    "    for letter in first_letters_keys:\n",
    "        if letter not in unique_first_letters:\n",
    "            unique_first_letters.append(letter)\n",
    "    \n",
    "    unique_first_values_count = []\n",
    "    for letter in unique_first_letters:\n",
    "        counter = 0\n",
    "        for i in range(len(keys_value_length)):\n",
    "            if letter == first_letters_keys[i]:\n",
    "                counter += keys_value_length[i]\n",
    "        unique_first_values_count.append(counter)\n",
    "    \n",
    "    count_first_letter_dict = {key:value for key,value in zip(unique_first_letters, unique_first_values_count)}\n",
    "    \n",
    "    return count_first_letter_dict\n",
    "        \n",
    "# Uncomment these function calls to test your  function:\n",
    "print(count_first_letter({\"Stark\": [\"Ned\", \"Robb\", \"Sansa\"], \"Snow\" : [\"Jon\"], \"Lannister\": [\"Jaime\", \"Cersei\", \"Tywin\"]}))\n",
    "# should print {\"S\": 4, \"L\": 3}\n",
    "print(count_first_letter({\"Stark\": [\"Ned\", \"Robb\", \"Sansa\"], \"Snow\" : [\"Jon\"], \"Sannister\": [\"Jaime\", \"Cersei\", \"Tywin\"]}))\n",
    "# should print {\"S\": 7}"
   ]
  },
  {
   "cell_type": "code",
   "execution_count": 18,
   "metadata": {},
   "outputs": [
    {
     "name": "stdout",
     "output_type": "stream",
     "text": [
      "{'S': 4, 'L': 3}\n",
      "{'S': 7}\n"
     ]
    }
   ],
   "source": [
    "# Write your count_first_letter function here:\n",
    "def count_first_letter(names):\n",
    "  letters = {}\n",
    "  for key in names:\n",
    "    first_letter = key[0]\n",
    "    if first_letter not in letters:\n",
    "      letters[first_letter] = 0\n",
    "    letters[first_letter] += len(names[key])\n",
    "  return letters\n",
    "\n",
    "# Uncomment these function calls to test your  function:\n",
    "print(count_first_letter({\"Stark\": [\"Ned\", \"Robb\", \"Sansa\"], \"Snow\" : [\"Jon\"], \"Lannister\": [\"Jaime\", \"Cersei\", \"Tywin\"]}))\n",
    "# should print {\"S\": 4, \"L\": 3}\n",
    "print(count_first_letter({\"Stark\": [\"Ned\", \"Robb\", \"Sansa\"], \"Snow\" : [\"Jon\"], \"Sannister\": [\"Jaime\", \"Cersei\", \"Tywin\"]}))\n",
    "# should print {\"S\": 7}"
   ]
  }
 ],
 "metadata": {
  "interpreter": {
   "hash": "aee8b7b246df8f9039afb4144a1f6fd8d2ca17a180786b69acc140d282b71a49"
  },
  "kernelspec": {
   "display_name": "Python 3.9.7 64-bit",
   "language": "python",
   "name": "python3"
  },
  "language_info": {
   "codemirror_mode": {
    "name": "ipython",
    "version": 3
   },
   "file_extension": ".py",
   "mimetype": "text/x-python",
   "name": "python",
   "nbconvert_exporter": "python",
   "pygments_lexer": "ipython3",
   "version": "3.9.7"
  },
  "orig_nbformat": 4
 },
 "nbformat": 4,
 "nbformat_minor": 2
}
