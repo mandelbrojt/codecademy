{
 "cells": [
  {
   "cell_type": "markdown",
   "metadata": {},
   "source": [
    "# Coded Correspondence  \n",
    "\n",
    "## Letter content:  \n",
    "\n",
    "     Hey there! How have you been? I've been great! I just learned about this really cool type of cipher called a  Caesar Cipher. I wanted to sent my message and the offset and you can decode it. The best thing is that Julius Caesar himself used this cipher, that's why it's called the Caesar Cipher! Isn't that so cool! Okay, now I'm going to send you a longer coded message that you have to decode yourself!  \n",
    "\n",
    "### Coded Message  \n",
    "        xuo jxuhu! jxyi yi qd unqcfbu ev q squiqh syfxuh. muhu oek qrbu je tusetu yj? y xefu ie! iudt cu q cuiiqwu rqsa myjx jxu iqcu evviuj!  \n",
    "  \n",
    "  \n",
    "**This message has an offset of 10. Can you decode it?**  "
   ]
  },
  {
   "cell_type": "code",
   "execution_count": 1,
   "metadata": {},
   "outputs": [],
   "source": [
    "# Create a decoder function\n",
    "def decoder(message, offset=10):\n",
    "\n",
    "    # Set all letters of the message to lowercase\n",
    "    message = message.lower()\n",
    "\n",
    "    alphabet = \"abcdefghijklmnopqrstuvwxyz\"\n",
    "    \n",
    "    # Split each word from the encoded message and store it into a Python list\n",
    "    words = message.split()\n",
    "    \n",
    "    words_decoded = []\n",
    "\n",
    "    # Iterate through each word of the message\n",
    "    for word in words:\n",
    "\n",
    "        decoded_word = \"\"\n",
    "\n",
    "        # Iterate through each letter of the word\n",
    "        for letter in word:\n",
    "            \n",
    "            # If the letter IS in the alphabet\n",
    "            if letter in alphabet:\n",
    "                \n",
    "                # Calculate a decoded index to access the correct letter position based on the offset\n",
    "                decoded_index = alphabet.find(letter) + offset\n",
    "                \n",
    "                # If the decoded index is greater than the length of the alphabet...\n",
    "                if decoded_index > 25:\n",
    "                    \n",
    "                    # Adjust the decoded index to start at the beginning of the alphabet\n",
    "                    decoded_index = decoded_index - 26\n",
    "                \n",
    "                # Store the decoded letter based on the offset\n",
    "                decoded_letter = alphabet[decoded_index]\n",
    "                \n",
    "            # If the letter IS NOT in the alphabet (when the message has symbols)\n",
    "            elif letter not in alphabet:\n",
    "                decoded_letter = letter\n",
    "                \n",
    "            decoded_word += decoded_letter\n",
    "\n",
    "        words_decoded.append(decoded_word)\n",
    "    \n",
    "    decoded_message = \" \".join(words_decoded)\n",
    "    return decoded_message"
   ]
  },
  {
   "cell_type": "code",
   "execution_count": 2,
   "metadata": {},
   "outputs": [],
   "source": [
    "# Create a coder function\n",
    "def coder(message, offset=10):\n",
    "    \n",
    "    # Set all letters of the message to lowercase\n",
    "    message = message.lower()\n",
    "\n",
    "    alphabet = \"abcdefghijklmnopqrstuvwxyz\"\n",
    "    \n",
    "    # Split each word from the encoded message and store it into a Python list\n",
    "    words = message.split()\n",
    "    \n",
    "    words_coded = []\n",
    "\n",
    "    # Iterate through each word of the message\n",
    "    for word in words:\n",
    "\n",
    "        coded_word = \"\"\n",
    "\n",
    "        # Iterate through each letter of the word\n",
    "        for letter in word:\n",
    "            \n",
    "            # If the letter IS in the alphabet\n",
    "            if letter in alphabet:\n",
    "                \n",
    "                # Calculate a coded index to access the correct letter position based on the offset\n",
    "                coded_index = alphabet.find(letter) - offset\n",
    "                \n",
    "                # Store the decoded letter based on the offset\n",
    "                coded_letter = alphabet[coded_index]\n",
    "                \n",
    "            # If the letter IS NOT in the alphabet (when the message has symbols)\n",
    "            elif letter not in alphabet:\n",
    "                coded_letter = letter\n",
    "                \n",
    "            coded_word += coded_letter\n",
    "\n",
    "        words_coded.append(coded_word)\n",
    "    \n",
    "    coded_message = \" \".join(words_coded)\n",
    "    return coded_message"
   ]
  },
  {
   "cell_type": "code",
   "execution_count": 3,
   "metadata": {},
   "outputs": [
    {
     "data": {
      "text/plain": [
       "'hey there! this is an example of a caesar cipher. were you able to decode it? i hope so! send me a message back with the same offset!'"
      ]
     },
     "execution_count": 3,
     "metadata": {},
     "output_type": "execute_result"
    }
   ],
   "source": [
    "coded_message = \"xuo jxuhu! jxyi yi qd unqcfbu ev q squiqh syfxuh. muhu oek qrbu je tusetu yj? y xefu ie! iudt cu q cuiiqwu rqsa myjx jxu iqcu evviuj!\"\n",
    "\n",
    "decoder(coded_message, offset=10)"
   ]
  },
  {
   "cell_type": "markdown",
   "metadata": {},
   "source": [
    "#### Step 2: Send Vishal a Coded Message\n",
    "Great job! Now send Vishal back a message using the same offset. Your message can be anything you want! Remember, coding happens in opposite direction of decoding."
   ]
  },
  {
   "cell_type": "code",
   "execution_count": 5,
   "metadata": {},
   "outputs": [
    {
     "data": {
      "text/plain": [
       "'xuo jxuhu! y qbhuqto tusetut oekh cuiiqwu. yj mqi sxqbbudwydw!'"
      ]
     },
     "execution_count": 5,
     "metadata": {},
     "output_type": "execute_result"
    }
   ],
   "source": [
    "uncoded_message = \"Hey there! I already decoded your message. It was challenging!\"\n",
    "\n",
    "coder(uncoded_message, offset=10)"
   ]
  },
  {
   "cell_type": "markdown",
   "metadata": {},
   "source": [
    "#### Step 3: Make functions for decoding and coding \n",
    "\n",
    "Vishal sent over another reply, this time with two coded messages!\n",
    "    \n",
    "    You're getting the hang of this! Okay here are two more messages, the first one is coded just like before with  an offset of ten, and it contains the hint for decoding the second message!\n",
    "    \n",
    "    First message:\n",
    "    \n",
    "        jxu evviuj veh jxu iusedt cuiiqwu yi vekhjuud.\n",
    "        \n",
    "    Second message:\n",
    "    \n",
    "        bqdradyuzs ygxfubxq omqemd oubtqde fa oapq kagd yqeemsqe ue qhqz yadq eqogdq!\n",
    "    \n",
    "Decode both of these messages. \n",
    "\n",
    "If you haven't already, define two functions `decoder(message, offset)` and `coder(message, offset)` that can be used to quickly decode and code messages given any offset."
   ]
  },
  {
   "cell_type": "code",
   "execution_count": 10,
   "metadata": {},
   "outputs": [
    {
     "name": "stdout",
     "output_type": "stream",
     "text": [
      "the offset for the second message is fourteen.\n"
     ]
    }
   ],
   "source": [
    "first_response = \"jxu evviuj veh jxu iusedt cuiiqwu yi vekhjuud.\"\n",
    "print(decoder(first_response, offset=10))"
   ]
  },
  {
   "cell_type": "code",
   "execution_count": 9,
   "metadata": {},
   "outputs": [
    {
     "name": "stdout",
     "output_type": "stream",
     "text": [
      "performing multiple caesar ciphers to code your messages is even more secure!\n"
     ]
    }
   ],
   "source": [
    "second_response = \"bqdradyuzs ygxfubxq omqemd oubtqde fa oapq kagd yqeemsqe ue qhqz yadq eqogdq!\"\n",
    "print(decoder(second_response, offset=14))"
   ]
  },
  {
   "cell_type": "markdown",
   "metadata": {},
   "source": [
    "#### Step 4: Solving a Caesar Cipher without knowing the shift value\n",
    "\n",
    "Awesome work! While you were working to decode his last two messages, Vishal sent over another letter! He's really been bitten by the crytpo-bug. Read it and see what interesting task he has lined up for you this time.\n",
    "\n",
    "            Hello again friend! I knew you would love the Caesar Cipher, it's a cool simple way to encrypt messages. Did you know that back in Caesar's time, it was considered a very secure way of communication and it took a lot of effort to crack if you were unaware of the value of the shift? That's all changed with computers! Now we can brute force these kinds of ciphers very quickly, as I'm sure you can imagine.\n",
    "            \n",
    "            To test your cryptography skills, this next coded message is going to be harder than the last couple to crack. It's still going to be coded with a Caesar Cipher but this time I'm not going to tell you the value of   the shift. You'll have to brute force it yourself.\n",
    "            \n",
    "            Here's the coded message:\n",
    "            \n",
    "            vhfinmxkl atox kxgwxkxw tee hy maxlx hew vbiaxkl tl hulhexmx. px'ee atox mh kxteer lmxi ni hnk ztfx by px ptgm mh dxxi hnk fxlltzxl ltyx.\n",
    "            \n",
    "            Good luck!\n",
    "            \n",
    "Decode Vishal's most recent message and see what it says!"
   ]
  },
  {
   "cell_type": "code",
   "execution_count": 15,
   "metadata": {},
   "outputs": [
    {
     "name": "stdout",
     "output_type": "stream",
     "text": [
      "Offset 1: wigjonylm bupy lyhxylyx uff iz nbymy ifx wcjbylm um ivmifyny. qy'ff bupy ni lyuffs mnyj oj iol augy cz qy quhn ni eyyj iol gymmuaym muzy.\n",
      "Offset 2: xjhkpozmn cvqz mziyzmzy vgg ja ocznz jgy xdkczmn vn jwnjgzoz. rz'gg cvqz oj mzvggt nozk pk jpm bvhz da rz rvio oj fzzk jpm hznnvbzn nvaz.\n",
      "Offset 3: ykilqpano dwra najzanaz whh kb pdaoa khz yeldano wo kxokhapa. sa'hh dwra pk nawhhu opal ql kqn cwia eb sa swjp pk gaal kqn iaoowcao owba.\n",
      "Offset 4: zljmrqbop exsb obkaboba xii lc qebpb lia zfmebop xp lyplibqb. tb'ii exsb ql obxiiv pqbm rm lro dxjb fc tb txkq ql hbbm lro jbppxdbp pxcb.\n",
      "Offset 5: amknsrcpq fytc pclbcpcb yjj md rfcqc mjb agnfcpq yq mzqmjcrc. uc'jj fytc rm pcyjjw qrcn sn msp eykc gd uc uylr rm iccn msp kcqqyecq qydc.\n",
      "Offset 6: bnlotsdqr gzud qdmcdqdc zkk ne sgdrd nkc bhogdqr zr narnkdsd. vd'kk gzud sn qdzkkx rsdo to ntq fzld he vd vzms sn jddo ntq ldrrzfdr rzed.\n",
      "Offset 7: computers have rendered all of these old ciphers as obsolete. we'll have to really step up our game if we want to keep our messages safe.\n",
      "Offset 8: dpnqvufst ibwf sfoefsfe bmm pg uiftf pme djqifst bt pctpmfuf. xf'mm ibwf up sfbmmz tufq vq pvs hbnf jg xf xbou up lffq pvs nfttbhft tbgf.\n",
      "Offset 9: eqorwvgtu jcxg tgpfgtgf cnn qh vjgug qnf ekrjgtu cu qduqngvg. yg'nn jcxg vq tgcnna uvgr wr qwt icog kh yg ycpv vq mggr qwt oguucigu uchg.\n"
     ]
    }
   ],
   "source": [
    "unknown_shift_message = \"vhfinmxkl atox kxgwxkxw tee hy maxlx hew vbiaxkl tl hulhexmx. px'ee atox mh kxteer lmxi ni hnk ztfx by px ptgm mh dxxi hnk fxlltzxl ltyx.\"\n",
    "\n",
    "# Iterate and decode the message on each iteration\n",
    "for i in range(1,10):\n",
    "    print(\"Offset {i}: {decoded_message}\".format(i=i, decoded_message=decoder(unknown_shift_message, offset=i)))"
   ]
  },
  {
   "cell_type": "markdown",
   "metadata": {},
   "source": [
    "#### Step 5: The Vigenère Cipher\n",
    "\n",
    "Great work! While you were working on the brute force cracking of the cipher, Vishal sent over another letter. That guy is a letter machine!\n",
    "\n",
    "            Salutations! As you can see, technology has made brute forcing simple ciphers like the Caesar Cipher extremely easy, and us crypto-enthusiasts have had to get more creative and use more complicated ciphers. This next cipher I'm going to teach you is the Vigenère Cipher, invented by an Italian cryptologist named Giovan Battista Bellaso (cool name eh?) in the 16th century, but named after another cryptologist from the 16th century, Blaise de Vigenère.\n",
    "            \n",
    "           The Vigenère Cipher is a polyalphabetic substitution cipher, as opposed to the Caesar Cipher which was a monoalphabetic substitution cipher. What this means is that opposed to having a single shift that is applied to every letter, the Vigenère Cipher has a different shift for each individual letter. The value of the shift for each letter is determined by a given keyword.\n",
    "           \n",
    "           Consider the message\n",
    "           \n",
    "               barry is the spy\n",
    "\n",
    "           If we want to code this message, first we choose a keyword. For this example, we'll use the keyword\n",
    "           \n",
    "               dog\n",
    "               \n",
    "           Now we use the repeat the keyword over and over to generate a _keyword phrase_ that is the same length as the message we want to code. So if we want to code the message \"barry is the spy\" our _keyword phrase_ is \"dogdo gd ogd ogd\". Now we are ready to start coding our message. We shift the each letter of our message by the place value of the corresponding letter in the keyword phrase, assuming that \"a\" has a place value of 0, \"b\" has a place value of 1, and so forth. Remember, we zero-index because this is Python we're talking about!\n",
    "\n",
    "                        message:       b  a  r  r  y    i  s   t  h  e   s  p  y\n",
    "                \n",
    "                 keyword phrase:       d  o  g  d  o    g  d   o  g  d   o  g  d\n",
    "                 \n",
    "          resulting place value:       4  14 15 12 16   24 11  21 25 22  22 17 5\n",
    "      \n",
    "            So we shift \"b\", which has an index of 1, by the index of \"d\", which is 3. This gives us an place value of 4, which is \"e\". Then continue the trend: we shift \"a\" by the place value of \"o\", 14, and get \"o\" again, we shift \"r\" by the place value of \"g\", 15, and get \"x\", shift the next \"r\" by 12 places and \"u\", and so forth. Once we complete all the shifts we end up with our coded message:\n",
    "            \n",
    "                eoxum ov hnh gvb\n",
    "                \n",
    "            As you can imagine, this is a lot harder to crack without knowing the keyword! So now comes the hard part. I'll give you a message and the keyword, and you'll see if you can figure out how to crack it! Ready? Okay here's my message:\n",
    "            \n",
    "                dfc aruw fsti gr vjtwhr wznj? vmph otis! cbx swv jipreneo uhllj kpi rahjib eg fjdkwkedhmp!\n",
    "                \n",
    "            and the keyword to decode my message is \n",
    "            \n",
    "                friends\n",
    "                \n",
    "            Because that's what we are! Good luck friend!\n",
    "           \n",
    "And there it is. Vishal has given you quite the assignment this time! Try to decode his message. It may be helpful to create a function that takes two parameters, the coded message and the keyword and then work towards a solution from there.\n",
    "\n",
    "**NOTE:** Watch out for spaces and punctuation! When there's a space or punctuation mark in the original message, there should be a space/punctuation mark in the corresponding repeated-keyword string as well! "
   ]
  },
  {
   "cell_type": "code",
   "execution_count": 3,
   "metadata": {},
   "outputs": [
    {
     "name": "stdout",
     "output_type": "stream",
     "text": [
      "Keyword phrase: dogrd og dog dog\n",
      "Indexed message: [1, 0, 17, 17, 24, ' ', 8, 18, ' ', 19, 7, 4, ' ', 18, 15, 24]\n",
      "Indexed keyphrase: [3, 14, 6, 17, 3, ' ', 14, 6, ' ', 3, 14, 6, ' ', 3, 14, 6]\n",
      "Indexed coded message: [4, 14, 23, 34, 27, ' ', 22, 24, ' ', 22, 21, 10, ' ', 21, 29, 30]\n"
     ]
    },
    {
     "data": {
      "text/plain": [
       "'eoxib wy wvk vde'"
      ]
     },
     "execution_count": 3,
     "metadata": {},
     "output_type": "execute_result"
    }
   ],
   "source": [
    "def vigenere_coder(message, keyword):\n",
    "    # Turn all characters of the message to lowercase\n",
    "    message = message.lower()\n",
    "\n",
    "    alphabet = \"abcdefghijklmnopqrstuvwxyz\"\n",
    "\n",
    "    # Create an empty string to store the shifted message\n",
    "    keyword_phrase = \"\"\n",
    "\n",
    "    # Set keyword index to start at 0\n",
    "    key_index = 0\n",
    "\n",
    "    # Iterate through each character (char) of the 'message'\n",
    "    for char in message:\n",
    "        # If keyword index value is greater than the length of 'keyword'\n",
    "        if key_index >= len(keyword):\n",
    "            # Reset keyword index to 0\n",
    "            key_index += -len(keyword)\n",
    "            # Add the current keyword letter to the phrase\n",
    "            keyword_phrase += char\n",
    "        # If char IS IN the alphabet\n",
    "        elif char in alphabet:\n",
    "            # Add the current keyword letter to the phrase\n",
    "            keyword_phrase += keyword[key_index]\n",
    "            # Increase the keyword index value\n",
    "            key_index += 1\n",
    "        # If the character IS NOT IN the alphabet (for symbols)\n",
    "        else:\n",
    "            # Add char to the phrase\n",
    "            keyword_phrase += char\n",
    "    print(\"Keyword phrase:\", keyword_phrase)\n",
    "\n",
    "    # Create an empty list to store the index value\n",
    "    # of every character of the original message.\n",
    "    indexed_message = []\n",
    "\n",
    "    # Iterate through each character of the message\n",
    "    for char in message:\n",
    "        # If the character is in the alphabet\n",
    "        if char in alphabet:\n",
    "            # Append the index value to the list\n",
    "            indexed_message.append(alphabet.find(char))\n",
    "        # If the character IS NOT in the alphabet\n",
    "        else:\n",
    "            # Append the character of the original message\n",
    "            indexed_message.append(char)\n",
    "    print(\"Indexed message:\", indexed_message)\n",
    "\n",
    "    # Create an empty list to store the index value\n",
    "    # of every character of the keyword_phrase.\n",
    "    indexed_keyphrase = []\n",
    "\n",
    "    # Iterate through each character of the keyword phrase\n",
    "    for char in keyword_phrase:\n",
    "        # If char IS IN the alphabet\n",
    "        if char in alphabet:\n",
    "            # Append the index value to the list\n",
    "            indexed_keyphrase.append(alphabet.find(char))\n",
    "        else:\n",
    "            # Append the character of the keyword phrase\n",
    "            indexed_keyphrase.append(char)\n",
    "    print(\"Indexed keyphrase:\", indexed_keyphrase)\n",
    "\n",
    "    # Create an empty list to store the sum between each\n",
    "    # value of 'indexed_message' and 'indexed_keyphrase'\n",
    "    indexed_coded_message = []\n",
    "\n",
    "    # Create an iterator that starts at 0 and ends at the length value of the keyphrase list\n",
    "    for i in range(len(indexed_keyphrase)):\n",
    "        if type(indexed_keyphrase[i]) == type(int(0)):\n",
    "            indexed_coded_message.append(int(indexed_message[i]) + int(indexed_keyphrase[i]))\n",
    "        elif type(indexed_keyphrase[i]) == type(\"string\"):\n",
    "            indexed_coded_message.append(indexed_keyphrase[i])\n",
    "\n",
    "    \n",
    "    print(\"Indexed coded message:\", indexed_coded_message)\n",
    "\n",
    "    import math\n",
    "\n",
    "    coded_message = \"\"\n",
    "\n",
    "    for num in indexed_coded_message:\n",
    "        \n",
    "        if type(num) == type(int(0)):\n",
    "            # Calculate a control ratio to reset the index when it exceeds the \n",
    "            # alphabet length. Truncate the result (round down).\n",
    "            control_ratio = math.trunc(int(num)/len(alphabet))\n",
    "            \n",
    "            # Reset the alphabet iteration\n",
    "            if control_ratio >= 1:\n",
    "                coded_message += alphabet[num - (len(alphabet) * control_ratio)]\n",
    "            else:\n",
    "                coded_message += alphabet[num - len(alphabet)]\n",
    "\n",
    "        elif type(num) == type(\"string\"):\n",
    "            coded_message += num\n",
    "    \n",
    "    return coded_message\n",
    "\n",
    "\n",
    "message = \"barry is the spy\"\n",
    "\n",
    "keyword = \"dog\"\n",
    "vigenere_coder(message, keyword)"
   ]
  },
  {
   "cell_type": "code",
   "execution_count": 110,
   "metadata": {},
   "outputs": [
    {
     "name": "stdout",
     "output_type": "stream",
     "text": [
      "Keyword phrase: frien dsfrie nds\n",
      "Indexed message: [1, 0, 17, 17, 24, ' ', 8, 18, ' ', 19, 7, 4, ' ', 18, 15, 24]\n",
      "Indexed keyphrase: [5, 17, 8, 4, 13, ' ', 3, 18, 5, 17, 8, 4, ' ', 13, 3, 18]\n"
     ]
    },
    {
     "ename": "ValueError",
     "evalue": "invalid literal for int() with base 10: ' '",
     "output_type": "error",
     "traceback": [
      "\u001b[0;31m---------------------------------------------------------------------------\u001b[0m",
      "\u001b[0;31mValueError\u001b[0m                                Traceback (most recent call last)",
      "\u001b[0;32m/var/folders/vp/n1ch_qwj49vcp8qzq3w6n7hc0000gn/T/ipykernel_1076/1093861687.py\u001b[0m in \u001b[0;36m<module>\u001b[0;34m\u001b[0m\n\u001b[1;32m      2\u001b[0m \u001b[0mkeyword\u001b[0m \u001b[0;34m=\u001b[0m \u001b[0;34m\"friends\"\u001b[0m\u001b[0;34m\u001b[0m\u001b[0;34m\u001b[0m\u001b[0m\n\u001b[1;32m      3\u001b[0m \u001b[0;34m\u001b[0m\u001b[0m\n\u001b[0;32m----> 4\u001b[0;31m \u001b[0mvigenere_coder\u001b[0m\u001b[0;34m(\u001b[0m\u001b[0minput_uncoded_message\u001b[0m\u001b[0;34m,\u001b[0m \u001b[0mkeyword\u001b[0m\u001b[0;34m)\u001b[0m\u001b[0;34m\u001b[0m\u001b[0;34m\u001b[0m\u001b[0m\n\u001b[0m",
      "\u001b[0;32m/var/folders/vp/n1ch_qwj49vcp8qzq3w6n7hc0000gn/T/ipykernel_1076/3906767753.py\u001b[0m in \u001b[0;36mvigenere_coder\u001b[0;34m(message, keyword)\u001b[0m\n\u001b[1;32m     71\u001b[0m     \u001b[0;32mfor\u001b[0m \u001b[0mi\u001b[0m \u001b[0;32min\u001b[0m \u001b[0mrange\u001b[0m\u001b[0;34m(\u001b[0m\u001b[0mlen\u001b[0m\u001b[0;34m(\u001b[0m\u001b[0mindexed_keyphrase\u001b[0m\u001b[0;34m)\u001b[0m\u001b[0;34m)\u001b[0m\u001b[0;34m:\u001b[0m\u001b[0;34m\u001b[0m\u001b[0;34m\u001b[0m\u001b[0m\n\u001b[1;32m     72\u001b[0m         \u001b[0;32mif\u001b[0m \u001b[0mtype\u001b[0m\u001b[0;34m(\u001b[0m\u001b[0mindexed_keyphrase\u001b[0m\u001b[0;34m[\u001b[0m\u001b[0mi\u001b[0m\u001b[0;34m]\u001b[0m\u001b[0;34m)\u001b[0m \u001b[0;34m==\u001b[0m \u001b[0mtype\u001b[0m\u001b[0;34m(\u001b[0m\u001b[0mint\u001b[0m\u001b[0;34m(\u001b[0m\u001b[0;36m0\u001b[0m\u001b[0;34m)\u001b[0m\u001b[0;34m)\u001b[0m\u001b[0;34m:\u001b[0m\u001b[0;34m\u001b[0m\u001b[0;34m\u001b[0m\u001b[0m\n\u001b[0;32m---> 73\u001b[0;31m             \u001b[0mindexed_coded_message\u001b[0m\u001b[0;34m.\u001b[0m\u001b[0mappend\u001b[0m\u001b[0;34m(\u001b[0m\u001b[0mint\u001b[0m\u001b[0;34m(\u001b[0m\u001b[0mindexed_message\u001b[0m\u001b[0;34m[\u001b[0m\u001b[0mi\u001b[0m\u001b[0;34m]\u001b[0m\u001b[0;34m)\u001b[0m \u001b[0;34m+\u001b[0m \u001b[0mint\u001b[0m\u001b[0;34m(\u001b[0m\u001b[0mindexed_keyphrase\u001b[0m\u001b[0;34m[\u001b[0m\u001b[0mi\u001b[0m\u001b[0;34m]\u001b[0m\u001b[0;34m)\u001b[0m\u001b[0;34m)\u001b[0m\u001b[0;34m\u001b[0m\u001b[0;34m\u001b[0m\u001b[0m\n\u001b[0m\u001b[1;32m     74\u001b[0m         \u001b[0;32melif\u001b[0m \u001b[0mtype\u001b[0m\u001b[0;34m(\u001b[0m\u001b[0mindexed_keyphrase\u001b[0m\u001b[0;34m[\u001b[0m\u001b[0mi\u001b[0m\u001b[0;34m]\u001b[0m\u001b[0;34m)\u001b[0m \u001b[0;34m==\u001b[0m \u001b[0mtype\u001b[0m\u001b[0;34m(\u001b[0m\u001b[0;34m\"string\"\u001b[0m\u001b[0;34m)\u001b[0m\u001b[0;34m:\u001b[0m\u001b[0;34m\u001b[0m\u001b[0;34m\u001b[0m\u001b[0m\n\u001b[1;32m     75\u001b[0m             \u001b[0mindexed_coded_message\u001b[0m\u001b[0;34m.\u001b[0m\u001b[0mappend\u001b[0m\u001b[0;34m(\u001b[0m\u001b[0mindexed_keyphrase\u001b[0m\u001b[0;34m[\u001b[0m\u001b[0mi\u001b[0m\u001b[0;34m]\u001b[0m\u001b[0;34m)\u001b[0m\u001b[0;34m\u001b[0m\u001b[0;34m\u001b[0m\u001b[0m\n",
      "\u001b[0;31mValueError\u001b[0m: invalid literal for int() with base 10: ' '"
     ]
    }
   ],
   "source": [
    "input_uncoded_message = \"barry is the spy\"\n",
    "keyword = \"friends\"\n",
    "\n",
    "vigenere_coder(input_uncoded_message, keyword)"
   ]
  },
  {
   "cell_type": "code",
   "execution_count": null,
   "metadata": {},
   "outputs": [],
   "source": [
    "input_coded_message = \"dfc aruw fsti gr vjtwhr wznj? vmph otis! cbx swv jipreneo uhllj kpi rahjib eg fjdkwkedhmp!\"\n"
   ]
  },
  {
   "cell_type": "markdown",
   "metadata": {
    "collapsed": true
   },
   "source": [
    "#### Step 6: Send a message with the  Vigenère Cipher\n",
    "Great work decoding the message. For your final task, write a function that can encode a message using a given keyword and write out a message to send to Vishal!\n",
    "\n",
    "*As a bonus, try calling your decoder function on the result of your encryption function. You should get the original message back!*"
   ]
  },
  {
   "cell_type": "code",
   "execution_count": null,
   "metadata": {},
   "outputs": [],
   "source": []
  }
 ],
 "metadata": {
  "interpreter": {
   "hash": "aee8b7b246df8f9039afb4144a1f6fd8d2ca17a180786b69acc140d282b71a49"
  },
  "kernelspec": {
   "display_name": "Python 3.9.7 64-bit",
   "language": "python",
   "name": "python3"
  },
  "language_info": {
   "codemirror_mode": {
    "name": "ipython",
    "version": 3
   },
   "file_extension": ".py",
   "mimetype": "text/x-python",
   "name": "python",
   "nbconvert_exporter": "python",
   "pygments_lexer": "ipython3",
   "version": "3.9.7"
  }
 },
 "nbformat": 4,
 "nbformat_minor": 2
}
