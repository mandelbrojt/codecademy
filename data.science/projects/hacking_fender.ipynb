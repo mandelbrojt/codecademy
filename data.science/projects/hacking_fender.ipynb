{
 "cells": [
  {
   "cell_type": "code",
   "execution_count": 13,
   "metadata": {},
   "outputs": [],
   "source": [
    "# Import CSV module\n",
    "import csv\n",
    "\n",
    "# Create a list to store users that their passwords were compromised\n",
    "compromised_users = []\n",
    "\n",
    "# Open the CSV file that contains passwords in read mode\n",
    "with open (\"/Users/luismoreno/Documents/GitHub/codecademy/data.science/datasets/passwords.csv\") as password_file:\n",
    "    # Parse the CSV file into a Python dictionary\n",
    "    password_csv = csv.DictReader(password_file)\n",
    "    # Iterate through each row of the parsed CSV file\n",
    "    for row in password_csv:\n",
    "        # Store the row into a variable\n",
    "        password_row = row\n",
    "        # Append each username into the compromised_users list\n",
    "        compromised_users.append(password_row[\"Username\"])\n",
    "\n",
    "# Open a TXT file in write mode to store compromised users\n",
    "with open(\"/Users/luismoreno/Documents/GitHub/codecademy/data.science/datasets/compromised_users.txt\", \"w\") as compromised_user_file:\n",
    "    # Iterate through each user in the compromised_users list\n",
    "    for user in compromised_users:\n",
    "        # Write each user into the TXT file\n",
    "        compromised_user_file.write(user+\"\\n\")\n",
    "\n",
    "# Import JSON module\n",
    "import json\n",
    "\n",
    "# Open a JSON file to write data on\n",
    "with open(\"/Users/luismoreno/Documents/GitHub/codecademy/data.science/datasets/boss_message.json\", \"w\") as boss_message:\n",
    "    boss_message_dict = {\"recipient\":\"The Boss\",\n",
    "                         \"message\":\"Mission Success\"}\n",
    "    # Write out the dictionary into the JSON file\n",
    "    json.dump(boss_message_dict, boss_message)\n"
   ]
  }
 ],
 "metadata": {
  "kernelspec": {
   "display_name": "Python 3.9.7 64-bit",
   "language": "python",
   "name": "python3"
  },
  "language_info": {
   "codemirror_mode": {
    "name": "ipython",
    "version": 3
   },
   "file_extension": ".py",
   "mimetype": "text/x-python",
   "name": "python",
   "nbconvert_exporter": "python",
   "pygments_lexer": "ipython3",
   "version": "3.9.7"
  },
  "orig_nbformat": 4,
  "vscode": {
   "interpreter": {
    "hash": "aee8b7b246df8f9039afb4144a1f6fd8d2ca17a180786b69acc140d282b71a49"
   }
  }
 },
 "nbformat": 4,
 "nbformat_minor": 2
}
