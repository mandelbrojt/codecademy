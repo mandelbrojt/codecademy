{
 "cells": [
  {
   "cell_type": "markdown",
   "metadata": {},
   "source": [
    "# About the Project\n",
    "\n",
    "## Objective\n",
    "- Measure **how certain factors contribute to medical insurance costs**.\n",
    "\n",
    "## Dataset URL\n",
    "- [Medical Cost Personal Dataset](https://www.kaggle.com/mirichoi0218/insurance/version/1?select=insurance.csv)\n",
    "\n",
    "## Variables in the Dataset\n",
    "\n",
    "- **age**: age of primary beneficiary\n",
    "\n",
    "- **sex**: insurance contractor gender, female, male\n",
    "\n",
    "- **bmi**: Body mass index, providing an understanding of body, weights that are relatively high or low relative to height,\n",
    "objective index of body weight (kg / m ^ 2) using the ratio of height to weight, ideally 18.5 to 24.9\n",
    "\n",
    "- **children**: Number of children covered by health insurance / Number of dependents\n",
    "\n",
    "- **smoker**: Smoking\n",
    "\n",
    "- **region**: the beneficiary's residential area in the US, northeast, southeast, southwest, northwest.\n",
    "\n",
    "- **charges**: Individual medical costs billed by health insurance\n",
    "\n",
    "## Individual Factors\n",
    "Our first individual under research has the following factors:\n",
    "- 28-year-old,\n",
    "- nonsmoking woman,\n",
    "- has three children,\n",
    "- a BMI of 26.2."
   ]
  },
  {
   "cell_type": "markdown",
   "metadata": {},
   "source": [
    "# Setting Up Factors"
   ]
  },
  {
   "cell_type": "code",
   "execution_count": 17,
   "metadata": {},
   "outputs": [],
   "source": [
    "# Individual's age in years\n",
    "age = 28\n",
    "\n",
    "# Individual's sex: 0 for female and 1 for male\n",
    "sex = 0\n",
    "\n",
    "# Individual's body mass index\n",
    "bmi = 26.2\n",
    "\n",
    "# Number of children the individual has\n",
    "num_of_children = 3\n",
    "\n",
    "# Individual's smoking status: 0 for a non-smoker and 1 for a smoker\n",
    "smoker = 0"
   ]
  },
  {
   "cell_type": "markdown",
   "metadata": {},
   "source": [
    "# Insurance Cost Formula"
   ]
  },
  {
   "cell_type": "code",
   "execution_count": 12,
   "metadata": {},
   "outputs": [
    {
     "name": "stdout",
     "output_type": "stream",
     "text": [
      "This person's insurance cost is 5469.0 dollars.\n"
     ]
    }
   ],
   "source": [
    "# Calculate the insurance cost for a 28 year old woman that has a 26.2 BMI with 3 children and does not smoke\n",
    "insurance_cost = (250 * age) - (128 * sex) + (370 * bmi) + (425 * num_of_children) + (2400 * smoker) - 12500\n",
    "insurance_cost_message = \"This person's insurance cost is\" + \" \" + str(insurance_cost) + \" \" + \"dollars.\"\n",
    "print(insurance_cost_message)"
   ]
  },
  {
   "cell_type": "markdown",
   "metadata": {},
   "source": [
    "# How does age affects the insurance cost?"
   ]
  },
  {
   "cell_type": "code",
   "execution_count": 13,
   "metadata": {},
   "outputs": [
    {
     "name": "stdout",
     "output_type": "stream",
     "text": [
      "The change in cost of insurance after increasing the age by 4 years is 1000.0 dollars.\n"
     ]
    }
   ],
   "source": [
    "# Add 4 years to the individual's age\n",
    "age += 4\n",
    "\n",
    "# Compute the new insurance cost given the added year to the age\n",
    "new_insurance_cost = (250 * age) - (128 * sex) + (370 * bmi) + (425 * num_of_children) + (2400 * smoker) - 12500\n",
    "\n",
    "# Compute the change in insurance cost\n",
    "change_in_insurance_cost = new_insurance_cost - insurance_cost\n",
    "\n",
    "# Store the message of how an increase in age affects the insurance cost\n",
    "new_insurance_cost_message = \"The change in cost of insurance after increasing the age by 4 years is \" + str(change_in_insurance_cost) + \" dollars.\"\n",
    "\n",
    "# Print the message\n",
    "print(new_insurance_cost_message)"
   ]
  },
  {
   "cell_type": "markdown",
   "metadata": {},
   "source": [
    "# How does BMI affects the insurance cost?"
   ]
  },
  {
   "cell_type": "code",
   "execution_count": 18,
   "metadata": {},
   "outputs": [
    {
     "name": "stdout",
     "output_type": "stream",
     "text": [
      "The change in estimated insurance cost after increasing BMI by 3.1 is 1147.0 dollars.\n"
     ]
    }
   ],
   "source": [
    "# Reset the individual's age to its original value\n",
    "age = 28\n",
    "\n",
    "# Increase the bmi by 3.1\n",
    "bmi += 3.1\n",
    "\n",
    "# Compute the new insurance cost given the new bmi\n",
    "new_insurance_cost = (250 * age) - (128 * sex) + (370 * bmi) + (425 * num_of_children) + (2400 * smoker) - 12500\n",
    "\n",
    "# Compute the change in insurance cost\n",
    "change_in_insurance_cost = new_insurance_cost - insurance_cost\n",
    "\n",
    "# Store the message of how an increase in bmi affects the insurance cost\n",
    "new_insurance_cost_message = \"The change in estimated insurance cost after increasing BMI by 3.1 is \" + str(change_in_insurance_cost) + \" dollars.\"\n",
    "\n",
    "print(new_insurance_cost_message)"
   ]
  },
  {
   "cell_type": "markdown",
   "metadata": {},
   "source": [
    "# How does sex affects the insurance cost?"
   ]
  },
  {
   "cell_type": "code",
   "execution_count": 21,
   "metadata": {},
   "outputs": [
    {
     "name": "stdout",
     "output_type": "stream",
     "text": [
      "The change in estimated insurance cost for being male instead of female is -128.0 dollars.\n"
     ]
    }
   ],
   "source": [
    "# Reset the individual's bmi to its original value\n",
    "bmi = 26.2\n",
    "\n",
    "# Change the sex factor to male\n",
    "sex = 1\n",
    "\n",
    "# Compute the new insurance cost given that the individual is male\n",
    "new_insurance_cost = (250 * age) - (128 * sex) + (370 * bmi) + (425 * num_of_children) + (2400 * smoker) - 12500\n",
    "\n",
    "# Compute the change in insurance cost\n",
    "change_in_insurance_cost = new_insurance_cost - insurance_cost\n",
    "\n",
    "# Store the message of how the sex factor affects the insurance cost\n",
    "new_insurance_cost_message = \"The change in estimated insurance cost for being male instead of female is \" + str(change_in_insurance_cost) + \" dollars.\"\n",
    "\n",
    "print(new_insurance_cost_message)"
   ]
  },
  {
   "cell_type": "markdown",
   "metadata": {},
   "source": [
    "# How does smoking affects the insurance cost?"
   ]
  },
  {
   "cell_type": "code",
   "execution_count": 22,
   "metadata": {},
   "outputs": [
    {
     "name": "stdout",
     "output_type": "stream",
     "text": [
      "The change in estimated insurance cost of a woman that smokes is 2400.0 dollars.\n"
     ]
    }
   ],
   "source": [
    "# Reset the individual's sex to its original value\n",
    "sex = 0\n",
    "\n",
    "# Change the smoking status to affirm that the individual smokes\n",
    "smoker = 1\n",
    "\n",
    "# Compute the new insurance cost given that the individual is male\n",
    "new_insurance_cost = (250 * age) - (128 * sex) + (370 * bmi) + (425 * num_of_children) + (2400 * smoker) - 12500\n",
    "\n",
    "# Compute the change in insurance cost\n",
    "change_in_insurance_cost = new_insurance_cost - insurance_cost\n",
    "\n",
    "# Store the message of how the sex factor affects the insurance cost\n",
    "new_insurance_cost_message = \"The change in estimated insurance cost of a woman that smokes is \" + str(change_in_insurance_cost) + \" dollars.\"\n",
    "\n",
    "print(new_insurance_cost_message)"
   ]
  },
  {
   "cell_type": "markdown",
   "metadata": {},
   "source": [
    "# How does the number of children affects the insurance cost?"
   ]
  },
  {
   "cell_type": "code",
   "execution_count": 23,
   "metadata": {},
   "outputs": [
    {
     "name": "stdout",
     "output_type": "stream",
     "text": [
      "The change in estimated insurance cost of a woman that has 1 more children is 425.0 dollars.\n"
     ]
    }
   ],
   "source": [
    "# Reset the individuals smoking status to its original value\n",
    "smoker = 0\n",
    "\n",
    "# Add 1 more children to the current number of children\n",
    "num_of_children += 1\n",
    "\n",
    "# Compute the new insurance cost given that the individual is male\n",
    "new_insurance_cost = (250 * age) - (128 * sex) + (370 * bmi) + (425 * num_of_children) + (2400 * smoker) - 12500\n",
    "\n",
    "# Compute the change in insurance cost\n",
    "change_in_insurance_cost = new_insurance_cost - insurance_cost\n",
    "\n",
    "# Store the message of how the sex factor affects the insurance cost\n",
    "new_insurance_cost_message = \"The change in estimated insurance cost of a woman that has 1 more children is \" + str(change_in_insurance_cost) + \" dollars.\"\n",
    "\n",
    "print(new_insurance_cost_message)"
   ]
  },
  {
   "cell_type": "code",
   "execution_count": 5,
   "metadata": {},
   "outputs": [
    {
     "name": "stdout",
     "output_type": "stream",
     "text": [
      "Keanu's Estimated Insurance Cost: 29591.0 dollars.\n",
      "To lower your cost, you should consider quitting smoking.\n",
      "Your BMI is in the overweight range. To lower your cost, you should lower your BMI\n",
      "\n",
      "Luis's Estimated Insurance Cost: 49642 dollars.\n",
      "Your BMI is in a healthy range\n"
     ]
    }
   ],
   "source": [
    "# Add your code here\n",
    "def analyze_smoker(smoker_status):\n",
    "    if smoker_status == 1:\n",
    "        print(\"To lower your cost, you should consider quitting smoking.\")\n",
    "    elif smoker_status == 0:\n",
    "        print(\"Smoking is not an issue for you\")\n",
    "\n",
    "def analyze_bmi(bmi_value):\n",
    "  if bmi_value > 30:\n",
    "    print(\"Your BMI is in the obese range. To lower your cost, you should significantly lower your BMI.\")\n",
    "  elif bmi_value >= 25 and bmi_value <= 30:\n",
    "    print(\"Your BMI is in the overweight range. To lower your cost, you should lower your BMI\")\n",
    "  elif bmi_value >= 18.5 and bmi_value < 25:\n",
    "    print(\"Your BMI is in a healthy range\")\n",
    "  elif bmi_value < 18.5:\n",
    "    print(\"Yoyr BMI is in the underweight range. Increasing your BMI will note help lower your cost, but it will help improve your health\")\n",
    "\n",
    "# Function to estimate insurance cost:\n",
    "def estimate_insurance_cost(name, age, sex, bmi, num_of_children, smoker):\n",
    "  estimated_cost = 250*age - 128*sex + 370*bmi + 425*num_of_children + 24000*smoker - 12500\n",
    "  print(name + \"'s Estimated Insurance Cost: \" + str(estimated_cost) + \" dollars.\")\n",
    "  try:\n",
    "    analyze_smoker(smoker)\n",
    "  except:\n",
    "    print(\"Invalid smoker status value\")\n",
    "  analyze_bmi(bmi)\n",
    " \n",
    "# Estimate Keanu's insurance cost\n",
    "keanu_insurance_cost = estimate_insurance_cost(name = 'Keanu', age = 29, sex = 1, bmi = 26.2, num_of_children = 3, smoker = 1)\n",
    "print()\n",
    "luis_insurance_cost = estimate_insurance_cost(name = \"Luis\", age = 26, sex = 1, bmi = 21, num_of_children = 0, smoker = 2)"
   ]
  },
  {
   "cell_type": "code",
   "execution_count": 1,
   "metadata": {},
   "outputs": [
    {
     "data": {
      "text/plain": [
       "\u001b[0;31mSignature:\u001b[0m \u001b[0mlen\u001b[0m\u001b[0;34m(\u001b[0m\u001b[0mobj\u001b[0m\u001b[0;34m,\u001b[0m \u001b[0;34m/\u001b[0m\u001b[0;34m)\u001b[0m\u001b[0;34m\u001b[0m\u001b[0;34m\u001b[0m\u001b[0m\n",
       "\u001b[0;31mDocstring:\u001b[0m Return the number of items in a container.\n",
       "\u001b[0;31mType:\u001b[0m      builtin_function_or_method\n"
      ]
     },
     "metadata": {},
     "output_type": "display_data"
    }
   ],
   "source": [
    "len?"
   ]
  },
  {
   "cell_type": "code",
   "execution_count": 2,
   "metadata": {},
   "outputs": [
    {
     "data": {
      "text/plain": [
       "\u001b[0;31mSignature:\u001b[0m \u001b[0msum\u001b[0m\u001b[0;34m(\u001b[0m\u001b[0miterable\u001b[0m\u001b[0;34m,\u001b[0m \u001b[0;34m/\u001b[0m\u001b[0;34m,\u001b[0m \u001b[0mstart\u001b[0m\u001b[0;34m=\u001b[0m\u001b[0;36m0\u001b[0m\u001b[0;34m)\u001b[0m\u001b[0;34m\u001b[0m\u001b[0;34m\u001b[0m\u001b[0m\n",
       "\u001b[0;31mDocstring:\u001b[0m\n",
       "Return the sum of a 'start' value (default: 0) plus an iterable of numbers\n",
       "\n",
       "When the iterable is empty, return the start value.\n",
       "This function is intended specifically for use with numeric values and may\n",
       "reject non-numeric types.\n",
       "\u001b[0;31mType:\u001b[0m      builtin_function_or_method\n"
      ]
     },
     "metadata": {},
     "output_type": "display_data"
    }
   ],
   "source": [
    "sum?"
   ]
  },
  {
   "cell_type": "code",
   "execution_count": 3,
   "metadata": {},
   "outputs": [],
   "source": [
    "import pandas as pd\n",
    "\n",
    "pd.DataFrame()"
   ]
  },
  {
   "cell_type": "markdown",
   "metadata": {},
   "source": [
    "This is one paragraph <br> This is another paragraph"
   ]
  }
 ],
 "metadata": {
  "interpreter": {
   "hash": "aee8b7b246df8f9039afb4144a1f6fd8d2ca17a180786b69acc140d282b71a49"
  },
  "kernelspec": {
   "display_name": "Python 3",
   "language": "python",
   "name": "python3"
  },
  "language_info": {
   "codemirror_mode": {
    "name": "ipython",
    "version": 3
   },
   "file_extension": ".py",
   "mimetype": "text/x-python",
   "name": "python",
   "nbconvert_exporter": "python",
   "pygments_lexer": "ipython3",
   "version": "3.8.8"
  }
 },
 "nbformat": 4,
 "nbformat_minor": 4
}
