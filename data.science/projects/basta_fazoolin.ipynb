{
 "cells": [
  {
   "cell_type": "code",
   "execution_count": 29,
   "metadata": {},
   "outputs": [],
   "source": [
    "# Create a Menu class\n",
    "class Menu:\n",
    "  \n",
    "  # Give the class a constructor 5 parameters:\n",
    "  def __init__(self, name, items, start_time, end_time):\n",
    "    self.name = name\n",
    "    self.items = items\n",
    "    self.start_time = start_time\n",
    "    self.end_time = end_time\n",
    "  \n",
    "  # Create a string representation method\n",
    "  def __repr__(self):\n",
    "    menu_information = f\"The {self.name} menu is available from {self.start_time} to {self.end_time}.\"\n",
    "    return menu_information\n",
    "  \n",
    "  # Create a method to calculate total cost of purchases\n",
    "  def calculate_bill(self, purchased_items):\n",
    "    # Initialize the bill\n",
    "    total_bill = 0\n",
    "    # Iterate through each item in the list of purchased items\n",
    "    for item in purchased_items:\n",
    "      # Add to the total_bill the price of the item\n",
    "      total_bill += self.items[item]\n",
    "    return total_bill"
   ]
  },
  {
   "cell_type": "code",
   "execution_count": 30,
   "metadata": {},
   "outputs": [],
   "source": [
    "# Store each menu items in dictionaries\n",
    "\n",
    "brunch_items = {'pancakes': 7.50, 'waffles': 9.00, \n",
    "                'burger': 11.00, 'home fries': 4.50, \n",
    "                'coffee': 1.50, 'espresso': 3.00, \n",
    "                'tea': 1.00, 'mimosa': 10.50, \n",
    "                'orange juice': 3.50}\n",
    "\n",
    "early_bird_items = {'salumeria plate': 8.00, \n",
    "                    'salad and breadsticks (serves 2, no refills)': 14.00, \n",
    "                    'pizza with quattro formaggi': 9.00, \n",
    "                    'duck ragu': 17.50, \n",
    "                    'mushroom ravioli (vegan)': 13.50, \n",
    "                    'coffee': 1.50, \n",
    "                    'espresso': 3.00}\n",
    "\n",
    "dinner_items = {'crostini with eggplant caponata': 13.00, \n",
    "                'caesar salad': 16.00, \n",
    "                'pizza with quattro formaggi': 11.00, \n",
    "                'duck ragu': 19.50, \n",
    "                'mushroom ravioli (vegan)': 13.50, \n",
    "                'coffee': 2.00, \n",
    "                'espresso': 3.00}\n",
    "\n",
    "kids_items = {'chicken nuggets': 6.50, \n",
    "              'fusilli with wild mushrooms': 12.00, \n",
    "              'apple juice': 3.00}"
   ]
  },
  {
   "cell_type": "code",
   "execution_count": 31,
   "metadata": {},
   "outputs": [],
   "source": [
    "# Instantiate each type of menu for the restaurant\n",
    "brunch = Menu(\"brunch\", brunch_items, \"11 am\", \"4 pm\")\n",
    "early_bird = Menu(\"early-bird\", early_bird_items, \"3 pm\", \"6 pm\")\n",
    "dinner = Menu(\"dinner\", dinner_items, \"5 pm\", \"11 pm\")\n",
    "kids = Menu(\"kids\", kids_items, \"11 am\", \"9 pm\")"
   ]
  },
  {
   "cell_type": "code",
   "execution_count": 32,
   "metadata": {},
   "outputs": [
    {
     "name": "stdout",
     "output_type": "stream",
     "text": [
      "The brunch menu is available from 11 am to 4 pm.\n",
      "The early-bird menu is available from 3 pm to 6 pm.\n",
      "The dinner menu is available from 5 pm to 11 pm.\n",
      "The kids menu is available from 11 am to 9 pm.\n"
     ]
    }
   ],
   "source": [
    "# Print each menu representation string\n",
    "print(brunch)\n",
    "print(early_bird)\n",
    "print(dinner)\n",
    "print(kids)"
   ]
  },
  {
   "cell_type": "code",
   "execution_count": 33,
   "metadata": {},
   "outputs": [
    {
     "name": "stdout",
     "output_type": "stream",
     "text": [
      "13.5\n",
      "21.5\n"
     ]
    }
   ],
   "source": [
    "# Calculate the bill for a customer having pancakes, home fries and coffee during brunch\n",
    "print(brunch.calculate_bill([\"pancakes\", \"home fries\", \"coffee\"]))\n",
    "\n",
    "# Calculate the bill for a customer having salumeria plate and vegan mushroom ravioli at early bird\n",
    "print(early_bird.calculate_bill([\"salumeria plate\", \"mushroom ravioli (vegan)\"]))"
   ]
  },
  {
   "cell_type": "code",
   "execution_count": 37,
   "metadata": {},
   "outputs": [],
   "source": [
    "class Franchise:\n",
    "    \n",
    "    # Give the class constructor 3 parameters\n",
    "    def __init__(self, address, menus):\n",
    "        self.address = address\n",
    "        self.menus = menus\n",
    "    \n",
    "    # Create a string representation method\n",
    "    def __repr__(self):\n",
    "        location = f\"This franchise is located at {self.address}\"\n",
    "        return location\n",
    "    \n",
    "    # Create a method to let customers know what they can order\n",
    "    def available_menus(self, time):\n",
    "        available_menus_list = []\n",
    "        for menu in self.menus:\n",
    "            if time >= int(menu.start_time[:menu.start_time.find(\" \")]) or time <= int(menu.end_time[:menu.end_time.find(\" \")]):\n",
    "                available_menus_list.append(menu.items)\n",
    "        return available_menus_list"
   ]
  },
  {
   "cell_type": "code",
   "execution_count": 38,
   "metadata": {},
   "outputs": [
    {
     "name": "stdout",
     "output_type": "stream",
     "text": [
      "This franchise is located at 1232 West End Road\n",
      "This franchise is located at 12 East Mulberry Street\n"
     ]
    }
   ],
   "source": [
    "# Instantiate new franchises\n",
    "# Add to all of them the 4 menus available\n",
    "flagship_store = Franchise(\"1232 West End Road\", [brunch, early_bird, dinner, kids])\n",
    "print(flagship_store)\n",
    "\n",
    "new_installment = Franchise(\"12 East Mulberry Street\", [brunch, early_bird, dinner, kids])\n",
    "print(new_installment)"
   ]
  },
  {
   "cell_type": "code",
   "execution_count": 39,
   "metadata": {},
   "outputs": [
    {
     "data": {
      "text/plain": [
       "[{'pancakes': 7.5,\n",
       "  'waffles': 9.0,\n",
       "  'burger': 11.0,\n",
       "  'home fries': 4.5,\n",
       "  'coffee': 1.5,\n",
       "  'espresso': 3.0,\n",
       "  'tea': 1.0,\n",
       "  'mimosa': 10.5,\n",
       "  'orange juice': 3.5},\n",
       " {'salumeria plate': 8.0,\n",
       "  'salad and breadsticks (serves 2, no refills)': 14.0,\n",
       "  'pizza with quattro formaggi': 9.0,\n",
       "  'duck ragu': 17.5,\n",
       "  'mushroom ravioli (vegan)': 13.5,\n",
       "  'coffee': 1.5,\n",
       "  'espresso': 3.0},\n",
       " {'crostini with eggplant caponata': 13.0,\n",
       "  'caesar salad': 16.0,\n",
       "  'pizza with quattro formaggi': 11.0,\n",
       "  'duck ragu': 19.5,\n",
       "  'mushroom ravioli (vegan)': 13.5,\n",
       "  'coffee': 2.0,\n",
       "  'espresso': 3.0},\n",
       " {'chicken nuggets': 6.5,\n",
       "  'fusilli with wild mushrooms': 12.0,\n",
       "  'apple juice': 3.0}]"
      ]
     },
     "execution_count": 39,
     "metadata": {},
     "output_type": "execute_result"
    }
   ],
   "source": [
    "flagship_store.available_menus(12)"
   ]
  }
 ],
 "metadata": {
  "kernelspec": {
   "display_name": "Python 3.9.7 64-bit",
   "language": "python",
   "name": "python3"
  },
  "language_info": {
   "codemirror_mode": {
    "name": "ipython",
    "version": 3
   },
   "file_extension": ".py",
   "mimetype": "text/x-python",
   "name": "python",
   "nbconvert_exporter": "python",
   "pygments_lexer": "ipython3",
   "version": "3.9.7"
  },
  "orig_nbformat": 4,
  "vscode": {
   "interpreter": {
    "hash": "aee8b7b246df8f9039afb4144a1f6fd8d2ca17a180786b69acc140d282b71a49"
   }
  }
 },
 "nbformat": 4,
 "nbformat_minor": 2
}
