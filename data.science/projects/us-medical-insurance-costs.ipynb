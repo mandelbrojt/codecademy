{
 "cells": [
  {
   "cell_type": "markdown",
   "metadata": {},
   "source": [
    "# U.S. Medical Insurance Costs"
   ]
  },
  {
   "cell_type": "markdown",
   "metadata": {},
   "source": [
    "## Importing Data  "
   ]
  },
  {
   "cell_type": "code",
   "execution_count": 1,
   "metadata": {},
   "outputs": [],
   "source": [
    "import csv\n",
    "\n",
    "with open(\"/Users/luismoreno/Documents/GitHub/codecademy/data.science/datasets/insurance.csv\") as insurance_csv:\n",
    "    # Store the temporary CSV file into a Dict object\n",
    "    insurance_reader = csv.DictReader(insurance_csv)\n",
    "    \n",
    "    # Create empty lists to store CSV columns values\n",
    "    age = []\n",
    "    sex = []\n",
    "    bmi = []\n",
    "    children = []\n",
    "    smoker = []\n",
    "    region = []\n",
    "    charges = []\n",
    "    \n",
    "    # Iterate through each row of the CSV file\n",
    "    # Append each row value to its corresponding list\n",
    "    for row in insurance_reader:    \n",
    "        age.append(int(row[\"age\"])) # type = integer\n",
    "        sex.append(row[\"sex\"]) # type = string\n",
    "        bmi.append(float(row[\"bmi\"])) # type = float\n",
    "        children.append(int(row[\"children\"])) # type = integer\n",
    "        region.append(row[\"region\"]) # type = string\n",
    "        charges.append(float(row[\"charges\"])) # type = float\n",
    "        if row[\"smoker\"] == \"yes\":\n",
    "            smoker.append(1)\n",
    "        elif row[\"smoker\"] == \"no\":\n",
    "            smoker.append(0)"
   ]
  },
  {
   "cell_type": "markdown",
   "metadata": {},
   "source": [
    "## Descriptive Statistics  "
   ]
  },
  {
   "cell_type": "code",
   "execution_count": 4,
   "metadata": {},
   "outputs": [
    {
     "name": "stdout",
     "output_type": "stream",
     "text": [
      "The average age is: 39.0\n",
      "The average BMI is: 30.66\n",
      "The average number of children is: 1.0\n",
      "The average charge is: 1.09\n"
     ]
    }
   ],
   "source": [
    "# Import statistics module\n",
    "import statistics\n",
    "\n",
    "# Calculate average values\n",
    "avg_age = round(statistics.mean(age),0)\n",
    "avg_bmi = round(statistics.mean(bmi),2)\n",
    "avg_children = round(statistics.mean(children),0)\n",
    "avg_charges = round(statistics.mean(children),2)\n",
    "\n",
    "print(f\"The average age is: {avg_age}\")\n",
    "print(f\"The average BMI is: {avg_bmi}\")\n",
    "print(f\"The average number of children is: {avg_children}\")\n",
    "print(f\"The average charge is: {avg_charges}\")"
   ]
  }
 ],
 "metadata": {
  "kernelspec": {
   "display_name": "Python 3.9.7 64-bit",
   "language": "python",
   "name": "python3"
  },
  "language_info": {
   "codemirror_mode": {
    "name": "ipython",
    "version": 3
   },
   "file_extension": ".py",
   "mimetype": "text/x-python",
   "name": "python",
   "nbconvert_exporter": "python",
   "pygments_lexer": "ipython3",
   "version": "3.9.7"
  },
  "vscode": {
   "interpreter": {
    "hash": "aee8b7b246df8f9039afb4144a1f6fd8d2ca17a180786b69acc140d282b71a49"
   }
  }
 },
 "nbformat": 4,
 "nbformat_minor": 4
}
