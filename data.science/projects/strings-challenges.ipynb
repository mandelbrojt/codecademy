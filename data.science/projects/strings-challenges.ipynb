{
 "cells": [
  {
   "cell_type": "markdown",
   "metadata": {},
   "source": [
    "# Strings"
   ]
  },
  {
   "cell_type": "code",
   "execution_count": 6,
   "metadata": {},
   "outputs": [
    {
     "name": "stdout",
     "output_type": "stream",
     "text": [
      "4\n",
      "4\n",
      "52\n"
     ]
    }
   ],
   "source": [
    "\"\"\"\n",
    "Write a function that takes a string and a single character as parameters.\n",
    "The function should return the number of times x appears in word.\n",
    "\"\"\"\n",
    "\n",
    "# Write your function here:\n",
    "def unique_english_letters(word):\n",
    "    letters = []\n",
    "    counter = 0\n",
    "    for char in word:\n",
    "        if char not in letters:\n",
    "            letters.append(char)\n",
    "            counter += 1\n",
    "    return counter\n",
    "\n",
    "# Test the function:\n",
    "print(unique_english_letters(\"mississippi\"))\n",
    "# should print 4\n",
    "print(unique_english_letters(\"Apple\"))\n",
    "# should print 4\n",
    "letters = \"ABCDEFGHIJKLMNOPQRSTUVWXYZabcdefghijklmnopqrstuvwxyz\"\n",
    "print(unique_english_letters(letters))\n",
    "# should print 52"
   ]
  },
  {
   "cell_type": "code",
   "execution_count": 9,
   "metadata": {},
   "outputs": [
    {
     "name": "stdout",
     "output_type": "stream",
     "text": [
      "4\n",
      "1\n"
     ]
    }
   ],
   "source": [
    "\"\"\"\n",
    "Write a function that takes a string and a single character as parameters.\n",
    "The function should return the number of times x appears in word.\n",
    "\"\"\"\n",
    "\n",
    "# Write your function here:\n",
    "def count_char_x(word, x):\n",
    "    counter = 0\n",
    "    for char in word:\n",
    "        if x in char:\n",
    "            counter += 1\n",
    "    return counter\n",
    "\n",
    "# Test the function:\n",
    "print(count_char_x(\"mississippi\", \"s\"))\n",
    "# should print 4\n",
    "print(count_char_x(\"mississippi\", \"m\"))\n",
    "# should print 1"
   ]
  },
  {
   "cell_type": "code",
   "execution_count": 10,
   "metadata": {},
   "outputs": [
    {
     "name": "stdout",
     "output_type": "stream",
     "text": [
      "2\n",
      "1\n"
     ]
    }
   ],
   "source": [
    "\"\"\"\n",
    "Write a function that takes \"word\" and \"x\" as arguments.\n",
    "Return the number of times \"x\" appears in \"word\".\n",
    "The function should work when \"x\" is multiple characters long.\n",
    "\"\"\"\n",
    "\n",
    "# Write your function here:\n",
    "def count_multi_char_x(word,x):\n",
    "  indices = []\n",
    "  for i in range(len(word)):\n",
    "    if word[i:i+len(x)] == x:\n",
    "      indices.append(i)\n",
    "  return len(indices)\n",
    "\n",
    "# Uncomment these function calls to test your function:\n",
    "print(count_multi_char_x(\"mississippi\", \"iss\"))\n",
    "# should print 2\n",
    "print(count_multi_char_x(\"apple\", \"pp\"))\n",
    "# should print 1"
   ]
  },
  {
   "cell_type": "code",
   "execution_count": 1,
   "metadata": {},
   "outputs": [
    {
     "data": {
      "text/plain": [
       "'pl'"
      ]
     },
     "execution_count": 1,
     "metadata": {},
     "output_type": "execute_result"
    }
   ],
   "source": [
    "\"\"\"\n",
    "This function should return the substring between the first \n",
    "occurrence of start and end in word.\n",
    "If start or end are not in word, the function should return word.\n",
    "\"\"\"\n",
    "\n",
    "def substring_between_letters(word,start,end):\n",
    "    start_index = word.find(start)\n",
    "    end_index = word.find(end)\n",
    "\n",
    "    if (start in word) and (end in word):\n",
    "        return word[start_index+1:end_index]\n",
    "    else:\n",
    "        return word\n",
    "\n",
    "substring_between_letters(\"apple\", \"p\", \"e\")\n",
    "# output: \"pl\""
   ]
  },
  {
   "cell_type": "code",
   "execution_count": 2,
   "metadata": {},
   "outputs": [
    {
     "name": "stdout",
     "output_type": "stream",
     "text": [
      "False\n",
      "True\n"
     ]
    }
   ],
   "source": [
    "\"\"\"\n",
    "This function should return True if every word in sentence \n",
    "has a length greater than or equal to x\n",
    "\"\"\"\n",
    "\n",
    "# Write your x_length_words function here:\n",
    "def x_length_words(sentence,x):\n",
    "  sentence_list = sentence.split()\n",
    "  booleans_list = []\n",
    "  for i in range(len(sentence_list)):\n",
    "      if len(sentence_list[i]) >= x:\n",
    "          return True\n",
    "      else:\n",
    "          return False\n",
    "\n",
    "# Uncomment these function calls to test your tip function:\n",
    "print(x_length_words(\"i like apples\", 2))\n",
    "# should print False\n",
    "print(x_length_words(\"he likes apples\", 2))\n",
    "# should print True"
   ]
  },
  {
   "cell_type": "code",
   "execution_count": 3,
   "metadata": {},
   "outputs": [
    {
     "name": "stdout",
     "output_type": "stream",
     "text": [
      "True\n",
      "True\n",
      "False\n"
     ]
    }
   ],
   "source": [
    "\"\"\"\n",
    "This function should return True if name appears in sentence \n",
    "in all lowercase letters, all uppercase letters, or with any \n",
    "mix of uppercase and lowercase letters. \n",
    "The function should return False otherwise.\n",
    "\"\"\"\n",
    "\n",
    "def check_for_name(sentence,name):\n",
    "    sentence_list = sentence.split()\n",
    "    if sentence_list[-1].lower() == name.lower():\n",
    "        return True\n",
    "    else:\n",
    "        return False\n",
    "\n",
    "# Uncomment these function calls to test your  function:\n",
    "print(check_for_name(\"My name is Jamie\", \"Jamie\"))\n",
    "# should print True\n",
    "print(check_for_name(\"My name is jamie\", \"Jamie\"))\n",
    "# should print True\n",
    "print(check_for_name(\"My name is Samantha\", \"Jamie\"))\n",
    "# should print False"
   ]
  },
  {
   "cell_type": "code",
   "execution_count": 4,
   "metadata": {},
   "outputs": [
    {
     "name": "stdout",
     "output_type": "stream",
     "text": [
      "Cdcdm\n",
      "Hlowrd\n",
      "\n"
     ]
    }
   ],
   "source": [
    "\"\"\"\n",
    "Create a function that takes a string named word as a parameter. \n",
    "The function should return a string containing every other letter in word.\n",
    "\"\"\"\n",
    "\n",
    "def every_other_letter(word):\n",
    "    mod_word = []\n",
    "    for i in range(len(word)):\n",
    "        if i % 2 == 0:\n",
    "            mod_word.append(word[i])\n",
    "    return \"\".join(mod_word)\n",
    "\n",
    "# Uncomment these function calls to test your function:\n",
    "print(every_other_letter(\"Codecademy\"))\n",
    "# should print Cdcdm\n",
    "print(every_other_letter(\"Hello world!\"))\n",
    "# should print Hlowrd\n",
    "print(every_other_letter(\"\"))\n",
    "# should print "
   ]
  },
  {
   "cell_type": "code",
   "execution_count": 5,
   "metadata": {},
   "outputs": [
    {
     "name": "stdout",
     "output_type": "stream",
     "text": [
      "ymedacedoC\n",
      "!dlrow olleH\n",
      "\n"
     ]
    }
   ],
   "source": [
    "\"\"\"\n",
    "Write a function that has a string named word as a parameter.\n",
    "The function should return word in reverse.\n",
    "\"\"\"\n",
    "\n",
    "def reverse_string(word):\n",
    "    reverse_list = []\n",
    "    for i in range(1,len(word)+1):\n",
    "        reverse_list.append(word[i*-1])\n",
    "    return \"\".join(reverse_list)\n",
    "\n",
    "# Uncomment these function calls to test your  function:\n",
    "print(reverse_string(\"Codecademy\"))\n",
    "# should print ymedacedoC\n",
    "print(reverse_string(\"Hello world!\"))\n",
    "# should print !dlrow olleH\n",
    "print(reverse_string(\"\"))\n",
    "# should print"
   ]
  },
  {
   "cell_type": "code",
   "execution_count": 6,
   "metadata": {},
   "outputs": [
    {
     "name": "stdout",
     "output_type": "stream",
     "text": [
      "Lodecademy Cearn\n",
      "wello Horld!\n",
      "b a\n"
     ]
    }
   ],
   "source": [
    "\"\"\"\n",
    "Write a function that takes two words as parameters. \n",
    "Switch the first letters of each word.\n",
    "Return the two new words as a single string separated by a space.\n",
    "\"\"\"\n",
    "\n",
    "def make_spoonerism(word1, word2):\n",
    "    word1_first_letter = word1[0]\n",
    "    word2_first_letter = word2[0]\n",
    "\n",
    "    new_word1 = word1.replace(word1[0],word2_first_letter)\n",
    "    new_word2 = word2.replace(word2[0],word1_first_letter)\n",
    "\n",
    "    words_list = [new_word1, new_word2]\n",
    "\n",
    "    return \" \".join(words_list)\n",
    "\n",
    "# Uncomment these function calls to test your function:\n",
    "print(make_spoonerism(\"Codecademy\", \"Learn\"))\n",
    "# should print Lodecademy Cearn\n",
    "print(make_spoonerism(\"Hello\", \"world!\"))\n",
    "# should print wello Horld!\n",
    "print(make_spoonerism(\"a\", \"b\"))\n",
    "# should print b a"
   ]
  },
  {
   "cell_type": "code",
   "execution_count": 7,
   "metadata": {},
   "outputs": [
    {
     "name": "stdout",
     "output_type": "stream",
     "text": [
      "Codecademy!!!!!!!!!!\n",
      "Codecademy is the best place to learn\n"
     ]
    }
   ],
   "source": [
    "\"\"\"\n",
    "Create a function that has one string as parameter.\n",
    "This function should add exclamation points to the end \n",
    "of word until word is 20 characters long. \n",
    "If word is already at least 20 characters long, just return word.\n",
    "\"\"\"\n",
    "\n",
    "def add_exclamation(word):\n",
    "    word_length = len(word)\n",
    "    \n",
    "    if word_length == 20:\n",
    "        return word\n",
    "    else:\n",
    "        remaining_chars = 20 - len(word)\n",
    "        exclamations = \"!\" * remaining_chars\n",
    "        return word + exclamations\n",
    "\n",
    "# Uncomment these function calls to test your function:\n",
    "print(add_exclamation(\"Codecademy\"))\n",
    "# should print Codecademy!!!!!!!!!!\n",
    "print(add_exclamation(\"Codecademy is the best place to learn\"))\n",
    "# should print Codecademy is the best place to learn"
   ]
  }
 ],
 "metadata": {
  "interpreter": {
   "hash": "aee8b7b246df8f9039afb4144a1f6fd8d2ca17a180786b69acc140d282b71a49"
  },
  "kernelspec": {
   "display_name": "Python 3.9.7 64-bit",
   "language": "python",
   "name": "python3"
  },
  "language_info": {
   "codemirror_mode": {
    "name": "ipython",
    "version": 3
   },
   "file_extension": ".py",
   "mimetype": "text/x-python",
   "name": "python",
   "nbconvert_exporter": "python",
   "pygments_lexer": "ipython3",
   "version": "3.9.7"
  },
  "orig_nbformat": 4
 },
 "nbformat": 4,
 "nbformat_minor": 2
}
