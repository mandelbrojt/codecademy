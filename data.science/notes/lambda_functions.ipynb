{
 "cells": [
  {
   "cell_type": "markdown",
   "metadata": {},
   "source": [
    "# Lambda Functions"
   ]
  },
  {
   "cell_type": "code",
   "execution_count": 10,
   "metadata": {},
   "outputs": [
    {
     "name": "stdout",
     "output_type": "stream",
     "text": [
      "100\n",
      "305.0\n"
     ]
    }
   ],
   "source": [
    "# Creates a one line function that multiplies any number by 10\n",
    "multiply_ten = lambda number: number * 10\n",
    "\n",
    "# tests function output\n",
    "print(multiply_ten(10))\n",
    "print(multiply_ten(30.50))"
   ]
  },
  {
   "cell_type": "code",
   "execution_count": 12,
   "metadata": {},
   "outputs": [
    {
     "data": {
      "text/plain": [
       "'Temperature is okay'"
      ]
     },
     "execution_count": 12,
     "metadata": {},
     "output_type": "execute_result"
    }
   ],
   "source": [
    "# Create a function that determines if a person has temperature\n",
    "has_temperature = lambda temperature: \"Has fever!\" if temperature > 37 else \"Temperature is okay\"\n",
    "\n",
    "# ask user for input on its body temperature\n",
    "temperature = int(input(\"What is your body temperature (in Celsius)?: \"))\n",
    "\n",
    "# tests function output\n",
    "has_temperature(temperature)"
   ]
  },
  {
   "cell_type": "code",
   "execution_count": 13,
   "metadata": {},
   "outputs": [
    {
     "name": "stdout",
     "output_type": "stream",
     "text": [
      "False\n",
      "True\n"
     ]
    }
   ],
   "source": [
    "# takes a string and evaluates if it is more than 12 characters long\n",
    "long_string = lambda str: True if len(str) > 12 else False\n",
    "\n",
    "print(long_string(\"short\"))\n",
    "print(long_string(\"photosynthesis\"))\n"
   ]
  },
  {
   "cell_type": "code",
   "execution_count": 14,
   "metadata": {},
   "outputs": [
    {
     "name": "stdout",
     "output_type": "stream",
     "text": [
      "True\n",
      "False\n"
     ]
    }
   ],
   "source": [
    "# takes a string and evaluates if the las character is the letter \"a\"\n",
    "ends_in_a = lambda str: True if str[-1] == \"a\" else False\n",
    "\n",
    "# tests function output\n",
    "print(ends_in_a(\"data\"))\n",
    "print(ends_in_a(\"aardvark\"))"
   ]
  },
  {
   "cell_type": "code",
   "execution_count": null,
   "metadata": {},
   "outputs": [],
   "source": [
    "# takes a number and evaluates if it is a multiple of three\n",
    "multiple_of_three = lambda num: \"multiple of three\" if num % 3 == 0 else \"not a multiple\"\n",
    "\n",
    "# tests function output\n",
    "print(multiple_of_three(9))\n",
    "print(multiple_of_three(10))"
   ]
  },
  {
   "cell_type": "code",
   "execution_count": 1,
   "metadata": {},
   "outputs": [
    {
     "name": "stdout",
     "output_type": "stream",
     "text": [
      "13\n",
      "110\n"
     ]
    }
   ],
   "source": [
    "import random\n",
    "\n",
    "# takes a number and adds a random integer to it\n",
    "add_random = lambda num: num + random.randint(1,10)\n",
    "\n",
    "# tests function output\n",
    "print(add_random(5))\n",
    "print(add_random(100))"
   ]
  }
 ],
 "metadata": {
  "kernelspec": {
   "display_name": "Python 3.9.7 64-bit",
   "language": "python",
   "name": "python3"
  },
  "language_info": {
   "codemirror_mode": {
    "name": "ipython",
    "version": 3
   },
   "file_extension": ".py",
   "mimetype": "text/x-python",
   "name": "python",
   "nbconvert_exporter": "python",
   "pygments_lexer": "ipython3",
   "version": "3.9.7"
  },
  "orig_nbformat": 4,
  "vscode": {
   "interpreter": {
    "hash": "aee8b7b246df8f9039afb4144a1f6fd8d2ca17a180786b69acc140d282b71a49"
   }
  }
 },
 "nbformat": 4,
 "nbformat_minor": 2
}
