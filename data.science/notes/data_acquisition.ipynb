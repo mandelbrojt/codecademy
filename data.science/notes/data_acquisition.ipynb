{
 "cells": [
  {
   "cell_type": "markdown",
   "metadata": {},
   "source": [
    "# Application Programming Interface\n",
    "\n",
    "## Public APIs\n",
    "- [US Census Bureau APPI](https://www.census.gov/data/developers/data-sets.html)"
   ]
  },
  {
   "cell_type": "code",
   "execution_count": 1,
   "metadata": {},
   "outputs": [],
   "source": [
    "# Import requests library to perform HTTP requests\n",
    "import requests\n",
    "\n",
    "# Number of commuters\n",
    "num_commuters = 'B08303_001E'\n",
    "\n",
    "# Name of geographical level\n",
    "geo_name = 'NAME'\n",
    "\n",
    "# Type of geographical data\n",
    "geo_level = 'state'\n",
    "\n",
    "# Number of geographical data\n",
    "amt = '*'\n",
    "\n",
    "url = 'https://api.census.gov/data/2020/acs/acs5?get={name},{commuters}&for={level}:{amt}'.format(name=geo_name, commuters=num_commuters, level=geo_level, amt=amt)\n",
    "\n",
    "# Make a GET request of the constructed URL\n",
    "r = requests.get(url)"
   ]
  },
  {
   "cell_type": "code",
   "execution_count": 18,
   "metadata": {},
   "outputs": [
    {
     "name": "stdout",
     "output_type": "stream",
     "text": [
      "<class 'str'>\n",
      "<class 'list'>\n"
     ]
    }
   ],
   "source": [
    "# Access data as JSON string\n",
    "r_text = r.text\n",
    "print(type(r_text))\n",
    "\n",
    "# Access decoded JSON data as Python list\n",
    "r_json = r.json()\n",
    "print(type(r_json))"
   ]
  },
  {
   "cell_type": "code",
   "execution_count": 21,
   "metadata": {},
   "outputs": [],
   "source": [
    "# Import CSV library\n",
    "import csv\n",
    "\n",
    "''' Convert r_json to CSV, write each sublist as a comma-separated row of data to file.\n",
    "\n",
    "1. Create a variable called 'file'. \n",
    "2. Use open() to open a file.\n",
    "3. Open it with mode='w' for writing mode. \n",
    "4. The newline='' ensures that newlines are always interpreted correctly.\n",
    "5. Use the writer() function from the csv library to make a writer object. \n",
    "6. Use the writerows() method to write each row of data into comma-separated format.\n",
    "'''\n",
    "with open('census.csv', mode='w', newline='') as file:\n",
    "    writer = csv.writer(file)\n",
    "    writer.writerows(r_json)"
   ]
  },
  {
   "cell_type": "code",
   "execution_count": 28,
   "metadata": {},
   "outputs": [
    {
     "name": "stdout",
     "output_type": "stream",
     "text": [
      "            name  total_commuters  state_id\n",
      "0   Pennsylvania          5652158        42\n",
      "1     California         16710195         6\n",
      "2  West Virginia           697042        54\n",
      "3           Utah          1378826        49\n",
      "4       New York          8584828        36\n"
     ]
    }
   ],
   "source": [
    "# Import pandas package\n",
    "import pandas as pd\n",
    "\n",
    "# Read the CSV data into a DataFrame object\n",
    "census_df = pd.read_csv(\"census.csv\")\n",
    "\n",
    "# Rename columns\n",
    "census_df.columns = ['name', 'total_commuters', 'state_id']\n",
    "\n",
    "# Preview the first 5 rows of the dataframe\n",
    "print(census_df.head())\n"
   ]
  }
 ],
 "metadata": {
  "interpreter": {
   "hash": "aee8b7b246df8f9039afb4144a1f6fd8d2ca17a180786b69acc140d282b71a49"
  },
  "kernelspec": {
   "display_name": "Python 3.9.7 64-bit",
   "language": "python",
   "name": "python3"
  },
  "language_info": {
   "codemirror_mode": {
    "name": "ipython",
    "version": 3
   },
   "file_extension": ".py",
   "mimetype": "text/x-python",
   "name": "python",
   "nbconvert_exporter": "python",
   "pygments_lexer": "ipython3",
   "version": "3.9.7"
  },
  "orig_nbformat": 4
 },
 "nbformat": 4,
 "nbformat_minor": 2
}
