{
 "cells": [
  {
   "cell_type": "markdown",
   "metadata": {},
   "source": [
    "# Introduction to Bugs"
   ]
  },
  {
   "cell_type": "markdown",
   "metadata": {},
   "source": [
    "- `Bugs`: when programs throw `errors` that we didn’t expect to encounter.\n",
    "\n",
    "- `Debugging`: the process of updating the program so that it no longer produces bugs.\n",
    "\n",
    "- Errors in Python programs will be pointed to the location where it occurred with a `^` character.\n",
    "\n",
    "\n",
    "*\"What makes a programmer successful isn’t avoiding errors, it’s knowing how to solve them\".*"
   ]
  },
  {
   "cell_type": "markdown",
   "metadata": {},
   "source": [
    "## Python Error Classification\n",
    "\n",
    "- `SyntaxError`: Error caused by not following the proper structure (syntax) of the language.\n",
    "- `NameError`: Errors reported when the interpreter detects a variable that is unknown.\n",
    "- `TypeError`: Errors thrown when an operation is applied to an object of an inappropriate type."
   ]
  },
  {
   "cell_type": "markdown",
   "metadata": {},
   "source": [
    "### Syntax Errors\n",
    "\n",
    "`SyntaxError` means there is something wrong with the way your program is written — punctuation that does not belong, a command where it is not expected, or a missing parenthesis can all trigger a SyntaxError.\n",
    "\n",
    "Some common syntax errors are:\n",
    "\n",
    "- Misspelling a Python `keyword`.\n",
    "- Missing colon `:`.\n",
    "- Missing closing parenthesis `)`, square bracket `]`, or curly brace `}`."
   ]
  },
  {
   "cell_type": "markdown",
   "metadata": {},
   "source": [
    "### Name Errors\n",
    "\n",
    "A `NameError` is reported by the Python interpreter when it detects a variable that is unknown.\n",
    "\n",
    "Some common name errors are:\n",
    "\n",
    "- Misspelling a variable name.\n",
    "- Forgetting to define a variable."
   ]
  },
  {
   "cell_type": "markdown",
   "metadata": {},
   "source": [
    "### Type Errors\n",
    "\n",
    "A `TypeError` is reported by the Python interpreter when an operation is applied to a variable of an inappropriate type.\n",
    "\n",
    "Some common type errors are:\n",
    "\n",
    "- Accidentally adding or subtracting a string value.\n",
    "- Call a function on something of the incorrect type."
   ]
  }
 ],
 "metadata": {
  "interpreter": {
   "hash": "aee8b7b246df8f9039afb4144a1f6fd8d2ca17a180786b69acc140d282b71a49"
  },
  "kernelspec": {
   "display_name": "Python 3.9.4 64-bit",
   "language": "python",
   "name": "python3"
  },
  "language_info": {
   "name": "python",
   "version": "3.9.4"
  },
  "orig_nbformat": 4
 },
 "nbformat": 4,
 "nbformat_minor": 2
}
