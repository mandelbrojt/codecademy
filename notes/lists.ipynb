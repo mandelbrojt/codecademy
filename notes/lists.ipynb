{
 "cells": [
  {
   "cell_type": "markdown",
   "id": "c9da76d4-067a-4cd8-a312-b0087b999975",
   "metadata": {},
   "source": [
    "# Common Sequence Operations"
   ]
  },
  {
   "cell_type": "markdown",
   "id": "6e4d9e5f-7300-432b-94de-3fd339270374",
   "metadata": {},
   "source": [
    "|        Operation       |                                      Result                                      |\n",
    "|:----------------------:|:--------------------------------------------------------------------------------:|\n",
    "|        `x in s`        | True if an item of s is equal to x, else False                                   |\n",
    "|      `x not in s`      | False if an item of s is equal to x, else True                                   |\n",
    "|        `s` + `t`       | the concatenation of s and t                                                     |\n",
    "| `s` * `n` or `n` * `s` | equivalent to adding s to itself n times                                         |\n",
    "|         `s[i]`         | ith item of s, origin 0                                                          |\n",
    "|        `s[i:j]`        | slice of s from i to j                                                           |\n",
    "|       `s[i:j:k]`       | slice of s from i to j with step k                                               |\n",
    "|        `len(s)`        | length of s                                                                      |\n",
    "|        `min(s)`        | smallest item of s                                                               |\n",
    "|        `max(s)`        | largest item of s                                                                |\n",
    "| `s.index(x[, i[, j]])` | index of the first occurrence of x in s (at or after index i and before index j) |\n",
    "|      `s.count(x)`      | total number of occurrences of x in s                                            |"
   ]
  },
  {
   "cell_type": "markdown",
   "id": "bf0b79bd-e043-4d4a-90f4-3623db65c2f4",
   "metadata": {},
   "source": [
    "# List Properties"
   ]
  },
  {
   "cell_type": "markdown",
   "id": "01d233fc-f3d9-40be-80d8-3ef14186c20a",
   "metadata": {},
   "source": [
    "A `list` is one of the many built-in data structures that allows us to work with **a collection of data in sequential order**.\n",
    "<br>\n",
    "1. A list begins and ends with square brackets `[]`.\n",
    "2. Each item is separated by a comma `,`\n",
    "3. It’s considered good practice to **insert a space `\" \"` after each comma**."
   ]
  },
  {
   "cell_type": "code",
   "execution_count": 3,
   "id": "b5b8c786-8564-4b25-abec-9eba957f9bc7",
   "metadata": {},
   "outputs": [
    {
     "name": "stdout",
     "output_type": "stream",
     "text": [
      "['Sam', 67, 85.5, True]\n",
      "<class 'list'>\n"
     ]
    }
   ],
   "source": [
    "# A list with 4 different data-types\n",
    "list2 = [\"Sam\", 67, 85.5, True]\n",
    "\n",
    "# Print list elements\n",
    "print(list2)\n",
    "\n",
    "# Print list type\n",
    "print(type(list2))"
   ]
  },
  {
   "cell_type": "markdown",
   "id": "e437f00b-aba0-4e29-ab46-1b319d6f61e4",
   "metadata": {},
   "source": [
    "- Lists can contain any data type in Python.\n",
    "- You can create **empty lists**."
   ]
  },
  {
   "cell_type": "code",
   "execution_count": 4,
   "id": "ac942b73-ae1f-4886-97d3-8b12fd75c404",
   "metadata": {},
   "outputs": [],
   "source": [
    "# creating an empty list implicitly\n",
    "empty_list1 = []\n",
    "\n",
    "# creating an empty list explicitly\n",
    "empty_list2 = list()"
   ]
  },
  {
   "cell_type": "markdown",
   "id": "efc441cc-61d3-42a7-a4e7-d0f3464d57d6",
   "metadata": {},
   "source": [
    "# Lists Methods and Functions"
   ]
  },
  {
   "cell_type": "markdown",
   "id": "3b7a4bdb-fa27-47cc-a018-45a31ac51f75",
   "metadata": {},
   "source": [
    "- For any specific data-type (`strings`, `booleans`, `lists`, etc. ) there is **built-in functionality** that we can use to **create**, **manipulate**, and even **delete** our data.\n",
    "\n",
    "- For lists, methods will follow the form of `list.method(input)`.\n",
    "- Some methods will require an input value that will go between the parenthesis of the method `( )`."
   ]
  },
  {
   "cell_type": "markdown",
   "id": "b9e43ad4-8ea8-48d9-bbce-16ac545c5ef7",
   "metadata": {},
   "source": [
    "## `.append()`"
   ]
  },
  {
   "cell_type": "markdown",
   "id": "da0036cf-6392-4f7b-954a-75f1bd2e900c",
   "metadata": {},
   "source": [
    "- **Add ONE item to the end of a list**.  "
   ]
  },
  {
   "cell_type": "code",
   "execution_count": 25,
   "id": "9a108c43-ce4b-4551-84ec-c79777b82d07",
   "metadata": {},
   "outputs": [
    {
     "name": "stdout",
     "output_type": "stream",
     "text": [
      "Initial list:  [1, 2, 3, 4]\n",
      "\n",
      "Add an element to initial list:  [1, 2, 3, 4, 5]\n",
      "\n",
      "Remove an element from initial list:  [2, 3, 4, 5]\n"
     ]
    }
   ],
   "source": [
    "#Creating a list implicitly\n",
    "example_list = [1, 2, 3, 4]\n",
    "print(\"Initial list: \", example_list)\n",
    "print()\n",
    "\n",
    "#Using Append\n",
    "example_list.append(5)\n",
    "print(\"Add an element to initial list: \", example_list)\n",
    "print()\n",
    "\n",
    "#Using Remove\n",
    "example_list.remove(1)\n",
    "print(\"Remove an element from initial list: \", example_list)"
   ]
  },
  {
   "cell_type": "code",
   "execution_count": 16,
   "id": "1f9e4621-235c-46b5-b02e-1aa175dfdff9",
   "metadata": {},
   "outputs": [
    {
     "name": "stdout",
     "output_type": "stream",
     "text": [
      "['daisies', 'periwinkle']\n",
      "['daisies', 'periwinkle', 'tulips', 'roses']\n"
     ]
    }
   ],
   "source": [
    "orders = [\"daisies\", \"periwinkle\"]\n",
    "print(orders)\n",
    "\n",
    "orders.append(\"tulips\")\n",
    "orders.append(\"roses\")\n",
    "print(orders)"
   ]
  },
  {
   "cell_type": "markdown",
   "id": "63766d66-a962-4e33-80ce-5a656340061d",
   "metadata": {},
   "source": [
    "## `.insert()`"
   ]
  },
  {
   "cell_type": "markdown",
   "id": "42fc38fe-d3cb-4f35-b281-d76926b97914",
   "metadata": {},
   "source": [
    "- Insert an item at a given position. The order and number of the inputs is important.\n",
    "    - The first argument is the index you want to insert into.\n",
    "    - The second argument is the element you want to insert at the specified index.\n",
    "- This method will handle shifting over elements and can be used with negative indices."
   ]
  },
  {
   "cell_type": "code",
   "execution_count": 7,
   "id": "ba7c3485-2f55-434d-9e23-e52fda86fca7",
   "metadata": {},
   "outputs": [
    {
     "name": "stdout",
     "output_type": "stream",
     "text": [
      "['Mango', 'Filet Mignon', 'Chocolate Milk']\n",
      "['Pineapple', 'Mango', 'Filet Mignon', 'Chocolate Milk']\n"
     ]
    }
   ],
   "source": [
    "# Create a list for a convenience store front display\n",
    "front_display_list = [\"Mango\", \"Filet Mignon\", \"Chocolate Milk\"]\n",
    "print(front_display_list)\n",
    "\n",
    "# Insert an element in the first position of the list\n",
    "front_display_list.insert(0, \"Pineapple\")\n",
    "print(front_display_list)"
   ]
  },
  {
   "cell_type": "markdown",
   "id": "0f291b8e-37d6-4c46-abb4-6ec6b319eb68",
   "metadata": {
    "tags": []
   },
   "source": [
    "## `.pop()`"
   ]
  },
  {
   "cell_type": "markdown",
   "id": "f35e07d9-5978-451d-9c55-f1c735320f3e",
   "metadata": {},
   "source": [
    "- Remove the item at the given position in the list, and return it.  \n",
    "    - If no index is specified, it removes and returns the last item in the list.  \n",
    "    - It takes one single optional argument, which is the index for the element you want to remove.  "
   ]
  },
  {
   "cell_type": "code",
   "execution_count": 1,
   "id": "81b45d6b-5f06-4387-9c9b-ae76a41b1de5",
   "metadata": {},
   "outputs": [
    {
     "name": "stdout",
     "output_type": "stream",
     "text": [
      "['Machine Learning', 'SQL', 'Pandas', 'Algorithms', 'Statistics', 'Python 3']\n",
      "['Machine Learning', 'SQL', 'Pandas', 'Algorithms', 'Statistics']\n",
      "['Machine Learning', 'SQL', 'Pandas', 'Statistics']\n"
     ]
    }
   ],
   "source": [
    "# Create a list with data science topics\n",
    "data_science_topics = [\"Machine Learning\", \"SQL\", \"Pandas\", \"Algorithms\", \"Statistics\", \"Python 3\"]\n",
    "print(data_science_topics)\n",
    "\n",
    "# Remove the last element of the list\n",
    "data_science_topics.pop()\n",
    "print(data_science_topics)\n",
    "\n",
    "# Remove the \"Alogorithms\" topic from the main list\n",
    "data_science_topics.pop(3)\n",
    "print(data_science_topics)"
   ]
  },
  {
   "cell_type": "markdown",
   "id": "e6e15038-126c-4fec-a3cc-e346d838fd9f",
   "metadata": {},
   "source": [
    "## `range()`"
   ]
  },
  {
   "cell_type": "markdown",
   "id": "c5b19049-13e2-4df7-b186-7c0600c61699",
   "metadata": {},
   "source": [
    "- The `range()` built-in function help us to **create a list of consecutive numbers programmatically**.  \n",
    "- If it takes a **single input**, it generates numbers **starting at 0** and **ending at the number before the input**.  \n",
    "- It can also have the form of `range(start, end, step)`.  "
   ]
  },
  {
   "cell_type": "code",
   "execution_count": 3,
   "id": "990f1532-4267-467d-ac3c-847c731ed059",
   "metadata": {},
   "outputs": [
    {
     "name": "stdout",
     "output_type": "stream",
     "text": [
      "[0, 1, 2, 3, 4, 5, 6, 7, 8]\n",
      "[0, 1, 2, 3, 4, 5, 6, 7]\n"
     ]
    }
   ],
   "source": [
    "# Create a list from 0 to 9\n",
    "number_list = range(9)\n",
    "print(list(number_list))\n",
    "\n",
    "# Create a list from 0 to 7\n",
    "zero_to_seven = range(8)\n",
    "print(list(zero_to_seven))"
   ]
  },
  {
   "cell_type": "code",
   "execution_count": 6,
   "id": "ae2165b2-6d5e-4207-9e85-d37a625a56b9",
   "metadata": {
    "tags": []
   },
   "outputs": [
    {
     "name": "stdout",
     "output_type": "stream",
     "text": [
      "[5, 8, 11, 14]\n",
      "[0, 5, 10, 15, 20, 25, 30, 35]\n"
     ]
    }
   ],
   "source": [
    "# Create a list that starts at 5, ends before 15 and adds up by 3\n",
    "range_five_three = range(5, 15, 3)\n",
    "print(list(range_five_three))\n",
    "\n",
    "# Create a list that starts at 0, ends before 15 and adds up by 5\n",
    "range_diff_five = range(0, 40, 5)\n",
    "print(list(range_diff_five))"
   ]
  },
  {
   "cell_type": "markdown",
   "id": "f2feda36-1638-4c4c-93b4-1990c764b945",
   "metadata": {},
   "source": [
    "## `len()`"
   ]
  },
  {
   "cell_type": "markdown",
   "id": "782675c0-2c07-4d3b-b63f-f9a2842e25ae",
   "metadata": {},
   "source": [
    "- When we apply `len()` to a list, we get the **number of elements in that list**.  \n",
    "-  Range objects do not need to be converted to lists in order to determine their length.  "
   ]
  },
  {
   "cell_type": "code",
   "execution_count": 7,
   "id": "40e9fa3e-cd42-43fb-86cb-e7dc8508f14c",
   "metadata": {},
   "outputs": [
    {
     "name": "stdout",
     "output_type": "stream",
     "text": [
      "18\n",
      "30\n"
     ]
    }
   ],
   "source": [
    "long_list = [1, 5, 6, 7, -23, 69.5, True, \"very\", \"long\", \"list\", \"that\", \"keeps\", \"going.\", \"Let's\", \"practice\", \"getting\", \"the\", \"length\"]\n",
    "\n",
    "range_list = range(2, 3000, 100)\n",
    "\n",
    "# Your code below: \n",
    "long_list_len = len(long_list)\n",
    "print(long_list_len)\n",
    "\n",
    "range_list_length = len(range_list)\n",
    "print(range_list_length)"
   ]
  },
  {
   "cell_type": "markdown",
   "id": "e777ab69-c4ec-431b-9dfd-a2d70442d8de",
   "metadata": {},
   "source": [
    "## `.count()`"
   ]
  },
  {
   "cell_type": "markdown",
   "id": "db9ef3a6-445a-40b4-8e95-0214207181df",
   "metadata": {},
   "source": [
    "- If we want to know **how many times an element appears** in a list we can use the method called `.count()`.  \n",
    "\n",
    "- If the item being counted isn’t in the list, the count will be 0.  \n",
    "\n",
    "- Since `.count()` returns a value, we can assign it to a variable to use it.  \n",
    "\n",
    "- We can also use `.count()` to count element appearances in a **two-dimensional list**."
   ]
  },
  {
   "cell_type": "code",
   "execution_count": 12,
   "id": "b9753b0c-5e0e-4d0e-91b3-246fb265cc5c",
   "metadata": {
    "tags": []
   },
   "outputs": [
    {
     "name": "stdout",
     "output_type": "stream",
     "text": [
      "4\n",
      "2\n",
      "2\n"
     ]
    }
   ],
   "source": [
    "# Create a list containing letters\n",
    "letters = [\"m\", \"i\", \"s\", \"s\", \"i\", \"s\", \"s\", \"i\", \"p\", \"p\", \"i\"]\n",
    "\n",
    "# Count and print the number of occurrences of the element \"i\"\n",
    "num_i = letters.count(\"i\")\n",
    "print(num_i)\n",
    "\n",
    "# Create a two-dimensional list\n",
    "number_collection = [[100, 200], [100, 200], [475, 29], [34, 34]]\n",
    "\n",
    "# Count and print the number of occurrences of the sublist [100,200]\n",
    "num_pairs = number_collection.count([100, 200])\n",
    "print(num_pairs)\n",
    "\n",
    "# Create a two-dimensional list comprehension\n",
    "friends = [[\"Sam\", 12], [\"Ron\", 17], [\"Josh\", 12]]\n",
    "\n",
    "# Count and print the number of occurrences of the number 12\n",
    "age_12_count = [age for name, age in friends].count(12)\n",
    "print(age_12_count)"
   ]
  },
  {
   "cell_type": "markdown",
   "id": "99a7fe27-3b7f-40e1-934a-5bbc4132139a",
   "metadata": {},
   "source": [
    "## `.sort()`"
   ]
  },
  {
   "cell_type": "markdown",
   "id": "1938f6d1-05d4-47ad-beeb-865c8eb3dea5",
   "metadata": {},
   "source": [
    "- We can **sort a list** using the method `.sort()`.  \n",
    "    - By default it sorts a list by alphabetical order.\n",
    "    - Use `list.sort(reverse=True)` to sort in reverse order.  \n",
    "\n",
    "\n",
    "- The `.sort()` method **does not return any value** and thus does not need to be assigned to a variable since **it modifies the list directly**. If we do assign the result of the method, it would assign the value of `None` to the variable.  "
   ]
  },
  {
   "cell_type": "code",
   "execution_count": 13,
   "id": "3dca36b4-beec-4753-9082-b20f8ebe3bc9",
   "metadata": {},
   "outputs": [
    {
     "name": "stdout",
     "output_type": "stream",
     "text": [
      "['10 Downing St.', '12 Grimmauld Place', '1600 Pennsylvania Ave', '221 B Baker St.', '42 Wallaby Way', '742 Evergreen Terrace']\n",
      "['Albus', 'Harry', 'Hermione', 'Ron', 'Sirius']\n",
      "['Rome', 'Paris', 'New York', 'Los Angeles', 'London']\n"
     ]
    }
   ],
   "source": [
    "# Create a list of addresses\n",
    "addresses = [\"221 B Baker St.\", \"42 Wallaby Way\", \"12 Grimmauld Place\", \"742 Evergreen Terrace\", \"1600 Pennsylvania Ave\", \"10 Downing St.\"]\n",
    "\n",
    "# Sort the addresses list in alphabetical order and print the resulting list\n",
    "addresses.sort()\n",
    "print(addresses)\n",
    "\n",
    "# Crea a list with names\n",
    "names = [\"Ron\", \"Hermione\", \"Harry\", \"Albus\", \"Sirius\"]\n",
    "\n",
    "# Sort the names in alphabetical order and print the resulting list\n",
    "names.sort()\n",
    "print(names)\n",
    "\n",
    "# Create a list of cities\n",
    "cities = [\"London\", \"Paris\", \"Rome\", \"Los Angeles\", \"New York\"]\n",
    "\n",
    "# Sort the city names in reverse order (Z to A) and print the resulting list\n",
    "cities.sort(reverse=True)\n",
    "print(cities)"
   ]
  },
  {
   "cell_type": "markdown",
   "id": "274dca90-6afe-467c-bb40-a22839bc92e1",
   "metadata": {},
   "source": [
    "# Slicing Lists"
   ]
  },
  {
   "cell_type": "markdown",
   "id": "3423ca1b-94e5-4f1f-ba6d-b1c6b5682d03",
   "metadata": {},
   "source": [
    "- Extracting a portion of a list is referred to as **slicing**.  \n",
    "\n",
    "- **Slicing** uses the following **syntax**: `list[start:end]`, where:  \n",
    "    - `start` is the **index of the first element that we want to include** in our selection.  \n",
    "    - `end` is the **index of one more than the last index that we want to include**.  "
   ]
  },
  {
   "cell_type": "code",
   "execution_count": 8,
   "id": "440103ce-4571-4c92-a150-dadd7c63d176",
   "metadata": {},
   "outputs": [
    {
     "name": "stdout",
     "output_type": "stream",
     "text": [
      "['shirt', 'shirt']\n",
      "['pants', 'pants']\n"
     ]
    }
   ],
   "source": [
    "# Create a list containing the elements of a suitcase\n",
    "suitcase = [\"shirt\", \"shirt\", \"pants\", \"pants\", \"pajamas\", \"books\"]\n",
    "\n",
    "# Slice the first two elements\n",
    "beginning = suitcase[0:2]\n",
    "print(beginning)\n",
    "# Your code below: \n",
    "\n",
    "# Slice the middle elements of the suitcase list\n",
    "middle = suitcase[2:4]\n",
    "print(middle)"
   ]
  },
  {
   "cell_type": "markdown",
   "id": "9d1289a3-a84e-4ba0-993e-d5d1cc180773",
   "metadata": {},
   "source": [
    "- If we want to select the `first n elements` of a list, we could use the following syntax: `list[:n]`.  \n",
    "    - This syntax would **start** slicing **from index `0`** and up to **index `n`**\n",
    "\n",
    "\n",
    "- If we want to slice the last n elements in a list we could use the following syntax: `list[-n:]`.  \n",
    "    - This syntax starts from the end of the list up to the last element of the list.  "
   ]
  },
  {
   "cell_type": "code",
   "execution_count": null,
   "id": "9ee0280e-a81a-41e9-b1ce-c35a59941686",
   "metadata": {},
   "outputs": [],
   "source": [
    "suitcase = [\"shirt\", \"shirt\", \"pants\", \"pants\", \"pajamas\", \"books\"]\n",
    "\n",
    "# Your code below: \n",
    "last_two_elements = suitcase[-2:]\n",
    "print(last_two_elements)\n",
    "\n",
    "slice_off_last_three = suitcase[:-3]\n",
    "print(slice_off_last_three)"
   ]
  },
  {
   "cell_type": "markdown",
   "id": "d90d0709-a2db-45c1-a98d-0e11e67fc03d",
   "metadata": {},
   "source": [
    "# Combine Lists"
   ]
  },
  {
   "cell_type": "markdown",
   "id": "3f4b3c25-9d89-4507-8d3b-5d0f910922f3",
   "metadata": {},
   "source": [
    "- Use `+` to combine two lists (this is **also known as concatenation**).\n",
    "- If a single element will be add with `+`, the element must be set into a list with brackets `[]`."
   ]
  },
  {
   "cell_type": "code",
   "execution_count": 24,
   "id": "d372f5a4-87cc-4eb4-8391-7c708738135f",
   "metadata": {},
   "outputs": [
    {
     "name": "stdout",
     "output_type": "stream",
     "text": [
      "Initial orders:  ['daisy', 'buttercup', 'snapdragon', 'gardenia', 'lily']\n",
      "\n",
      "New orders:  ['lilac', 'iris']\n",
      "\n",
      "Current orders:  ['daisy', 'buttercup', 'snapdragon', 'gardenia', 'lily', 'lilac', 'iris']\n"
     ]
    }
   ],
   "source": [
    "orders = [\"daisy\", \"buttercup\", \"snapdragon\", \"gardenia\", \"lily\"]\n",
    "print(\"Initial orders: \", orders)\n",
    "print()\n",
    "# Create new orders here:\n",
    "new_orders = [\"lilac\", \"iris\"]\n",
    "print(\"New orders: \", new_orders)\n",
    "print()\n",
    "orders_combined = orders + new_orders\n",
    "print(\"Current orders: \", orders_combined)"
   ]
  },
  {
   "cell_type": "markdown",
   "id": "ed55eec7-4b5c-4412-86f9-e3873db9aa2b",
   "metadata": {},
   "source": [
    "# Accessing Lists Elements"
   ]
  },
  {
   "cell_type": "markdown",
   "id": "f2ba59b0-ae6c-485f-8080-0293a88228ba",
   "metadata": {},
   "source": [
    "- The **location** of an **element** in a list is called an **index**.  \n",
    "- Python lists are **zero-indexed**. The first element in a list has index 0.  \n",
    "- **Select a single element** from a list with **square brackets** `[]` and the **index number** of the list item.  \n",
    "- The index `-1` selects the last item of a list.  "
   ]
  },
  {
   "cell_type": "code",
   "execution_count": 5,
   "id": "593e6452-636d-49e4-b3f9-98a4fbda171e",
   "metadata": {},
   "outputs": [
    {
     "name": "stdout",
     "output_type": "stream",
     "text": [
      "The first element of the list is:  Michael\n",
      "\n",
      "The last element of the list is:  Robert\n",
      "\n",
      "The middle element of the list is:  Pam\n"
     ]
    }
   ],
   "source": [
    "# Create a list with employee names\n",
    "employees = [\"Michael\", \"Dwight\", \"Jim\", \"Pam\", \"Ryan\", \"Andy\", \"Robert\"]\n",
    "\n",
    "# Select the first employee\n",
    "first = employees[0]\n",
    "print(\"The first element of the list is: \", first)\n",
    "print()\n",
    "# Select the last employee\n",
    "last = employees[-1]\n",
    "print(\"The last element of the list is: \", last)\n",
    "print()\n",
    "# Select the located at the middle of the list\n",
    "middle = employees[int(len(employees)/2)]\n",
    "print(\"The middle element of the list is: \", middle)"
   ]
  },
  {
   "cell_type": "markdown",
   "id": "cc72553b-dbd4-4f99-af9d-5542d619724c",
   "metadata": {},
   "source": [
    "# Modifying List Elements"
   ]
  },
  {
   "cell_type": "markdown",
   "id": "4f951538-9586-4fbb-b643-baa8b53b4a0d",
   "metadata": {},
   "source": [
    "- To change a value in a list, **reassign the value using the specific index**.   "
   ]
  },
  {
   "cell_type": "code",
   "execution_count": 6,
   "id": "116ad25c-d3b8-4748-a3db-1d25b99ff050",
   "metadata": {},
   "outputs": [
    {
     "name": "stdout",
     "output_type": "stream",
     "text": [
      "['Jiho', 'Calla', 'Sonny', 'Alisha']\n",
      "['Jiho', 'Calla', 'Sonny', 'Alex']\n"
     ]
    }
   ],
   "source": [
    "# Create a waitlist of customers\n",
    "garden_waitlist = [\"Jiho\", \"Adam\", \"Sonny\", \"Alisha\"]\n",
    "\n",
    "# Replace Adam with another customer\n",
    "garden_waitlist[1] = \"Calla\"\n",
    "print(garden_waitlist)\n",
    "\n",
    "# Replace Alisha with another customer\n",
    "garden_waitlist[-1] = \"Alex\"\n",
    "print(garden_waitlist)"
   ]
  },
  {
   "cell_type": "markdown",
   "id": "33bd509c-511c-4559-8093-50dde3122d49",
   "metadata": {},
   "source": [
    "## Remove List Elements"
   ]
  },
  {
   "cell_type": "markdown",
   "id": "17797fde-f083-42ec-ae6f-cb0b550f329d",
   "metadata": {},
   "source": [
    "- We can remove elements in a list using the `.remove()` Python method.  \n",
    "- If a list has duplicate elements, only the first instance of the matching element is removed.  \n",
    "- If a list element does not exists and the `.remove()` method is used, an `ValueError: list.remove(x): x not in list` is raised.  "
   ]
  },
  {
   "cell_type": "code",
   "execution_count": 8,
   "id": "99156c4c-d1c8-4451-8514-c808dc8607f7",
   "metadata": {},
   "outputs": [
    {
     "name": "stdout",
     "output_type": "stream",
     "text": [
      "['Celery', 'Orange Juice', 'Orange', 'Flatbread']\n",
      "['Celery', 'Orange Juice', 'Orange']\n",
      "['Orange', 'Apple', 'Mango', 'Broccoli', 'Mango']\n",
      "['Orange', 'Apple', 'Broccoli', 'Mango']\n"
     ]
    }
   ],
   "source": [
    "# Your code below: \n",
    "order_list = [\"Celery\", \"Orange Juice\", \"Orange\", \"Flatbread\"]\n",
    "print(order_list)\n",
    "\n",
    "order_list.remove(\"Flatbread\")\n",
    "print(order_list)\n",
    "\n",
    "new_store_order_list = [\"Orange\", \"Apple\", \"Mango\", \"Broccoli\", \"Mango\"]\n",
    "print(new_store_order_list)\n",
    "\n",
    "new_store_order_list.remove(\"Mango\")\n",
    "print(new_store_order_list)"
   ]
  },
  {
   "cell_type": "markdown",
   "id": "924b89b7-5d4d-42bd-ab11-74f895bbfadf",
   "metadata": {},
   "source": [
    "# Two-Dimensional Lists"
   ]
  },
  {
   "cell_type": "markdown",
   "id": "72f0a9f5-1eb8-4325-8ed6-67cc5c95842e",
   "metadata": {},
   "source": [
    "- A list that contains another lists are referred to as `two-dimensional lists`.  \n",
    "- Two-dimensional lists are useful when trying to represent a two-dimensional array.  "
   ]
  },
  {
   "cell_type": "code",
   "execution_count": 1,
   "id": "29ca4494-a0e3-45db-8858-76b4666951d0",
   "metadata": {},
   "outputs": [
    {
     "name": "stdout",
     "output_type": "stream",
     "text": [
      "[['Jenny', 61], ['Alexus', 70], ['Sam', 67], ['Grace', 64], ['Vik', 68]]\n"
     ]
    }
   ],
   "source": [
    "# Create a two-dimensional list\n",
    "heights = [[\"Jenny\", 61],\n",
    "           [\"Alexus\", 70],\n",
    "           [\"Sam\", 67],\n",
    "           [\"Grace\", 64],\n",
    "           [\"Vik\", 68]]\n",
    "print(heights)"
   ]
  },
  {
   "cell_type": "markdown",
   "id": "4a5ca412",
   "metadata": {},
   "source": [
    "## Accessing Two-Dimensional Lists"
   ]
  },
  {
   "cell_type": "markdown",
   "id": "19a75ede",
   "metadata": {},
   "source": [
    "- Two square brackets are used with the following syntax: `list_name[list_location][element_location]`."
   ]
  },
  {
   "cell_type": "code",
   "execution_count": 2,
   "id": "3063a553-4432-4599-b27a-f94d217705c4",
   "metadata": {},
   "outputs": [
    {
     "name": "stdout",
     "output_type": "stream",
     "text": [
      "[['Jenny', 90], ['Alexus', 85.5], ['Sam', 83], ['Ellie', 101.5]]\n",
      "83\n",
      "101.5\n"
     ]
    }
   ],
   "source": [
    "class_name_test = [[\"Jenny\", 90], [\"Alexus\", 85.5], [\"Sam\", 83], [\"Ellie\", 101.5]]\n",
    "print(class_name_test)\n",
    "\n",
    "# Access an element of a two-dimensional list\n",
    "sams_score = class_name_test[2][1]\n",
    "print(sams_score)\n",
    "\n",
    "# Access an element of a two-dimensional list using negative indices\n",
    "ellies_score = class_name_test[-1][-1]\n",
    "print(ellies_score)"
   ]
  },
  {
   "cell_type": "markdown",
   "id": "4e07c49d-2d6c-4b0c-84b1-586a74d40085",
   "metadata": {},
   "source": [
    "## Modifying Two-Dimensional Lists"
   ]
  },
  {
   "cell_type": "markdown",
   "id": "b89c8b14-c30a-4733-bc06-dbc037e7a0d7",
   "metadata": {},
   "source": [
    "- To change a value in a two-dimensional list, **reassign the value using the specific index**."
   ]
  },
  {
   "cell_type": "code",
   "execution_count": 3,
   "id": "a2709936-03ef-45a4-b274-75b2b5585cf7",
   "metadata": {},
   "outputs": [
    {
     "name": "stdout",
     "output_type": "stream",
     "text": [
      "[['Kenny', 'American', 9], ['Tanya', 'Russian', 9], ['Madison', 'Indian', 8]]\n",
      "[['Ken', 'American', 9], ['Tanya', 'Russian', 9], ['Madison', 'Indian', 8]]\n"
     ]
    }
   ],
   "source": [
    "# Create a two-dimensional list to represent student data\n",
    "incoming_class = [[\"Kenny\", \"American\", 9],\n",
    "                  [\"Tanya\", \"Russian\", 9],\n",
    "                  [\"Madison\", \"Indian\", 7]]\n",
    "\n",
    "# Change the grade value for Madison using positive indices\n",
    "incoming_class[2][2] = 8\n",
    "print(incoming_class)\n",
    "\n",
    "# Change the name of Kenny using negative indices\n",
    "incoming_class[-3][-3] = \"Ken\"\n",
    "print(incoming_class)"
   ]
  },
  {
   "cell_type": "code",
   "execution_count": 4,
   "id": "df41ce74-8439-43c5-8abe-728a676092d5",
   "metadata": {},
   "outputs": [
    {
     "name": "stdout",
     "output_type": "stream",
     "text": [
      "[['Ainsley', 'Small', True], ['Ben', 'Large'], ['Chani', 'Medium', False], ['Depak', 'Medium', False], ['Amit', 'Large', True], ['Karim', 'X-Large', False]]\n"
     ]
    }
   ],
   "source": [
    "customer_data = [[\"Ainsley\", \"Small\", True],\n",
    "                 [\"Ben\", \"Large\", False],\n",
    "                 [\"Chani\", \"Medium\", True],\n",
    "                 [\"Depak\", \"Medium\", False]]\n",
    "\n",
    "# Change Chani's last element value\n",
    "customer_data[2][2] = False\n",
    "\n",
    "# Remove Ben's last element value\n",
    "customer_data[1].remove(False)\n",
    "\n",
    "# Add more customers to the original data\n",
    "customer_data_final = customer_data + [[\"Amit\", \"Large\", True],\n",
    "                                       [\"Karim\", \"X-Large\", False]]\n",
    "print(customer_data_final)"
   ]
  },
  {
   "cell_type": "markdown",
   "id": "625fe84a-40f6-415e-a9ef-d383eb998a3f",
   "metadata": {},
   "source": [
    "# Combining Lists"
   ]
  },
  {
   "cell_type": "markdown",
   "id": "c8af86c5-08f1-4331-9728-e11e27f64dab",
   "metadata": {},
   "source": [
    "## [`zip()`](https://docs.python.org/3/library/functions.html#zip)"
   ]
  },
  {
   "cell_type": "markdown",
   "id": "7250f6e3-f8dd-4d7e-8cff-46d7418e9863",
   "metadata": {},
   "source": [
    "- The `zip()` **combines associated data-sets without needing to rely on multi-dimensional lists**. \n",
    "- It is used to create a **nested list** that **pairs each element** of both lists into a single **zip object**.  \n",
    "- A **zip object** contains the location of a variable in our computer’s memory.  \n",
    "- Use the `list()` function to convert a `zip` object into a `list`. This will be a **list of tuples**.  "
   ]
  },
  {
   "cell_type": "code",
   "execution_count": 8,
   "id": "66189a1e-9c59-4a76-8fb9-83c0252cf9b1",
   "metadata": {},
   "outputs": [
    {
     "name": "stdout",
     "output_type": "stream",
     "text": [
      "<zip object at 0x7ffd21218100>\n",
      "\n",
      "[('Jenny', 61), ('Alexus', 70), ('Sam', 67), ('Grace', 65)]\n"
     ]
    }
   ],
   "source": [
    "names = [\"Jenny\", \"Alexus\", \"Sam\", \"Grace\"]\n",
    "heights = [61, 70, 67, 65]\n",
    "\n",
    "# Merge two lists into a zip object\n",
    "names_and_heights = zip(names, heights)\n",
    "print(names_and_heights)\n",
    "print()\n",
    "# Convert a zip object into a list\n",
    "names_and_heights_list = list(names_and_heights)\n",
    "print(names_and_heights_list)"
   ]
  },
  {
   "cell_type": "markdown",
   "id": "9145de80-02de-4d17-b1bb-754647a32bbc",
   "metadata": {},
   "source": [
    "# Creating Lists with Range"
   ]
  },
  {
   "cell_type": "markdown",
   "id": "d4943db8-a052-4a2d-8f65-0f5d6ae5efe0",
   "metadata": {},
   "source": [
    "- The arguments to the `range()` constructor must be integers.  \n",
    "- `range(start, stop[, step])`.  "
   ]
  },
  {
   "cell_type": "code",
   "execution_count": 3,
   "id": "482dda2f-5f1d-42ee-9f5f-a749f8da0380",
   "metadata": {},
   "outputs": [
    {
     "name": "stdout",
     "output_type": "stream",
     "text": [
      "[0, 1, 2, 3, 4, 5, 6, 7, 8, 9]\n",
      "[1, 2, 3, 4, 5, 6, 7, 8, 9, 10]\n",
      "[0, 5, 10, 15, 20, 25]\n",
      "[0, 3, 6, 9]\n",
      "[0, -1, -2, -3, -4, -5, -6, -7, -8, -9]\n",
      "[]\n",
      "[]\n"
     ]
    }
   ],
   "source": [
    "print(list(range(10)))\n",
    "\n",
    "print(list(range(1, 11)))\n",
    "\n",
    "print(list(range(0, 30, 5)))\n",
    "\n",
    "print(list(range(0, 10, 3)))\n",
    "\n",
    "print(list(range(0, -10, -1)))\n",
    "\n",
    "print(list(range(0)))\n",
    "\n",
    "print(list(range(1, 0)))"
   ]
  },
  {
   "cell_type": "markdown",
   "id": "d6be0a9a-9273-41c8-820c-af0798822f61",
   "metadata": {},
   "source": [
    "# Lists Practice"
   ]
  },
  {
   "cell_type": "code",
   "execution_count": 1,
   "id": "3bb1779e-3e62-4bfd-93ef-8b43e3f9b516",
   "metadata": {},
   "outputs": [],
   "source": [
    "# Function to estimate insurance cost:\n",
    "def estimate_insurance_cost(name, age, sex, bmi, num_of_children, smoker):\n",
    "  estimated_cost = 250*age - 128*sex + 370*bmi + 425*num_of_children + 24000*smoker - 12500\n",
    "  print(name + \"'s Estimated Insurance Cost: \" + str(estimated_cost) + \" dollars.\")\n",
    "  return estimated_cost"
   ]
  },
  {
   "cell_type": "code",
   "execution_count": 2,
   "id": "491d32e8-5a30-47f2-b152-55ccc22ae4cf",
   "metadata": {},
   "outputs": [
    {
     "name": "stdout",
     "output_type": "stream",
     "text": [
      "Maria's Estimated Insurance Cost: 4222.0 dollars.\n",
      "Rohan's Estimated Insurance Cost: 5442.0 dollars.\n",
      "Valentina's Estimated Insurance Cost: 36368.0 dollars.\n",
      "Akira's Estimated Insurance Cost: 2149.0 dollars.\n"
     ]
    }
   ],
   "source": [
    "# Estimate Maria's insurance cost\n",
    "maria_insurance_cost = estimate_insurance_cost(name = \"Maria\", age = 31, sex = 0, bmi = 23.1, num_of_children = 1, smoker = 0)\n",
    "\n",
    "# Estimate Rohan's insurance cost\n",
    "rohan_insurance_cost = estimate_insurance_cost(name = \n",
    "\"Rohan\", age = 25, sex = 1, bmi = 28.5, num_of_children = 3, smoker = 0)\n",
    "\n",
    "# Estimate Valentina's insurance cost\n",
    "valentina_insurance_cost = estimate_insurance_cost(name = \"Valentina\", age = 53, sex = 0, bmi = 31.4, num_of_children = 0, smoker = 1)\n",
    "\n",
    "# Estimate Akira's insurance cost\n",
    "akira_insurance_cost = estimate_insurance_cost(name = \"Akira\", age = 19, sex = 1, bmi = 27.1, num_of_children = 0, smoker = 0)"
   ]
  },
  {
   "cell_type": "code",
   "execution_count": 3,
   "id": "27171d96-88f2-4637-a7b1-abfb54916266",
   "metadata": {},
   "outputs": [
    {
     "name": "stdout",
     "output_type": "stream",
     "text": [
      "Here is the actual insurance cost data: [('Maria', 4150.0), ('Rohan', 5320.0), ('Valentina', 35210.0), ('Akira', 2930.0)]\n"
     ]
    }
   ],
   "source": [
    "# Create a list of names\n",
    "names = [\"Maria\", \"Rohan\", \"Valentina\", \"Akira\"]\n",
    "\n",
    "# Create a list for actual insurance costs\n",
    "insurance_costs = [4150.0, 5320.0, 35210.0, 2930.0]\n",
    "\n",
    "# Merge each name with its actual insurance cost\n",
    "insurance_data = list(zip(names, insurance_costs))\n",
    "\n",
    "print(\"Here is the actual insurance cost data: \" + str(insurance_data))"
   ]
  },
  {
   "cell_type": "code",
   "execution_count": 4,
   "id": "dfadba15-27c6-472a-b12b-89d09ef88b53",
   "metadata": {},
   "outputs": [
    {
     "name": "stdout",
     "output_type": "stream",
     "text": [
      "Here is the estimated insurance cost data:  [('Maria', 4222.0), ('Rohan', 5442.0), ('Valentina', 36368.0), ('Akira', 2149.0)]\n"
     ]
    }
   ],
   "source": [
    "# Create an empty list to add each estimated insurance cost\n",
    "estimated_insurance_data = []\n",
    "\n",
    "estimated_insurance_data.append((\"Maria\", maria_insurance_cost))\n",
    "\n",
    "estimated_insurance_data.append((\"Rohan\", rohan_insurance_cost))\n",
    "\n",
    "estimated_insurance_data.append((\"Valentina\", valentina_insurance_cost))\n",
    "\n",
    "estimated_insurance_data.append((\"Akira\", akira_insurance_cost))\n",
    "\n",
    "print(\"Here is the estimated insurance cost data: \", str(estimated_insurance_data))"
   ]
  },
  {
   "cell_type": "code",
   "execution_count": 5,
   "id": "3bcbada1-046e-4b9a-b2f0-1c2efe085fd1",
   "metadata": {},
   "outputs": [
    {
     "name": "stdout",
     "output_type": "stream",
     "text": [
      "Here is the difference between the estimated insurance cost and the actual insurance cost: [('Maria', 72.0), ('Rohan', 122.0), ('Valentina', 1158.0), ('Akira', -781.0)]\n"
     ]
    }
   ],
   "source": [
    "# Create an empty list to add each difference between actual and estimated insurance cost\n",
    "insurance_cost_difference = []\n",
    "\n",
    "insurance_cost_difference.append((\"Maria\", estimated_insurance_data[0][1] - insurance_data[0][1]))\n",
    "\n",
    "insurance_cost_difference.append((\"Rohan\", estimated_insurance_data[1][1] - insurance_data[1][1]))\n",
    "\n",
    "insurance_cost_difference.append((\"Valentina\", estimated_insurance_data[2][1] - insurance_data[2][1]))\n",
    "\n",
    "insurance_cost_difference.append((\"Akira\", estimated_insurance_data[3][1] - insurance_data[3][1]))\n",
    "\n",
    "print(\"Here is the difference between the estimated insurance cost and the actual insurance cost: \" + str(insurance_cost_difference))"
   ]
  },
  {
   "cell_type": "markdown",
   "id": "e37ef704-0ec5-48d5-a0b8-c8c971eb077b",
   "metadata": {},
   "source": [
    "# Reference"
   ]
  },
  {
   "cell_type": "markdown",
   "id": "5f842deb-0105-4740-9159-1214bf2a8b50",
   "metadata": {},
   "source": [
    "## [List Documentation](https://docs.python.org/3/library/stdtypes.html#lists)"
   ]
  }
 ],
 "metadata": {
  "kernelspec": {
   "display_name": "Python 3",
   "language": "python",
   "name": "python3"
  },
  "language_info": {
   "codemirror_mode": {
    "name": "ipython",
    "version": 3
   },
   "file_extension": ".py",
   "mimetype": "text/x-python",
   "name": "python",
   "nbconvert_exporter": "python",
   "pygments_lexer": "ipython3",
   "version": "3.9.4"
  }
 },
 "nbformat": 4,
 "nbformat_minor": 5
}
