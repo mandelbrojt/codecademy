{
 "cells": [
  {
   "cell_type": "markdown",
   "id": "bf0b79bd-e043-4d4a-90f4-3623db65c2f4",
   "metadata": {},
   "source": [
    "# Properties"
   ]
  },
  {
   "cell_type": "markdown",
   "id": "01d233fc-f3d9-40be-80d8-3ef14186c20a",
   "metadata": {},
   "source": [
    "A `list` is one of the many built-in data structures that allows us to work with **a collection of data in sequential order**.\n",
    "<br>\n",
    "1. A list begins and ends with square brackets `[]`.\n",
    "2. Each item is separated by a comma `,`\n",
    "3. It’s considered good practice to **insert a space `\" \"` after each comma**."
   ]
  },
  {
   "cell_type": "code",
   "execution_count": 3,
   "id": "b5b8c786-8564-4b25-abec-9eba957f9bc7",
   "metadata": {},
   "outputs": [
    {
     "name": "stdout",
     "output_type": "stream",
     "text": [
      "['Sam', 67, 85.5, True]\n",
      "<class 'list'>\n"
     ]
    }
   ],
   "source": [
    "# A list with 4 different data-types\n",
    "list2 = [\"Sam\", 67, 85.5, True]\n",
    "\n",
    "# Print list elements\n",
    "print(list2)\n",
    "\n",
    "# Print list type\n",
    "print(type(list2))"
   ]
  },
  {
   "cell_type": "markdown",
   "id": "e437f00b-aba0-4e29-ab46-1b319d6f61e4",
   "metadata": {},
   "source": [
    "Lists can contain any data type in Python.\n",
    "You can create **empty lists**."
   ]
  },
  {
   "cell_type": "code",
   "execution_count": 4,
   "id": "ac942b73-ae1f-4886-97d3-8b12fd75c404",
   "metadata": {},
   "outputs": [],
   "source": [
    "# creating an empty list implicitly\n",
    "empty_list1 = []\n",
    "\n",
    "# creating an empty list explicitly\n",
    "empty_list2 = list()"
   ]
  },
  {
   "cell_type": "markdown",
   "id": "efc441cc-61d3-42a7-a4e7-d0f3464d57d6",
   "metadata": {},
   "source": [
    "# Methods"
   ]
  },
  {
   "cell_type": "markdown",
   "id": "3b7a4bdb-fa27-47cc-a018-45a31ac51f75",
   "metadata": {},
   "source": [
    "- For any specific data-type (`strings`, `booleans`, `lists`, etc. ) there is **built-in functionality** that we can use to **create**, **manipulate**, and even **delete** our data.\n",
    "\n",
    "- For lists, methods will follow the form of `list_name.method()`.\n",
    "- Some methods will require an input value that will go between the parenthesis of the method `( )`."
   ]
  },
  {
   "cell_type": "code",
   "execution_count": 25,
   "id": "9a108c43-ce4b-4551-84ec-c79777b82d07",
   "metadata": {},
   "outputs": [
    {
     "name": "stdout",
     "output_type": "stream",
     "text": [
      "Initial list:  [1, 2, 3, 4]\n",
      "\n",
      "Add an element to initial list:  [1, 2, 3, 4, 5]\n",
      "\n",
      "Remove an element from initial list:  [2, 3, 4, 5]\n"
     ]
    }
   ],
   "source": [
    "#Creating a list implicitly\n",
    "example_list = [1, 2, 3, 4]\n",
    "print(\"Initial list: \", example_list)\n",
    "print()\n",
    "\n",
    "#Using Append\n",
    "example_list.append(5)\n",
    "print(\"Add an element to initial list: \", example_list)\n",
    "print()\n",
    "\n",
    "#Using Remove\n",
    "example_list.remove(1)\n",
    "print(\"Remove an element from initial list: \", example_list)"
   ]
  },
  {
   "cell_type": "markdown",
   "id": "da0036cf-6392-4f7b-954a-75f1bd2e900c",
   "metadata": {},
   "source": [
    "- If `.append()` is applied to a not empty list, the new element is **added to the end of the list**.\n",
    "- The `.append()` function in Python can **only add one item at a time to a list**."
   ]
  },
  {
   "cell_type": "code",
   "execution_count": 16,
   "id": "1f9e4621-235c-46b5-b02e-1aa175dfdff9",
   "metadata": {},
   "outputs": [
    {
     "name": "stdout",
     "output_type": "stream",
     "text": [
      "['daisies', 'periwinkle']\n",
      "['daisies', 'periwinkle', 'tulips', 'roses']\n"
     ]
    }
   ],
   "source": [
    "orders = [\"daisies\", \"periwinkle\"]\n",
    "print(orders)\n",
    "\n",
    "orders.append(\"tulips\")\n",
    "orders.append(\"roses\")\n",
    "print(orders)"
   ]
  },
  {
   "cell_type": "markdown",
   "id": "d90d0709-a2db-45c1-a98d-0e11e67fc03d",
   "metadata": {},
   "source": [
    "# Combine Lists"
   ]
  },
  {
   "cell_type": "markdown",
   "id": "3f4b3c25-9d89-4507-8d3b-5d0f910922f3",
   "metadata": {},
   "source": [
    "- Use `+` to combine two lists (this is **also known as concatenation**).\n",
    "- If a single element will be add with `+`, the element must be set into a list with brackets `[]`."
   ]
  },
  {
   "cell_type": "code",
   "execution_count": 24,
   "id": "d372f5a4-87cc-4eb4-8391-7c708738135f",
   "metadata": {},
   "outputs": [
    {
     "name": "stdout",
     "output_type": "stream",
     "text": [
      "Initial orders:  ['daisy', 'buttercup', 'snapdragon', 'gardenia', 'lily']\n",
      "\n",
      "New orders:  ['lilac', 'iris']\n",
      "\n",
      "Current orders:  ['daisy', 'buttercup', 'snapdragon', 'gardenia', 'lily', 'lilac', 'iris']\n"
     ]
    }
   ],
   "source": [
    "orders = [\"daisy\", \"buttercup\", \"snapdragon\", \"gardenia\", \"lily\"]\n",
    "print(\"Initial orders: \", orders)\n",
    "print()\n",
    "# Create new orders here:\n",
    "new_orders = [\"lilac\", \"iris\"]\n",
    "print(\"New orders: \", new_orders)\n",
    "print()\n",
    "orders_combined = orders + new_orders\n",
    "print(\"Current orders: \", orders_combined)"
   ]
  },
  {
   "cell_type": "code",
   "execution_count": null,
   "id": "c76bcf4a-963c-4567-971c-818c8368fc73",
   "metadata": {},
   "outputs": [],
   "source": []
  }
 ],
 "metadata": {
  "kernelspec": {
   "display_name": "Python 3",
   "language": "python",
   "name": "python3"
  },
  "language_info": {
   "codemirror_mode": {
    "name": "ipython",
    "version": 3
   },
   "file_extension": ".py",
   "mimetype": "text/x-python",
   "name": "python",
   "nbconvert_exporter": "python",
   "pygments_lexer": "ipython3",
   "version": "3.8.8"
  }
 },
 "nbformat": 4,
 "nbformat_minor": 5
}
