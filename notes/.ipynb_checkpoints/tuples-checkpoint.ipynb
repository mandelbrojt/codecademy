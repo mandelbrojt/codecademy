{
 "cells": [
  {
   "cell_type": "markdown",
   "id": "c20ccb76-229b-4045-a858-cdbecb14271e",
   "metadata": {},
   "source": [
    "# Properties"
   ]
  },
  {
   "cell_type": "markdown",
   "id": "ffecc642-d2d0-416f-b9c7-34a47cba8127",
   "metadata": {},
   "source": [
    "- Tuples are **immutable sequences**, typically used to **store** collections of **heterogeneous data**.  \n",
    "- What actually makes a tuple is the **comma**, not the parentheses.  \n",
    "- Tuples are **used for** cases where an **immutable sequence of homogeneous data is needed**.  \n",
    "- When data is heterogeneus and access by name is clearer than access by index, `collections.namedtuple()` may be a more appropriate choice than a simple tuple object.  "
   ]
  },
  {
   "cell_type": "code",
   "execution_count": 7,
   "id": "ef5606df-f0f1-48af-9eee-63863346c537",
   "metadata": {},
   "outputs": [
    {
     "name": "stdout",
     "output_type": "stream",
     "text": [
      "()\n",
      "('a',)\n",
      "('a', 'b')\n",
      "('a', 'b', 'c')\n",
      "(1, 2, 3, 4, 5, 6, 7, 8, 9)\n"
     ]
    }
   ],
   "source": [
    "# Creating a tuple: Method 1\n",
    "empty_tuple = ()\n",
    "print(empty_tuple)\n",
    "\n",
    "# Creating a tuple: Method 2\n",
    "singleton_tuple = (\"a\",)\n",
    "print(singleton_tuple)\n",
    "\n",
    "# Creating a tuple: Method 3\n",
    "trailing_comma_tuple = (\"a\",\"b\")\n",
    "print(trailing_comma_tuple)\n",
    "\n",
    "# Creating a tuple: Method 4\n",
    "tuple_function = tuple(\"abc\")\n",
    "print(tuple_function)\n",
    "\n",
    "# Creaeting a tuple: Method 5\n",
    "tuple_iterable = tuple(range(1,10))\n",
    "print(tuple_iterable)"
   ]
  },
  {
   "cell_type": "markdown",
   "id": "f879d951-8bf7-44c2-9072-b3ad881710e0",
   "metadata": {},
   "source": [
    "# Accessing Elements"
   ]
  },
  {
   "cell_type": "code",
   "execution_count": 5,
   "id": "881c3c78-5ad4-4d9d-8f73-e90eeded32a6",
   "metadata": {},
   "outputs": [
    {
     "name": "stdout",
     "output_type": "stream",
     "text": [
      "Programming\n",
      "10\n"
     ]
    }
   ],
   "source": [
    "my_tuple = (\"Programming\", \"is\", \"cool\", 1, 10)\n",
    "\n",
    "# First element\n",
    "print(my_tuple[0])\n",
    "\n",
    "# Last element\n",
    "print(my_tuple[-1])"
   ]
  },
  {
   "cell_type": "markdown",
   "id": "dfe357a1-885f-40c2-b888-47018fa788c7",
   "metadata": {},
   "source": [
    "# Slicing Elements"
   ]
  },
  {
   "cell_type": "code",
   "execution_count": 7,
   "id": "835d5036-1a49-4d8e-a410-6029ea41f2c8",
   "metadata": {},
   "outputs": [
    {
     "name": "stdout",
     "output_type": "stream",
     "text": [
      "('Programming', 'is', 'cool')\n",
      "('cool', 1, 10)\n"
     ]
    }
   ],
   "source": [
    "print(my_tuple[0:3])\n",
    "\n",
    "print(my_tuple[-3:])"
   ]
  },
  {
   "cell_type": "markdown",
   "id": "df2d98bf-ac02-4259-886f-3d27ea181dc0",
   "metadata": {},
   "source": [
    "# Unpacking"
   ]
  },
  {
   "cell_type": "code",
   "execution_count": 8,
   "id": "50ff4f5a-ab53-4e59-99c9-d426b5f7fede",
   "metadata": {},
   "outputs": [
    {
     "name": "stdout",
     "output_type": "stream",
     "text": [
      "Finance\n",
      "Programming\n",
      "Codecademy\n"
     ]
    }
   ],
   "source": [
    "my_tuple = (\"Finance\", \"Programming\", \"Codecademy\")\n",
    "\n",
    "current_career, desired_career, favorite_platform = my_tuple\n",
    "\n",
    "print(current_career)\n",
    "print(desired_career)\n",
    "print(favorite_platform)"
   ]
  },
  {
   "cell_type": "markdown",
   "id": "9601a9b1-b80e-4f81-a987-fd4c38f320b6",
   "metadata": {},
   "source": [
    "# Named Tuples"
   ]
  },
  {
   "cell_type": "markdown",
   "id": "fd014567-b7ef-46f8-8e1d-90ae1d22c92b",
   "metadata": {},
   "source": [
    "- Named tuples assign meaning to each position in a tuple and allow for more readable, self-documenting code.  \n",
    "- They add the ability to **access fields by name instead of position index**.  \n",
    "- The `collections.namedtuple()` returns a new tuple subclass named `typename`. The new subclass is used to create tuple-like objects that have fields accessible by attribute lookup as well as being indexable and iterable.  "
   ]
  },
  {
   "cell_type": "code",
   "execution_count": 10,
   "id": "b65fe00a-e1a6-41bc-a919-5ddbdfbb36d9",
   "metadata": {},
   "outputs": [
    {
     "data": {
      "text/plain": [
       "33"
      ]
     },
     "execution_count": 10,
     "metadata": {},
     "output_type": "execute_result"
    }
   ],
   "source": [
    " # Example of named tuples\n",
    "Point = collections.namedtuple('Point', ['x', 'y'])\n",
    "p = Point(11, y=22)     # instantiate with positional or keyword arguments\n",
    "p[0] + p[1]             # indexable like the plain tuple (11, 22)"
   ]
  }
 ],
 "metadata": {
  "kernelspec": {
   "display_name": "Python 3",
   "language": "python",
   "name": "python3"
  },
  "language_info": {
   "codemirror_mode": {
    "name": "ipython",
    "version": 3
   },
   "file_extension": ".py",
   "mimetype": "text/x-python",
   "name": "python",
   "nbconvert_exporter": "python",
   "pygments_lexer": "ipython3",
   "version": "3.8.8"
  }
 },
 "nbformat": 4,
 "nbformat_minor": 5
}
