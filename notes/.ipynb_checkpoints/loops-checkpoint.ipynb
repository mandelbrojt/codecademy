{
 "cells": [
  {
   "cell_type": "markdown",
   "id": "aa639f81-75e3-4ee7-9d5e-5ed10a408e76",
   "metadata": {},
   "source": [
    "# Definitions\n",
    "\n",
    "In programming, the process of using an **initialization**, **repetitions**, and an **ending condition** is called a `loop`. \n",
    "\n",
    "In a loop, we perform a process of **iteration** (repeating tasks)."
   ]
  },
  {
   "cell_type": "markdown",
   "id": "7dd00a23-3975-4c4b-9da7-082184428404",
   "metadata": {},
   "source": [
    "# Types of Iteration\n",
    "\n",
    "- **Indefinite iteration**: where the number of times the loop is executed depends on how many times a condition is met.\n",
    "\n",
    "- **Definite iteration**: where the number of times the loop will be executed is defined in advance (usually based on the collection size).\n",
    "\n",
    "# Types of Python Loops\n",
    "\n",
    "1. The `for` loop iterates over a list.\n",
    "2. The `while` loop executes a block of code repeatedly while the provided expression evaluates to `True`.\n",
    "3. A `list comprehension` is a specialized way to construct a new list using a built-in **loop over another list**."
   ]
  },
  {
   "cell_type": "markdown",
   "id": "d2baf18f-a087-4cd8-b03f-3474ad13d292",
   "metadata": {},
   "source": [
    "# For Loops\n",
    "\n",
    "## Syntax\n",
    "\n",
    "`for <temporary variable> in <collection>:  <action>`\n",
    "\n",
    "- `temporary variable`: its name is arbitrary and does not need to be defined beforehand, but they must be as descriptive as possible.\n",
    "\n",
    "- `indentation`: the code after the `collection` must be indented. Everything at the same level of indentation **after the `for` loop declaration** is included in the **loop body** and is run on every iteration of the loop."
   ]
  },
  {
   "cell_type": "code",
   "execution_count": 6,
   "id": "0891e56c-c2a2-46ee-9374-f50c3e7eb322",
   "metadata": {},
   "outputs": [
    {
     "name": "stdout",
     "output_type": "stream",
     "text": [
      "Iteration number: 1\n",
      "For loops and ranges are a great way to repeat an action\n",
      "Iteration number: 2\n",
      "For loops and ranges are a great way to repeat an action\n",
      "Iteration number: 3\n",
      "For loops and ranges are a great way to repeat an action\n"
     ]
    }
   ],
   "source": [
    "# Create a loop with the range function\n",
    "message = \"For loops and ranges are a great way to repeat an action\"\n",
    "for i in range(3):\n",
    "    print(\"Iteration number: \" + str(i+1))\n",
    "    print(message)"
   ]
  },
  {
   "cell_type": "markdown",
   "id": "75d81b8e-71d6-41a4-a777-05d094ce8f83",
   "metadata": {},
   "source": [
    "# While Loops\n",
    "\n",
    "- A `while` loop performs a set of instructions as long as a given condition is `True`.\n",
    "\n",
    "## Syntax\n",
    "`while <conditional statement>:  <action>`\n",
    "\n",
    "- `indentation`: the code after the `conditional statement` must be indented. Everything at the same level of indentation after the `while` loop declaration is run on every iteration of the loop while the condition is true."
   ]
  },
  {
   "cell_type": "code",
   "execution_count": 7,
   "id": "1a7bb956-c035-4c96-b50b-15bc193bb92e",
   "metadata": {},
   "outputs": [
    {
     "name": "stdout",
     "output_type": "stream",
     "text": [
      "0\n",
      "1\n",
      "2\n",
      "3\n"
     ]
    }
   ],
   "source": [
    "# Create an elegant while loop\n",
    "# Each statement must be separated with \";\"\n",
    "count = 0\n",
    "while count <= 3: print(count); count += 1"
   ]
  }
 ],
 "metadata": {
  "kernelspec": {
   "display_name": "Python 3",
   "language": "python",
   "name": "python3"
  },
  "language_info": {
   "codemirror_mode": {
    "name": "ipython",
    "version": 3
   },
   "file_extension": ".py",
   "mimetype": "text/x-python",
   "name": "python",
   "nbconvert_exporter": "python",
   "pygments_lexer": "ipython3",
   "version": "3.8.8"
  }
 },
 "nbformat": 4,
 "nbformat_minor": 5
}
