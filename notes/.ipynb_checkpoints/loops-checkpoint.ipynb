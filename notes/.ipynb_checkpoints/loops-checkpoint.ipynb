{
 "cells": [
  {
   "cell_type": "markdown",
   "id": "bd725309-8141-40ce-b15c-69c6604cc951",
   "metadata": {},
   "source": [
    "# [Python Looping Techniques](https://docs.python.org/3/tutorial/datastructures.html#looping-techniques)"
   ]
  },
  {
   "cell_type": "markdown",
   "id": "aa639f81-75e3-4ee7-9d5e-5ed10a408e76",
   "metadata": {},
   "source": [
    "# Definitions\n",
    "\n",
    "In programming, the process of using an **initialization**, **repetitions**, and an **ending condition** is called a `loop`. \n",
    "\n",
    "In a loop, we perform a process of **iteration** (repeating tasks)."
   ]
  },
  {
   "cell_type": "markdown",
   "id": "7dd00a23-3975-4c4b-9da7-082184428404",
   "metadata": {},
   "source": [
    "# Types of Iteration\n",
    "\n",
    "- **Indefinite iteration**: where the number of times the loop is executed depends on how many times a condition is met.\n",
    "\n",
    "- **Definite iteration**: where the number of times the loop will be executed is defined in advance (usually based on the collection size)."
   ]
  },
  {
   "cell_type": "markdown",
   "id": "822e22b0-e487-4ef1-b412-5502fb90413b",
   "metadata": {},
   "source": [
    "# Types of Python Loops\n",
    "\n",
    "1. The `for` loop iterates over a list.\n",
    "2. The `while` loop executes a block of code repeatedly while the provided expression evaluates to `True`.\n",
    "3. A `list comprehension` is a specialized way to construct a new list using a built-in **loop over another list**."
   ]
  },
  {
   "cell_type": "markdown",
   "id": "d2baf18f-a087-4cd8-b03f-3474ad13d292",
   "metadata": {},
   "source": [
    "# For Loops\n",
    "\n",
    "## Syntax\n",
    "\n",
    "`for <temporary variable> in <collection>:  <action>`\n",
    "\n",
    "- `temporary variable`: its name is arbitrary and does not need to be defined beforehand, but they must be as descriptive as possible.\n",
    "\n",
    "- `indentation`: the code after the `collection` must be indented. Everything at the same level of indentation **after the `for` loop declaration** is included in the **loop body** and is run on every iteration of the loop."
   ]
  },
  {
   "cell_type": "code",
   "execution_count": 6,
   "id": "0891e56c-c2a2-46ee-9374-f50c3e7eb322",
   "metadata": {},
   "outputs": [
    {
     "name": "stdout",
     "output_type": "stream",
     "text": [
      "Iteration number: 1\n",
      "For loops and ranges are a great way to repeat an action\n",
      "Iteration number: 2\n",
      "For loops and ranges are a great way to repeat an action\n",
      "Iteration number: 3\n",
      "For loops and ranges are a great way to repeat an action\n"
     ]
    }
   ],
   "source": [
    "# Create a loop with the range function\n",
    "message = \"For loops and ranges are a great way to repeat an action\"\n",
    "for i in range(3):\n",
    "    print(\"Iteration number: \" + str(i+1))\n",
    "    print(message)"
   ]
  },
  {
   "cell_type": "markdown",
   "id": "75d81b8e-71d6-41a4-a777-05d094ce8f83",
   "metadata": {},
   "source": [
    "# While Loops\n",
    "\n",
    "- A `while` loop performs a set of instructions as long as a given condition is `True`.\n",
    "\n",
    "## Syntax\n",
    "`while <conditional statement>:  <action>`\n",
    "\n",
    "- `indentation`: the code after the `conditional statement` must be indented. Everything at the same level of indentation after the `while` loop declaration is run on every iteration of the loop while the condition is true.\n",
    "\n",
    "- `elegant loops`: Python allows us to write elegant one-line while loops. Each statement must be separated with a `;`"
   ]
  },
  {
   "cell_type": "code",
   "execution_count": 1,
   "id": "1a7bb956-c035-4c96-b50b-15bc193bb92e",
   "metadata": {},
   "outputs": [
    {
     "name": "stdout",
     "output_type": "stream",
     "text": [
      "0\n",
      "1\n",
      "2\n"
     ]
    }
   ],
   "source": [
    "# Create an elegant while loop\n",
    "# Each statement must be separated with \";\"\n",
    "count = 0\n",
    "while count <= 2: print(count); count += 1"
   ]
  },
  {
   "cell_type": "code",
   "execution_count": 1,
   "id": "d3b7f7c8-8911-4b78-960e-aef089c94c89",
   "metadata": {},
   "outputs": [
    {
     "name": "stdout",
     "output_type": "stream",
     "text": [
      "5\n",
      "4\n",
      "3\n",
      "2\n",
      "1\n",
      "0\n"
     ]
    }
   ],
   "source": [
    "countdown = 5\n",
    "\n",
    "while countdown >= 0:\n",
    "    print(countdown)\n",
    "    countdown = countdown - 1"
   ]
  },
  {
   "cell_type": "code",
   "execution_count": 3,
   "id": "3661ad65-0fa7-480c-be43-47586b2401a5",
   "metadata": {},
   "outputs": [
    {
     "name": "stdout",
     "output_type": "stream",
     "text": [
      "I am learning about variables\n",
      "I am learning about control flow\n",
      "I am learning about loops\n",
      "I am learning about modules\n",
      "I am learning about classes\n"
     ]
    }
   ],
   "source": [
    "python_topics = [\"variables\", \"control flow\", \"loops\", \"modules\", \"classes\"]\n",
    "\n",
    "#Your code below: \n",
    "length = len(python_topics)\n",
    "index = 0\n",
    "\n",
    "while index < length:\n",
    "  print(\"I am learning about\", python_topics[index])\n",
    "  index += 1"
   ]
  },
  {
   "cell_type": "markdown",
   "id": "5f157c04-35ae-4c24-b268-6acfe4ee788c",
   "metadata": {},
   "source": [
    "# Infinite Loops"
   ]
  },
  {
   "cell_type": "markdown",
   "id": "b28ac335-dcbe-428b-91ff-6c71ec76ca0a",
   "metadata": {},
   "source": [
    "- A loop that never terminates is called an **infinite loop** and consume all of your computer’s resources.\n",
    "\n",
    "- If you accidentally stumble into an infinite loop, you can end the loop by using `control + c` to terminate the program."
   ]
  },
  {
   "cell_type": "markdown",
   "id": "5e89ad62-c845-4268-9bac-9580970e803d",
   "metadata": {},
   "source": [
    "# Loop Control"
   ]
  },
  {
   "cell_type": "markdown",
   "id": "6b5a1f56-383d-413d-978a-f059606be806",
   "metadata": {},
   "source": [
    "## Break\n",
    "\n",
    "- You can stop iteration from inside the loop by using `break` loop control statement.\n",
    "\n",
    "- When the program hits a `break` statement it immediately terminates a loop.\n",
    "\n",
    "- Breaks are usually used with conditional statements. "
   ]
  },
  {
   "cell_type": "code",
   "execution_count": 6,
   "id": "2e08e1fc-2dc0-4384-91e1-9e0fb0a5fb9e",
   "metadata": {},
   "outputs": [
    {
     "name": "stdout",
     "output_type": "stream",
     "text": [
      "french bulldog\n",
      "dalmatian\n",
      "They have the dog I want!\n"
     ]
    }
   ],
   "source": [
    "dog_breeds_available_for_adoption = [\"french bulldog\", \"dalmatian\", \"shihtzu\", \"poodle\", \"collie\"]\n",
    "dog_breed_I_want = \"dalmatian\"\n",
    "\n",
    "for dog_breed in dog_breeds_available_for_adoption:\n",
    "  print(dog_breed)\n",
    "  if dog_breed == dog_breed_I_want:\n",
    "    print(\"They have the dog I want!\")\n",
    "    break"
   ]
  },
  {
   "cell_type": "markdown",
   "id": "1bfb8015-0a17-4506-8a88-65c2fb4f4a1a",
   "metadata": {},
   "source": [
    "## Continue\n",
    "\n",
    "- The `continue` control statement help us to skip the current iteration of the loop and moves onto the next.\n",
    "\n",
    "- The `continue` control statement is usually paired with some form of a conditional (`if`/`elif`/`else`)."
   ]
  },
  {
   "cell_type": "code",
   "execution_count": 7,
   "id": "0d2ac40c-672d-428e-a498-b2c52f77e311",
   "metadata": {},
   "outputs": [
    {
     "name": "stdout",
     "output_type": "stream",
     "text": [
      "38\n",
      "34\n",
      "26\n",
      "21\n",
      "67\n",
      "41\n"
     ]
    }
   ],
   "source": [
    "# Create a list of ages\n",
    "ages = [12, 38, 34, 26, 21, 19, 67, 41, 17]\n",
    "\n",
    "# Create a for loop that prints the ages that are above 21\n",
    "for age in ages:\n",
    "  if age < 21:\n",
    "    continue\n",
    "  print(age)"
   ]
  },
  {
   "cell_type": "markdown",
   "id": "310301f5-d91c-4c9d-9591-5d368c70d523",
   "metadata": {},
   "source": [
    "# Nested Loops\n",
    "\n",
    "- Nested loops are used to access subelements of an object."
   ]
  },
  {
   "cell_type": "code",
   "execution_count": 8,
   "id": "aef7ed1f-8843-4787-84dc-c67cacf4b9b6",
   "metadata": {},
   "outputs": [
    {
     "name": "stdout",
     "output_type": "stream",
     "text": [
      "Ava\n",
      "Samantha\n",
      "James\n",
      "Lucille\n",
      "Zed\n",
      "Edgar\n",
      "Gabriel\n"
     ]
    }
   ],
   "source": [
    "# Create a list of lists\n",
    "project_teams = [[\"Ava\", \"Samantha\", \"James\"], [\"Lucille\", \"Zed\"], [\"Edgar\", \"Gabriel\"]]\n",
    "\n",
    "# Loop through each sublist\n",
    "for team in project_teams:\n",
    "  # Loop elements in each sublist\n",
    "  for student in team:\n",
    "    print(student)"
   ]
  },
  {
   "cell_type": "code",
   "execution_count": 12,
   "id": "018ec8a1-340f-4e81-b457-e98d3c13936b",
   "metadata": {},
   "outputs": [
    {
     "name": "stdout",
     "output_type": "stream",
     "text": [
      "[12, 17, 22]\n",
      "[2, 10, 3]\n",
      "[5, 12, 13]\n",
      "96\n"
     ]
    }
   ],
   "source": [
    "# Create a list of lists that contains scoops of ice cream sold by seller\n",
    "sales_data = [[12, 17, 22], [2, 10, 3], [5, 12, 13]]\n",
    "\n",
    "# Initiate the number of scoops sold at 0\n",
    "scoops_sold = 0\n",
    "\n",
    "# Iterate through each seller\n",
    "for seller in sales_data:\n",
    "  print(seller)\n",
    "  # Iterate through each scoop of each seller\n",
    "  for scoop in seller:\n",
    "    # Add the scoops sold\n",
    "    scoops_sold += scoop\n",
    "    \n",
    "print(scoops_sold)"
   ]
  },
  {
   "cell_type": "markdown",
   "id": "6ab710ae-1f34-486b-9aa0-aaaf0eb21cbd",
   "metadata": {},
   "source": [
    "# List Comprehension"
   ]
  },
  {
   "cell_type": "markdown",
   "id": "8ae3b519-2aa2-4864-ae40-945a45defe9a",
   "metadata": {},
   "source": [
    "List comprehensions let us create a list with loops and conditional statements with a single line of code.\n",
    "\n",
    "- List comprehension with **loops**:\n",
    "    - `list_name = [<expression> for <element> in <collection>]`."
   ]
  },
  {
   "cell_type": "code",
   "execution_count": 1,
   "id": "4d60d659-173e-4690-a95a-f8ee9b3134ea",
   "metadata": {},
   "outputs": [
    {
     "name": "stdout",
     "output_type": "stream",
     "text": [
      "[100, 98, 72, 86, 84, 99, 58, 67]\n"
     ]
    }
   ],
   "source": [
    "# Create a list of grades\n",
    "grades = [90, 88, 62, 76, 74, 89, 48, 57]\n",
    "\n",
    "# Create a list that adds 10 points to each grade\n",
    "scaled_grades = [grade + 10 for grade in grades]\n",
    "\n",
    "# Print the results\n",
    "print(scaled_grades)"
   ]
  },
  {
   "cell_type": "markdown",
   "id": "f53b707e-aa3e-4d9a-a35f-ba8d2302689b",
   "metadata": {},
   "source": [
    "- List comprehension with **loops** and **conditional statements**:\n",
    "    - `list_name = [<expression> for <element> in <collection> if <condition>]`."
   ]
  },
  {
   "cell_type": "code",
   "execution_count": 3,
   "id": "500ddd60-38a3-4ce4-9c78-07e09a7c818e",
   "metadata": {},
   "outputs": [
    {
     "name": "stdout",
     "output_type": "stream",
     "text": [
      "[164, 170, 163, 163]\n"
     ]
    }
   ],
   "source": [
    "heights = [161, 164, 156, 144, 158, 170, 163, 163, 157]\n",
    "can_ride_coaster = [height for height in heights if height > 161]\n",
    "print(can_ride_coaster)"
   ]
  },
  {
   "cell_type": "markdown",
   "id": "64963a74-9948-4463-bcfd-4d33e9f596e7",
   "metadata": {},
   "source": [
    "- List comprehension with **loops** and **conditional statements**:\n",
    "- `list_name = [<expression> if <condition> else <expression> for <element> in <collection>]`"
   ]
  },
  {
   "cell_type": "code",
   "execution_count": 4,
   "id": "100fe84a-f3a5-40c6-8992-d0704fd4bfa1",
   "metadata": {},
   "outputs": [
    {
     "name": "stdout",
     "output_type": "stream",
     "text": [
      "[6, -2, 237, 99, -90]\n"
     ]
    }
   ],
   "source": [
    "numbers = [2, -1, 79, 33, -45]\n",
    "doubled = [num * 2 if num < 0 else num * 3 for num in numbers ]\n",
    "print(doubled)"
   ]
  },
  {
   "cell_type": "code",
   "execution_count": 17,
   "id": "ad808ae6-bde7-46ed-8bb5-1f8bc223917a",
   "metadata": {},
   "outputs": [
    {
     "name": "stdout",
     "output_type": "stream",
     "text": [
      "[3, 8, 9, 8]\n"
     ]
    }
   ],
   "source": [
    "xy = [[1, 3], [2, 4], [3, 3], [4, 2]]\n",
    "z = [x * y for (x, y) in xy]\n",
    "print(z)"
   ]
  },
  {
   "cell_type": "code",
   "execution_count": 19,
   "id": "3b412520-bcf4-4e4b-a353-871604cbba1c",
   "metadata": {},
   "outputs": [
    {
     "name": "stdout",
     "output_type": "stream",
     "text": [
      "[0.4, 2.4, 4.4, 6.4, 8.4]\n"
     ]
    }
   ],
   "source": [
    "x_values_1 = [2*index for index in range(5)]\n",
    "\n",
    "x_values_2 = [2*index + 0.8 for index in range(5)]\n",
    "\n",
    "x_values_midpoints = [(x1 + x2)/2.0 for (x1, x2) in zip(x_values_1, x_values_2)]\n",
    "\n",
    "print(x_values_midpoints)"
   ]
  },
  {
   "cell_type": "code",
   "execution_count": 20,
   "id": "14fcaedf-d94c-4931-8530-fbdddb4527e9",
   "metadata": {},
   "outputs": [
    {
     "name": "stdout",
     "output_type": "stream",
     "text": [
      "['Hello, Elaine', 'Hello, George', 'Hello, Jerry', 'Hello, Cosmo']\n"
     ]
    }
   ],
   "source": [
    "names = [\"Elaine\", \"George\", \"Jerry\", \"Cosmo\"]\n",
    "\n",
    "greetings = [\"Hello, \" + n for n in names]\n",
    "print(greetings)"
   ]
  },
  {
   "cell_type": "code",
   "execution_count": 22,
   "id": "f70bc8e4-e435-4c8a-b694-aaaa45f8d310",
   "metadata": {},
   "outputs": [
    {
     "name": "stdout",
     "output_type": "stream",
     "text": [
      "['E', 'G', 'J', 'C']\n"
     ]
    }
   ],
   "source": [
    "names = [\"Elaine\", \"George\", \"Jerry\", \"Cosmo\"]\n",
    "\n",
    "first_character = [n[0] for n in names]\n",
    "\n",
    "print(first_character)"
   ]
  }
 ],
 "metadata": {
  "kernelspec": {
   "display_name": "Python 3",
   "language": "python",
   "name": "python3"
  },
  "language_info": {
   "codemirror_mode": {
    "name": "ipython",
    "version": 3
   },
   "file_extension": ".py",
   "mimetype": "text/x-python",
   "name": "python",
   "nbconvert_exporter": "python",
   "pygments_lexer": "ipython3",
   "version": "3.8.8"
  }
 },
 "nbformat": 4,
 "nbformat_minor": 5
}
