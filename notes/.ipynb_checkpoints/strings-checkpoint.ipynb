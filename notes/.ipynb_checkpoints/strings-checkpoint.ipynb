{
 "cells": [
  {
   "cell_type": "markdown",
   "id": "4c1e557c-ee88-44cb-bcae-1b7a8b0b138b",
   "metadata": {},
   "source": [
    "# Definitions and Properties"
   ]
  },
  {
   "cell_type": "markdown",
   "id": "a85db356-e492-4560-9650-754f0032a900",
   "metadata": {},
   "source": [
    "- A `string` is a **sequence of characters** contained within a pair of `'single quotes'` or `\"double quotes\"`.\n",
    "\n",
    "- A string can be **any length** and can contain **any letters, numbers, symbols, and spaces**.\n",
    "\n",
    "- A string can be thought of as a \"**list of characters**\", so each character in a string has an `index` and it **starts at 0**.\n",
    "\n",
    "- **Indices** of strings must be `integers`. If not a `TypeError` would be prompt.\n",
    "\n",
    "- Strings are `immutable`. We cannot change a string once it is created. We can use it to create other strings, but we cannot change the string itself."
   ]
  },
  {
   "cell_type": "markdown",
   "id": "5c66d1c7-ef96-4da2-9361-09d3fc2cd77f",
   "metadata": {},
   "source": [
    "# Slicing"
   ]
  },
  {
   "cell_type": "markdown",
   "id": "d46f44ee-ab6a-4a27-a741-5282858e073d",
   "metadata": {},
   "source": [
    "- Select entire **chunks of characters** from a `string`. We can do this with the following syntax:\n",
    "\n",
    "```python\n",
    "string[first_index:last_index]\n",
    "````\n",
    "\n",
    "- Slicing strings consist of starting at and including the `first_index` and ends at but excludes the `last_index`."
   ]
  },
  {
   "cell_type": "code",
   "execution_count": 2,
   "id": "cdce7f5c-b94a-4c48-94d2-69711c5e506d",
   "metadata": {},
   "outputs": [
    {
     "name": "stdout",
     "output_type": "stream",
     "text": [
      "Villa\n",
      "llan\n"
     ]
    }
   ],
   "source": [
    "first_name = \"Rodrigo\"\n",
    "last_name = \"Villanueva\"\n",
    "\n",
    "# Select the first five letter of the last_name\n",
    "new_account = last_name[:5]\n",
    "print(new_account)\n",
    "# Select from third to sixth letter of last_name\n",
    "temp_password = last_name[2:6]\n",
    "print(temp_password)"
   ]
  },
  {
   "cell_type": "markdown",
   "id": "47142a20-15c8-4951-bb81-9baae80d819a",
   "metadata": {},
   "source": [
    "# Concatenating"
   ]
  },
  {
   "cell_type": "markdown",
   "id": "cc9d29ff-b6e4-4d7f-9f19-53a2edfd6085",
   "metadata": {},
   "source": [
    "- Roughly speaking, concatenating means to **combine two or more existing strings together into a new string**.\n",
    "\n",
    "- Spaces are not added when concatenating strings. We have to manually include them.\n",
    "\n",
    "- If the length of a string is measured, the spaces are counted as well."
   ]
  },
  {
   "cell_type": "code",
   "execution_count": 3,
   "id": "2c263cdc-d3b1-4c08-8719-1a79254df552",
   "metadata": {},
   "outputs": [
    {
     "name": "stdout",
     "output_type": "stream",
     "text": [
      "JulBle\n"
     ]
    }
   ],
   "source": [
    "first_name = \"Julie\"\n",
    "last_name = \"Blevins\"\n",
    "\n",
    "def account_generator(first_name, last_name):\n",
    "  return first_name[0:3] + last_name[0:3]\n",
    "\n",
    "new_account = account_generator(first_name, last_name)\n",
    "print(new_account)"
   ]
  },
  {
   "cell_type": "code",
   "execution_count": 4,
   "id": "638ec6ca-0ca9-4d75-9fa6-65eee237abf7",
   "metadata": {},
   "outputs": [
    {
     "name": "stdout",
     "output_type": "stream",
     "text": [
      "ikouki\n"
     ]
    }
   ],
   "source": [
    "first_name = \"Reiko\"\n",
    "last_name = \"Matsuki\"\n",
    "\n",
    "def password_generator(first_name, last_name):\n",
    "  return first_name[len(first_name)-3:] + last_name[len(last_name)-3:]\n",
    "\n",
    "temp_password = password_generator(first_name, last_name)\n",
    "print(temp_password)"
   ]
  },
  {
   "cell_type": "markdown",
   "id": "2c73095b-c386-4622-886f-ece4e820da1d",
   "metadata": {},
   "source": [
    "# Escape Characters"
   ]
  },
  {
   "cell_type": "markdown",
   "id": "984b8ddd-4c35-45bf-a4d4-46380c94fd8c",
   "metadata": {},
   "source": [
    "- By adding a **backslash** (`\\`) in front of the special character we want to escape, we can include it in a string."
   ]
  },
  {
   "cell_type": "code",
   "execution_count": 3,
   "id": "9a819b07-8c5a-4b44-832e-402d455ce2f6",
   "metadata": {},
   "outputs": [
    {
     "name": "stdout",
     "output_type": "stream",
     "text": [
      "She told me \"I work at Codecademy\"\n"
     ]
    }
   ],
   "source": [
    "# Backslash a string so quotation marks are printed\n",
    "message = \"She told me \\\"I work at Codecademy\\\"\"\n",
    "print(message)"
   ]
  },
  {
   "cell_type": "markdown",
   "id": "5568d05b-a540-41ee-b4b9-ce383053bc12",
   "metadata": {},
   "source": [
    "# Iterating"
   ]
  },
  {
   "cell_type": "markdown",
   "id": "69389886-464f-4005-9489-8c9622656f5f",
   "metadata": {},
   "source": [
    "- Because strings are \"lists\", that means we can iterate through a string using `for` or `while` loops."
   ]
  },
  {
   "cell_type": "code",
   "execution_count": 5,
   "id": "ad15de1a-3a13-410c-bc76-e26fee284b96",
   "metadata": {},
   "outputs": [
    {
     "data": {
      "text/plain": [
       "22"
      ]
     },
     "execution_count": 5,
     "metadata": {},
     "output_type": "execute_result"
    }
   ],
   "source": [
    "# Recreate the built-in function \"len()\"\n",
    "def get_length(string):\n",
    "  length = 0\n",
    "  for char in string:\n",
    "    length += 1\n",
    "  return length\n",
    "\n",
    "# Get the length of a string\n",
    "get_length(\"parangaricutirimicuaro\")"
   ]
  },
  {
   "cell_type": "markdown",
   "id": "ddc7351d-e118-42c4-aaac-f51d91605dfb",
   "metadata": {},
   "source": [
    "# Conditionals"
   ]
  },
  {
   "cell_type": "markdown",
   "id": "722ba7b5-bff9-4d35-84ef-6eba6f1f416d",
   "metadata": {},
   "source": [
    "- We can check if a string is in another string by using `in`. Here is what the syntax of in looks like:\n",
    "\n",
    "```python\n",
    "letter in word\n",
    "```\n",
    "\n",
    "- This results in a **boolean expression** that is `True` if the string letter is in the string word."
   ]
  },
  {
   "cell_type": "code",
   "execution_count": 13,
   "id": "2c1328d5-6cb9-4d4f-aea5-b0601a3b4ec0",
   "metadata": {},
   "outputs": [
    {
     "data": {
      "text/plain": [
       "True"
      ]
     },
     "execution_count": 13,
     "metadata": {},
     "output_type": "execute_result"
    }
   ],
   "source": [
    "# Create a function that returns True if big_string contains little_string\n",
    "def contains(big_string, little_string):\n",
    "  return little_string in big_string\n",
    "\n",
    "# Test the function\n",
    "contains(\"dataset\",\"set\")"
   ]
  },
  {
   "cell_type": "code",
   "execution_count": 14,
   "id": "6ee357f5-f8b5-498d-b47e-6f35a81efd65",
   "metadata": {},
   "outputs": [
    {
     "data": {
      "text/plain": [
       "['o', 'l', 'a']"
      ]
     },
     "execution_count": 14,
     "metadata": {},
     "output_type": "execute_result"
    }
   ],
   "source": [
    "def common_letters(string_one, string_two):\n",
    "  common = []\n",
    "  for letter in string_one:\n",
    "    if (letter in string_two) and not (letter in common):\n",
    "      common.append(letter)\n",
    "  return common\n",
    "\n",
    "common_letters(\"hola\",\"bola\")"
   ]
  },
  {
   "cell_type": "code",
   "execution_count": 15,
   "id": "6c6e3da2-e98e-4892-8bd6-58e98d4f91d3",
   "metadata": {},
   "outputs": [
    {
     "data": {
      "text/plain": [
       "'luimore'"
      ]
     },
     "execution_count": 15,
     "metadata": {},
     "output_type": "execute_result"
    }
   ],
   "source": [
    "def username_generator(first_name, last_name):\n",
    "  if len(first_name) < 3 | len(last_name) < 4:\n",
    "    username = first_name + last_name\n",
    "  else:\n",
    "    username = first_name[:3] + last_name[:4]\n",
    "  return username\n",
    "\n",
    "username_generator(\"luis\",\"moreno\")"
   ]
  },
  {
   "cell_type": "code",
   "execution_count": 43,
   "id": "d78a56f1-b1ca-46cd-83a7-de6176821ba2",
   "metadata": {},
   "outputs": [
    {
     "data": {
      "text/plain": [
       "'oSpacemowich'"
      ]
     },
     "execution_count": 43,
     "metadata": {},
     "output_type": "execute_result"
    }
   ],
   "source": [
    "def password_generator(user_name):\n",
    "  password = \"\"\n",
    "  for character in range(0, len(user_name)):\n",
    "    password += user_name[character - 1]\n",
    "  return password\n",
    "\n",
    "password_generator(\"Spacemowicho\")"
   ]
  },
  {
   "cell_type": "markdown",
   "id": "7822694f-395d-4fb0-b741-fd59edfa9b04",
   "metadata": {},
   "source": [
    "# Methods"
   ]
  },
  {
   "cell_type": "markdown",
   "id": "142c4a2f-d04a-47d1-8581-04666ea11c78",
   "metadata": {},
   "source": [
    "- All string methods have the same syntax:\n",
    "\n",
    "```python\n",
    "string_name.string_method(arguments)\n",
    "```\n",
    "\n",
    "- String methods **can only create new strings**, they do not change the original string."
   ]
  },
  {
   "cell_type": "markdown",
   "id": "fcd055e3-12a2-4871-bd42-964785bcc74e",
   "metadata": {},
   "source": [
    "## Formatting\n",
    "\n",
    "- `.lower()` returns the string with **all lowercase** characters.\n",
    "- `.upper()` returns the string with **all uppercase** characters.\n",
    "- `.title()` returns the string in title case, which means the **first letter** of each word is **capitalized**."
   ]
  },
  {
   "cell_type": "code",
   "execution_count": 1,
   "id": "9412a48a-f99a-44f6-9aaa-ad5bd57873e9",
   "metadata": {},
   "outputs": [
    {
     "name": "stdout",
     "output_type": "stream",
     "text": [
      "spring storm\n",
      "Spring Storm\n",
      "William Carlos Williams\n",
      "WILLIAM CARLOS WILLIAMS\n"
     ]
    }
   ],
   "source": [
    "poem_title = \"spring storm\"\n",
    "poem_author = \"William Carlos Williams\"\n",
    "\n",
    "poem_title_fixed = poem_title.title()\n",
    "print(poem_title)\n",
    "print(poem_title_fixed)\n",
    "\n",
    "poem_author_fixed = poem_author.upper()\n",
    "print(poem_author)\n",
    "print(poem_author_fixed)"
   ]
  },
  {
   "cell_type": "markdown",
   "id": "29753c8b-1ba9-4bf8-b2e4-7899393251dd",
   "metadata": {},
   "source": [
    "## Splitting"
   ]
  },
  {
   "cell_type": "markdown",
   "id": "31702fe5-99eb-40f4-8b31-abcf9740798c",
   "metadata": {},
   "source": [
    "- `.split()` takes one argument and **returns a list of substrings** found between the given delimeter.\n",
    "\n",
    "- This method argument is known as the `delimeter` and it is used to dictate the character we want our string to be split on. \n",
    "\n",
    "- If no argument is provided, it will default to splitting at spaces.\n",
    "\n",
    "- When you split a string on a character that it also ends with, you’ll end up with an empty string at the end of the list.\n",
    "\n",
    "It follows this syntax:\n",
    "\n",
    "```python\n",
    "string_name.split(delimeter)\n",
    "```"
   ]
  },
  {
   "cell_type": "code",
   "execution_count": 2,
   "id": "c7381658-a8c1-4f13-908c-2d9ee0e67e8b",
   "metadata": {},
   "outputs": [
    {
     "name": "stdout",
     "output_type": "stream",
     "text": [
      "['The', 'sky', 'has', 'given', 'over']\n"
     ]
    }
   ],
   "source": [
    "line_one = \"The sky has given over\"\n",
    "line_one_words = line_one.split()\n",
    "print(line_one_words)"
   ]
  },
  {
   "cell_type": "code",
   "execution_count": 4,
   "id": "c20b7ed2-09e0-440a-a5e9-a185ad735e80",
   "metadata": {},
   "outputs": [
    {
     "name": "stdout",
     "output_type": "stream",
     "text": [
      "['sa', 'ta', 'a']\n"
     ]
    }
   ],
   "source": [
    "greatest_guitarist = \"santana\"\n",
    "print(greatest_guitarist.split('n'))"
   ]
  }
 ],
 "metadata": {
  "kernelspec": {
   "display_name": "Python 3",
   "language": "python",
   "name": "python3"
  },
  "language_info": {
   "codemirror_mode": {
    "name": "ipython",
    "version": 3
   },
   "file_extension": ".py",
   "mimetype": "text/x-python",
   "name": "python",
   "nbconvert_exporter": "python",
   "pygments_lexer": "ipython3",
   "version": "3.9.4"
  }
 },
 "nbformat": 4,
 "nbformat_minor": 5
}
