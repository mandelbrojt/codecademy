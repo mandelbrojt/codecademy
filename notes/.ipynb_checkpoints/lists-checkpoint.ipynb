{
 "cells": [
  {
   "cell_type": "markdown",
   "id": "bf0b79bd-e043-4d4a-90f4-3623db65c2f4",
   "metadata": {},
   "source": [
    "# Properties"
   ]
  },
  {
   "cell_type": "markdown",
   "id": "01d233fc-f3d9-40be-80d8-3ef14186c20a",
   "metadata": {},
   "source": [
    "A `list` is one of the many built-in data structures that allows us to work with **a collection of data in sequential order**.\n",
    "<br>\n",
    "1. A list begins and ends with square brackets `[]`.\n",
    "2. Each item is separated by a comma `,`\n",
    "3. It’s considered good practice to **insert a space `\" \"` after each comma**."
   ]
  },
  {
   "cell_type": "code",
   "execution_count": 3,
   "id": "b5b8c786-8564-4b25-abec-9eba957f9bc7",
   "metadata": {},
   "outputs": [
    {
     "name": "stdout",
     "output_type": "stream",
     "text": [
      "['Sam', 67, 85.5, True]\n",
      "<class 'list'>\n"
     ]
    }
   ],
   "source": [
    "# A list with 4 different data-types\n",
    "list2 = [\"Sam\", 67, 85.5, True]\n",
    "\n",
    "# Print list elements\n",
    "print(list2)\n",
    "\n",
    "# Print list type\n",
    "print(type(list2))"
   ]
  },
  {
   "cell_type": "markdown",
   "id": "e437f00b-aba0-4e29-ab46-1b319d6f61e4",
   "metadata": {},
   "source": [
    "Lists can contain any data type in Python.\n",
    "You can create **empty lists**."
   ]
  },
  {
   "cell_type": "code",
   "execution_count": 4,
   "id": "ac942b73-ae1f-4886-97d3-8b12fd75c404",
   "metadata": {},
   "outputs": [],
   "source": [
    "# creating an empty list implicitly\n",
    "empty_list1 = []\n",
    "\n",
    "# creating an empty list explicitly\n",
    "empty_list2 = list()"
   ]
  },
  {
   "cell_type": "markdown",
   "id": "efc441cc-61d3-42a7-a4e7-d0f3464d57d6",
   "metadata": {},
   "source": [
    "# Methods"
   ]
  },
  {
   "cell_type": "markdown",
   "id": "3b7a4bdb-fa27-47cc-a018-45a31ac51f75",
   "metadata": {},
   "source": [
    "- For any specific data-type (`strings`, `booleans`, `lists`, etc. ) there is **built-in functionality** that we can use to **create**, **manipulate**, and even **delete** our data.\n",
    "\n",
    "- For lists, methods will follow the form of `list_name.method()`.\n",
    "- Some methods will require an input value that will go between the parenthesis of the method `( )`."
   ]
  },
  {
   "cell_type": "code",
   "execution_count": 25,
   "id": "9a108c43-ce4b-4551-84ec-c79777b82d07",
   "metadata": {},
   "outputs": [
    {
     "name": "stdout",
     "output_type": "stream",
     "text": [
      "Initial list:  [1, 2, 3, 4]\n",
      "\n",
      "Add an element to initial list:  [1, 2, 3, 4, 5]\n",
      "\n",
      "Remove an element from initial list:  [2, 3, 4, 5]\n"
     ]
    }
   ],
   "source": [
    "#Creating a list implicitly\n",
    "example_list = [1, 2, 3, 4]\n",
    "print(\"Initial list: \", example_list)\n",
    "print()\n",
    "\n",
    "#Using Append\n",
    "example_list.append(5)\n",
    "print(\"Add an element to initial list: \", example_list)\n",
    "print()\n",
    "\n",
    "#Using Remove\n",
    "example_list.remove(1)\n",
    "print(\"Remove an element from initial list: \", example_list)"
   ]
  },
  {
   "cell_type": "markdown",
   "id": "da0036cf-6392-4f7b-954a-75f1bd2e900c",
   "metadata": {},
   "source": [
    "- If `.append()` is applied to a not empty list, the new element is **added to the end of the list**.\n",
    "- The `.append()` function in Python can **only add one item at a time to a list**."
   ]
  },
  {
   "cell_type": "code",
   "execution_count": 16,
   "id": "1f9e4621-235c-46b5-b02e-1aa175dfdff9",
   "metadata": {},
   "outputs": [
    {
     "name": "stdout",
     "output_type": "stream",
     "text": [
      "['daisies', 'periwinkle']\n",
      "['daisies', 'periwinkle', 'tulips', 'roses']\n"
     ]
    }
   ],
   "source": [
    "orders = [\"daisies\", \"periwinkle\"]\n",
    "print(orders)\n",
    "\n",
    "orders.append(\"tulips\")\n",
    "orders.append(\"roses\")\n",
    "print(orders)"
   ]
  },
  {
   "cell_type": "markdown",
   "id": "d90d0709-a2db-45c1-a98d-0e11e67fc03d",
   "metadata": {},
   "source": [
    "# Combine Lists"
   ]
  },
  {
   "cell_type": "markdown",
   "id": "3f4b3c25-9d89-4507-8d3b-5d0f910922f3",
   "metadata": {},
   "source": [
    "- Use `+` to combine two lists (this is **also known as concatenation**).\n",
    "- If a single element will be add with `+`, the element must be set into a list with brackets `[]`."
   ]
  },
  {
   "cell_type": "code",
   "execution_count": 24,
   "id": "d372f5a4-87cc-4eb4-8391-7c708738135f",
   "metadata": {},
   "outputs": [
    {
     "name": "stdout",
     "output_type": "stream",
     "text": [
      "Initial orders:  ['daisy', 'buttercup', 'snapdragon', 'gardenia', 'lily']\n",
      "\n",
      "New orders:  ['lilac', 'iris']\n",
      "\n",
      "Current orders:  ['daisy', 'buttercup', 'snapdragon', 'gardenia', 'lily', 'lilac', 'iris']\n"
     ]
    }
   ],
   "source": [
    "orders = [\"daisy\", \"buttercup\", \"snapdragon\", \"gardenia\", \"lily\"]\n",
    "print(\"Initial orders: \", orders)\n",
    "print()\n",
    "# Create new orders here:\n",
    "new_orders = [\"lilac\", \"iris\"]\n",
    "print(\"New orders: \", new_orders)\n",
    "print()\n",
    "orders_combined = orders + new_orders\n",
    "print(\"Current orders: \", orders_combined)"
   ]
  },
  {
   "cell_type": "markdown",
   "id": "ed55eec7-4b5c-4412-86f9-e3873db9aa2b",
   "metadata": {},
   "source": [
    "# Accessing Lists Elements"
   ]
  },
  {
   "cell_type": "markdown",
   "id": "f2ba59b0-ae6c-485f-8080-0293a88228ba",
   "metadata": {},
   "source": [
    "- The **location** of an **element** in a list is called an **index**.  \n",
    "- Python lists are **zero-indexed**. The first element in a list has index 0.  \n",
    "- **Select a single element** from a list with **square brackets** `[]` and the **index number** of the list item.  \n",
    "- The index `-1` selects the last item of a list.  "
   ]
  },
  {
   "cell_type": "code",
   "execution_count": 5,
   "id": "593e6452-636d-49e4-b3f9-98a4fbda171e",
   "metadata": {},
   "outputs": [
    {
     "name": "stdout",
     "output_type": "stream",
     "text": [
      "The first element of the list is:  Michael\n",
      "\n",
      "The last element of the list is:  Robert\n",
      "\n",
      "The middle element of the list is:  Pam\n"
     ]
    }
   ],
   "source": [
    "# Create a list with employee names\n",
    "employees = [\"Michael\", \"Dwight\", \"Jim\", \"Pam\", \"Ryan\", \"Andy\", \"Robert\"]\n",
    "\n",
    "# Select the first employee\n",
    "first = employees[0]\n",
    "print(\"The first element of the list is: \", first)\n",
    "print()\n",
    "# Select the last employee\n",
    "last = employees[-1]\n",
    "print(\"The last element of the list is: \", last)\n",
    "print()\n",
    "# Select the located at the middle of the list\n",
    "middle = employees[int(len(employees)/2)]\n",
    "print(\"The middle element of the list is: \", middle)"
   ]
  },
  {
   "cell_type": "markdown",
   "id": "cc72553b-dbd4-4f99-af9d-5542d619724c",
   "metadata": {},
   "source": [
    "# Modifying List Elements"
   ]
  },
  {
   "cell_type": "markdown",
   "id": "4f951538-9586-4fbb-b643-baa8b53b4a0d",
   "metadata": {},
   "source": [
    "- To change a value in a list, **reassign the value using the specific index**.   "
   ]
  },
  {
   "cell_type": "code",
   "execution_count": 6,
   "id": "116ad25c-d3b8-4748-a3db-1d25b99ff050",
   "metadata": {},
   "outputs": [
    {
     "name": "stdout",
     "output_type": "stream",
     "text": [
      "['Jiho', 'Calla', 'Sonny', 'Alisha']\n",
      "['Jiho', 'Calla', 'Sonny', 'Alex']\n"
     ]
    }
   ],
   "source": [
    "# Create a waitlist of customers\n",
    "garden_waitlist = [\"Jiho\", \"Adam\", \"Sonny\", \"Alisha\"]\n",
    "\n",
    "# Replace Adam with another customer\n",
    "garden_waitlist[1] = \"Calla\"\n",
    "print(garden_waitlist)\n",
    "\n",
    "# Replace Alisha with another customer\n",
    "garden_waitlist[-1] = \"Alex\"\n",
    "print(garden_waitlist)"
   ]
  },
  {
   "cell_type": "markdown",
   "id": "33bd509c-511c-4559-8093-50dde3122d49",
   "metadata": {},
   "source": [
    "## Remove List Elements"
   ]
  },
  {
   "cell_type": "markdown",
   "id": "17797fde-f083-42ec-ae6f-cb0b550f329d",
   "metadata": {},
   "source": [
    "- We can remove elements in a list using the `.remove()` Python method.  \n",
    "- If a list has duplicate elements, only the first instance of the matching element is removed.  \n",
    "- If a list element does not exists and the `.remove()` method is used, an `ValueError: list.remove(x): x not in list` is raised.  "
   ]
  },
  {
   "cell_type": "code",
   "execution_count": 8,
   "id": "99156c4c-d1c8-4451-8514-c808dc8607f7",
   "metadata": {},
   "outputs": [
    {
     "name": "stdout",
     "output_type": "stream",
     "text": [
      "['Celery', 'Orange Juice', 'Orange', 'Flatbread']\n",
      "['Celery', 'Orange Juice', 'Orange']\n",
      "['Orange', 'Apple', 'Mango', 'Broccoli', 'Mango']\n",
      "['Orange', 'Apple', 'Broccoli', 'Mango']\n"
     ]
    }
   ],
   "source": [
    "# Your code below: \n",
    "order_list = [\"Celery\", \"Orange Juice\", \"Orange\", \"Flatbread\"]\n",
    "print(order_list)\n",
    "\n",
    "order_list.remove(\"Flatbread\")\n",
    "print(order_list)\n",
    "\n",
    "new_store_order_list = [\"Orange\", \"Apple\", \"Mango\", \"Broccoli\", \"Mango\"]\n",
    "print(new_store_order_list)\n",
    "\n",
    "new_store_order_list.remove(\"Mango\")\n",
    "print(new_store_order_list)"
   ]
  },
  {
   "cell_type": "markdown",
   "id": "924b89b7-5d4d-42bd-ab11-74f895bbfadf",
   "metadata": {},
   "source": [
    "# Two Dimensional Lists"
   ]
  },
  {
   "cell_type": "markdown",
   "id": "72f0a9f5-1eb8-4325-8ed6-67cc5c95842e",
   "metadata": {},
   "source": []
  },
  {
   "cell_type": "code",
   "execution_count": null,
   "id": "29ca4494-a0e3-45db-8858-76b4666951d0",
   "metadata": {},
   "outputs": [],
   "source": []
  }
 ],
 "metadata": {
  "kernelspec": {
   "display_name": "Python 3",
   "language": "python",
   "name": "python3"
  },
  "language_info": {
   "codemirror_mode": {
    "name": "ipython",
    "version": 3
   },
   "file_extension": ".py",
   "mimetype": "text/x-python",
   "name": "python",
   "nbconvert_exporter": "python",
   "pygments_lexer": "ipython3",
   "version": "3.8.8"
  }
 },
 "nbformat": 4,
 "nbformat_minor": 5
}
