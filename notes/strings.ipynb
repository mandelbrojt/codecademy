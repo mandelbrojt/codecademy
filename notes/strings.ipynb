{
 "cells": [
  {
   "cell_type": "markdown",
   "id": "4c1e557c-ee88-44cb-bcae-1b7a8b0b138b",
   "metadata": {},
   "source": [
    "# Definitions and Properties"
   ]
  },
  {
   "cell_type": "markdown",
   "id": "a85db356-e492-4560-9650-754f0032a900",
   "metadata": {},
   "source": [
    "- A **sequence of characters** contained within a pair of `'single quotes'` or `\"double quotes\"`.\n",
    "\n",
    "- Can be of **any length** and can contain **any letters, numbers, symbols, and spaces**.\n",
    "\n",
    "- Can be thought of as a \"**list of characters**\", so each character in a string has an `index` and it **starts at 0**.\n",
    "\n",
    "- **Indices** of strings must be `integers`. If not a `TypeError` would be prompt.\n",
    "\n",
    "- Are `immutable`. It can be use it to create other strings, but we cannot change the string itself."
   ]
  },
  {
   "cell_type": "markdown",
   "id": "5c66d1c7-ef96-4da2-9361-09d3fc2cd77f",
   "metadata": {},
   "source": [
    "# Slicing"
   ]
  },
  {
   "cell_type": "markdown",
   "id": "d46f44ee-ab6a-4a27-a741-5282858e073d",
   "metadata": {},
   "source": [
    "- To select **chunks of characters** from a `string`. Use the following syntax:\n",
    "\n",
    "```python\n",
    "string[first_index:last_index]\n",
    "````\n",
    "\n",
    "- Slicing strings consist of starting at and including the `first_index` and ends at but excludes the `last_index`."
   ]
  },
  {
   "cell_type": "code",
   "execution_count": 2,
   "id": "cdce7f5c-b94a-4c48-94d2-69711c5e506d",
   "metadata": {},
   "outputs": [
    {
     "name": "stdout",
     "output_type": "stream",
     "text": [
      "Villa\n",
      "llan\n"
     ]
    }
   ],
   "source": [
    "first_name = \"Rodrigo\"\n",
    "last_name = \"Villanueva\"\n",
    "\n",
    "# Select the first five letter of the last_name\n",
    "new_account = last_name[:5]\n",
    "print(new_account)\n",
    "# Select from third to sixth letter of last_name\n",
    "temp_password = last_name[2:6]\n",
    "print(temp_password)"
   ]
  },
  {
   "cell_type": "markdown",
   "id": "47142a20-15c8-4951-bb81-9baae80d819a",
   "metadata": {},
   "source": [
    "# Concatenating"
   ]
  },
  {
   "cell_type": "markdown",
   "id": "cc9d29ff-b6e4-4d7f-9f19-53a2edfd6085",
   "metadata": {},
   "source": [
    "- Roughly speaking, concatenating means to **combine two or more existing strings together into a new string**.\n",
    "\n",
    "- Spaces are not added when concatenating strings. We have to manually include them.\n",
    "\n",
    "- If the length of a string is measured, the spaces are counted as well."
   ]
  },
  {
   "cell_type": "code",
   "execution_count": 3,
   "id": "2c263cdc-d3b1-4c08-8719-1a79254df552",
   "metadata": {},
   "outputs": [
    {
     "name": "stdout",
     "output_type": "stream",
     "text": [
      "JulBle\n"
     ]
    }
   ],
   "source": [
    "first_name = \"Julie\"\n",
    "last_name = \"Blevins\"\n",
    "\n",
    "def account_generator(first_name, last_name):\n",
    "  return first_name[0:3] + last_name[0:3]\n",
    "\n",
    "new_account = account_generator(first_name, last_name)\n",
    "print(new_account)"
   ]
  },
  {
   "cell_type": "code",
   "execution_count": 4,
   "id": "638ec6ca-0ca9-4d75-9fa6-65eee237abf7",
   "metadata": {},
   "outputs": [
    {
     "name": "stdout",
     "output_type": "stream",
     "text": [
      "ikouki\n"
     ]
    }
   ],
   "source": [
    "first_name = \"Reiko\"\n",
    "last_name = \"Matsuki\"\n",
    "\n",
    "def password_generator(first_name, last_name):\n",
    "  return first_name[len(first_name)-3:] + last_name[len(last_name)-3:]\n",
    "\n",
    "temp_password = password_generator(first_name, last_name)\n",
    "print(temp_password)"
   ]
  },
  {
   "cell_type": "markdown",
   "id": "2c73095b-c386-4622-886f-ece4e820da1d",
   "metadata": {},
   "source": [
    "# Escape Characters"
   ]
  },
  {
   "cell_type": "markdown",
   "id": "984b8ddd-4c35-45bf-a4d4-46380c94fd8c",
   "metadata": {},
   "source": [
    "- By adding a **backslash** (`\\`) in front of the special character we want to escape, we can include it in a string."
   ]
  },
  {
   "cell_type": "code",
   "execution_count": 3,
   "id": "9a819b07-8c5a-4b44-832e-402d455ce2f6",
   "metadata": {},
   "outputs": [
    {
     "name": "stdout",
     "output_type": "stream",
     "text": [
      "She told me \"I work at Codecademy\"\n"
     ]
    }
   ],
   "source": [
    "# Backslash a string so quotation marks are printed\n",
    "message = \"She told me \\\"I work at Codecademy\\\"\"\n",
    "print(message)"
   ]
  },
  {
   "cell_type": "markdown",
   "id": "5568d05b-a540-41ee-b4b9-ce383053bc12",
   "metadata": {},
   "source": [
    "# Iterating"
   ]
  },
  {
   "cell_type": "markdown",
   "id": "69389886-464f-4005-9489-8c9622656f5f",
   "metadata": {},
   "source": [
    "- Because strings are \"lists\", that means we can iterate through a string using `for` or `while` loops."
   ]
  },
  {
   "cell_type": "code",
   "execution_count": 5,
   "id": "ad15de1a-3a13-410c-bc76-e26fee284b96",
   "metadata": {},
   "outputs": [
    {
     "data": {
      "text/plain": [
       "22"
      ]
     },
     "execution_count": 5,
     "metadata": {},
     "output_type": "execute_result"
    }
   ],
   "source": [
    "# Recreate the built-in function \"len()\"\n",
    "def get_length(string):\n",
    "  length = 0\n",
    "  for char in string:\n",
    "    length += 1\n",
    "  return length\n",
    "\n",
    "# Get the length of a string\n",
    "get_length(\"parangaricutirimicuaro\")"
   ]
  },
  {
   "cell_type": "markdown",
   "id": "ddc7351d-e118-42c4-aaac-f51d91605dfb",
   "metadata": {},
   "source": [
    "# Conditionals"
   ]
  },
  {
   "cell_type": "markdown",
   "id": "722ba7b5-bff9-4d35-84ef-6eba6f1f416d",
   "metadata": {},
   "source": [
    "- We can check if a string is in another string by using `in`. Here is what the syntax of in looks like:\n",
    "\n",
    "```python\n",
    "letter in word\n",
    "```\n",
    "\n",
    "- This results in a **boolean expression** that is `True` if the string letter is in the string word."
   ]
  },
  {
   "cell_type": "code",
   "execution_count": 13,
   "id": "2c1328d5-6cb9-4d4f-aea5-b0601a3b4ec0",
   "metadata": {},
   "outputs": [
    {
     "data": {
      "text/plain": [
       "True"
      ]
     },
     "execution_count": 13,
     "metadata": {},
     "output_type": "execute_result"
    }
   ],
   "source": [
    "# Create a function that returns True if big_string contains little_string\n",
    "def contains(big_string, little_string):\n",
    "  return little_string in big_string\n",
    "\n",
    "# Test the function\n",
    "contains(\"dataset\",\"set\")"
   ]
  },
  {
   "cell_type": "code",
   "execution_count": 14,
   "id": "6ee357f5-f8b5-498d-b47e-6f35a81efd65",
   "metadata": {},
   "outputs": [
    {
     "data": {
      "text/plain": [
       "['o', 'l', 'a']"
      ]
     },
     "execution_count": 14,
     "metadata": {},
     "output_type": "execute_result"
    }
   ],
   "source": [
    "def common_letters(string_one, string_two):\n",
    "  common = []\n",
    "  for letter in string_one:\n",
    "    if (letter in string_two) and not (letter in common):\n",
    "      common.append(letter)\n",
    "  return common\n",
    "\n",
    "common_letters(\"hola\",\"bola\")"
   ]
  },
  {
   "cell_type": "code",
   "execution_count": 15,
   "id": "6c6e3da2-e98e-4892-8bd6-58e98d4f91d3",
   "metadata": {},
   "outputs": [
    {
     "data": {
      "text/plain": [
       "'luimore'"
      ]
     },
     "execution_count": 15,
     "metadata": {},
     "output_type": "execute_result"
    }
   ],
   "source": [
    "def username_generator(first_name, last_name):\n",
    "  if len(first_name) < 3 | len(last_name) < 4:\n",
    "    username = first_name + last_name\n",
    "  else:\n",
    "    username = first_name[:3] + last_name[:4]\n",
    "  return username\n",
    "\n",
    "username_generator(\"luis\",\"moreno\")"
   ]
  },
  {
   "cell_type": "code",
   "execution_count": 43,
   "id": "d78a56f1-b1ca-46cd-83a7-de6176821ba2",
   "metadata": {},
   "outputs": [
    {
     "data": {
      "text/plain": [
       "'oSpacemowich'"
      ]
     },
     "execution_count": 43,
     "metadata": {},
     "output_type": "execute_result"
    }
   ],
   "source": [
    "def password_generator(user_name):\n",
    "  password = \"\"\n",
    "  for character in range(0, len(user_name)):\n",
    "    password += user_name[character - 1]\n",
    "  return password\n",
    "\n",
    "password_generator(\"Spacemowicho\")"
   ]
  },
  {
   "cell_type": "markdown",
   "id": "7822694f-395d-4fb0-b741-fd59edfa9b04",
   "metadata": {},
   "source": [
    "# Methods"
   ]
  },
  {
   "cell_type": "markdown",
   "id": "142c4a2f-d04a-47d1-8581-04666ea11c78",
   "metadata": {},
   "source": [
    "- All string methods have the same syntax:\n",
    "\n",
    "```python\n",
    "string_name.string_method(arguments)\n",
    "```\n",
    "\n",
    "- String methods **can only create new strings**, they do not change the original string."
   ]
  },
  {
   "cell_type": "markdown",
   "id": "fcd055e3-12a2-4871-bd42-964785bcc74e",
   "metadata": {},
   "source": [
    "## Formatting\n",
    "\n",
    "- `.lower()` returns the string with **all lowercase** characters.\n",
    "- `.upper()` returns the string with **all uppercase** characters.\n",
    "- `.title()` returns the string in title case, which means the **first letter** of each word is **capitalized**."
   ]
  },
  {
   "cell_type": "code",
   "execution_count": 1,
   "id": "9412a48a-f99a-44f6-9aaa-ad5bd57873e9",
   "metadata": {},
   "outputs": [
    {
     "name": "stdout",
     "output_type": "stream",
     "text": [
      "spring storm\n",
      "Spring Storm\n",
      "William Carlos Williams\n",
      "WILLIAM CARLOS WILLIAMS\n"
     ]
    }
   ],
   "source": [
    "poem_title = \"spring storm\"\n",
    "poem_author = \"William Carlos Williams\"\n",
    "\n",
    "poem_title_fixed = poem_title.title()\n",
    "print(poem_title)\n",
    "print(poem_title_fixed)\n",
    "\n",
    "poem_author_fixed = poem_author.upper()\n",
    "print(poem_author)\n",
    "print(poem_author_fixed)"
   ]
  },
  {
   "cell_type": "markdown",
   "id": "29753c8b-1ba9-4bf8-b2e4-7899393251dd",
   "metadata": {
    "tags": []
   },
   "source": [
    "## Splitting"
   ]
  },
  {
   "cell_type": "markdown",
   "id": "31702fe5-99eb-40f4-8b31-abcf9740798c",
   "metadata": {},
   "source": [
    "- `.split()` takes one argument and **returns a list of substrings** found between the given delimeter.\n",
    "\n",
    "- This method argument is known as the `delimeter` and it is used to dictate the character we want our string to be split on. \n",
    "\n",
    "- If no argument is provided, it will default to splitting at spaces.\n",
    "\n",
    "- When you split a string on a character that it also ends with, you’ll end up with an empty string at the end of the list.\n",
    "\n",
    "It follows this syntax:\n",
    "\n",
    "```python\n",
    "string_name.split(delimeter)\n",
    "```"
   ]
  },
  {
   "cell_type": "code",
   "execution_count": 2,
   "id": "c7381658-a8c1-4f13-908c-2d9ee0e67e8b",
   "metadata": {},
   "outputs": [
    {
     "name": "stdout",
     "output_type": "stream",
     "text": [
      "['The', 'sky', 'has', 'given', 'over']\n"
     ]
    }
   ],
   "source": [
    "line_one = \"The sky has given over\"\n",
    "line_one_words = line_one.split()\n",
    "print(line_one_words)"
   ]
  },
  {
   "cell_type": "code",
   "execution_count": 4,
   "id": "c20b7ed2-09e0-440a-a5e9-a185ad735e80",
   "metadata": {},
   "outputs": [
    {
     "name": "stdout",
     "output_type": "stream",
     "text": [
      "['sa', 'ta', 'a']\n"
     ]
    }
   ],
   "source": [
    "greatest_guitarist = \"santana\"\n",
    "print(greatest_guitarist.split('n'))"
   ]
  },
  {
   "cell_type": "code",
   "execution_count": 2,
   "id": "1306e391-9e11-4ccb-9af3-c91d9628cba6",
   "metadata": {},
   "outputs": [
    {
     "name": "stdout",
     "output_type": "stream",
     "text": [
      "['Audre Lorde', 'Gabriela Mistral', 'Jean Toomer', 'An Qi', 'Walt Whitman', 'Shel Silverstein', 'Carmen Boullosa', 'Kamala Suraiyya', 'Langston Hughes', 'Adrienne Rich', 'Nikki Giovanni']\n",
      "['Lorde', 'Mistral', 'Toomer', 'Qi', 'Whitman', 'Silverstein', 'Boullosa', 'Suraiyya', 'Hughes', 'Rich', 'Giovanni']\n"
     ]
    }
   ],
   "source": [
    "authors = \"Audre Lorde,Gabriela Mistral,Jean Toomer,An Qi,Walt Whitman,Shel Silverstein,Carmen Boullosa,Kamala Suraiyya,Langston Hughes,Adrienne Rich,Nikki Giovanni\"\n",
    "\n",
    "author_names = authors.split(',')\n",
    "\n",
    "print(author_names)\n",
    "\n",
    "author_last_names = []\n",
    "for name in author_names:\n",
    "  author_last_names.append(name.split()[-1])\n",
    "\n",
    "print(author_last_names)"
   ]
  },
  {
   "cell_type": "markdown",
   "id": "ccf6c98b-d0c0-4ae1-8f95-890da6fc6a94",
   "metadata": {},
   "source": [
    "Escape sequences are used to indicate that we want to **split by something in a string that is not necessarily a character**. \n",
    "\n",
    "Two important escape sequences are:\n",
    "\n",
    "- `\\n` or Newline. Allow us to split a multi-line string by line breaks.\n",
    "- `\\t` or Horizontal Tab. Allow us to split a string by tabs."
   ]
  },
  {
   "cell_type": "code",
   "execution_count": 10,
   "id": "41663c3e-bafe-47b0-a203-6af525878d0d",
   "metadata": {},
   "outputs": [
    {
     "name": "stdout",
     "output_type": "stream",
     "text": [
      "['Esto es programación', 'This is programming', 'Isso é programação', 'Das ist Programmierung', 'To je programiranje', \"c'est de la programmation\"]\n"
     ]
    }
   ],
   "source": [
    "google_translations = \\\n",
    "\"\"\"Esto es programación\n",
    "This is programming\n",
    "Isso é programação\n",
    "Das ist Programmierung\n",
    "To je programiranje\n",
    "c'est de la programmation\"\"\"\n",
    "\n",
    "google_translations_lines = google_translations.split(\"\\n\")\n",
    "\n",
    "print(google_translations_lines)"
   ]
  },
  {
   "cell_type": "markdown",
   "id": "8bc434b5-d04d-4ec3-8262-12497984189e",
   "metadata": {},
   "source": [
    "## Joining"
   ]
  },
  {
   "cell_type": "markdown",
   "id": "9d668bdb-933b-421c-ad88-a6d97ad5d297",
   "metadata": {},
   "source": [
    "- `.join()` joins a list of strings together with a given **delimiter**. The syntax is:\n",
    "\n",
    "```python\n",
    "'delimiter'.join(list_you_want_to_join)\n",
    "```"
   ]
  },
  {
   "cell_type": "code",
   "execution_count": 38,
   "id": "69f67a44-d197-4f59-acd2-65f045f3fa8e",
   "metadata": {},
   "outputs": [
    {
     "name": "stdout",
     "output_type": "stream",
     "text": [
      "This is a sentence inside a list\n"
     ]
    }
   ],
   "source": [
    "sentence_in_list = [\"This\", \"is\", \"a\", \"sentence\", \"inside\", \"a\", \"list\"]\n",
    "\n",
    "sentence = \" \".join(sentence_in_list)\n",
    "print(sentence)"
   ]
  },
  {
   "cell_type": "code",
   "execution_count": 12,
   "id": "1069ef69-3883-4216-b9ab-419878a6d7df",
   "metadata": {},
   "outputs": [
    {
     "name": "stdout",
     "output_type": "stream",
     "text": [
      "Well I'm from the barrio\n",
      "You hear my rhythm on your radio\n",
      "You feel the turning of the world so soft and slow\n",
      "Turning you 'round and 'round\n"
     ]
    }
   ],
   "source": [
    "smooth_fifth_verse_lines = ['Well I\\'m from the barrio', 'You hear my rhythm on your radio', 'You feel the turning of the world so soft and slow', 'Turning you \\'round and \\'round']\n",
    " \n",
    "smooth_fifth_verse = '\\n'.join(smooth_fifth_verse_lines)\n",
    " \n",
    "print(smooth_fifth_verse)"
   ]
  },
  {
   "cell_type": "markdown",
   "id": "4be29e71-f658-4b8a-b230-d1ad1d9070dd",
   "metadata": {},
   "source": [
    "## Strip"
   ]
  },
  {
   "cell_type": "markdown",
   "id": "e9dd5637-b3f2-4b8c-9404-13b4925eb8a0",
   "metadata": {},
   "source": [
    "- Stripping a string removes all whitespace characters from the beginning and end."
   ]
  },
  {
   "cell_type": "code",
   "execution_count": 1,
   "id": "e211eb33-465a-46c1-8d7e-bd150b610f29",
   "metadata": {},
   "outputs": [
    {
     "name": "stdout",
     "output_type": "stream",
     "text": [
      "rob thomas\n"
     ]
    }
   ],
   "source": [
    "featuring = \"           rob thomas                 \"\n",
    "print(featuring.strip())"
   ]
  },
  {
   "cell_type": "markdown",
   "id": "147c41a6-1af4-48bb-a6f9-55bfbbc460c0",
   "metadata": {},
   "source": [
    "- Use `.strip()` with a character argument, which will strip that character from either end of the string."
   ]
  },
  {
   "cell_type": "code",
   "execution_count": 2,
   "id": "6bc454f6-db43-4c22-8d4a-074469d242b5",
   "metadata": {},
   "outputs": [
    {
     "name": "stdout",
     "output_type": "stream",
     "text": [
      "rob thomas       \n"
     ]
    }
   ],
   "source": [
    "featuring = \"!!!rob thomas       !!!!!\"\n",
    "print(featuring.strip('!'))"
   ]
  },
  {
   "cell_type": "code",
   "execution_count": 7,
   "id": "f779dbfa-bc46-42fa-93a8-6faaa73a5530",
   "metadata": {},
   "outputs": [
    {
     "name": "stdout",
     "output_type": "stream",
     "text": [
      "Always\n",
      "in the middle of our bloodiest battles\n",
      "you lay down your arms\n",
      "like flowering mines\n",
      "\n",
      "to conquer me home.\n"
     ]
    }
   ],
   "source": [
    "# Create a list with extra spaces\n",
    "love_maybe_lines = ['Always    ',\n",
    "                    '     in the middle of our bloodiest battles  ',\n",
    "                    'you lay down your arms',\n",
    "                    '           like flowering mines    ',\n",
    "                    '\\n' ,\n",
    "                    '   to conquer me home.    ']\n",
    "\n",
    "# Start an empty list\n",
    "love_maybe_lines_stripped = []\n",
    "\n",
    "# For each element of the first list add a stripped version to other list\n",
    "for i in love_maybe_lines:\n",
    "  love_maybe_lines_stripped.append(i.strip())\n",
    "\n",
    "# Create a new list with each element in a new line\n",
    "love_maybe_full = \"\\n\".join(love_maybe_lines_stripped)\n",
    "print(love_maybe_full)"
   ]
  },
  {
   "cell_type": "markdown",
   "id": "60b1eee2-651b-49c9-a499-a197d65af305",
   "metadata": {},
   "source": [
    "## Replace"
   ]
  },
  {
   "cell_type": "markdown",
   "id": "60c5e83e-9341-417d-ad90-5d363b3d1fcf",
   "metadata": {},
   "source": [
    "- Replace takes **two arguments** and replaces all instances of the first argument in a string with the second argument.\n",
    "\n",
    "It follows this syntax:\n",
    "\n",
    "```python\n",
    "string_name.replace(character_being_replaced, new_character)\n",
    "```"
   ]
  },
  {
   "cell_type": "code",
   "execution_count": 9,
   "id": "9f25e4d8-5542-420e-82b0-9f6e69e4dd12",
   "metadata": {},
   "outputs": [
    {
     "name": "stdout",
     "output_type": "stream",
     "text": [
      "\n",
      "Nathan Pinchback Toomer, \n",
      "who adopted the name Jean Toomer early in his literary career, \n",
      "was born in Washington, D.C. in 1894. \n",
      "\n",
      "Jean is the son of Nathan Toomer was a mixed-race freedman, \n",
      "born into slavery in 1839 in Chatham County, North Carolina. \n",
      "\n",
      "Jean Toomer is most well known for his first book Cane, \n",
      "which vividly portrays the life of African-Americans in southern farmlands.\n",
      "\n"
     ]
    }
   ],
   "source": [
    "toomer_bio = \\\n",
    "\"\"\"\n",
    "Nathan Pinchback Tomer, \n",
    "who adopted the name Jean Tomer early in his literary career, \n",
    "was born in Washington, D.C. in 1894. \n",
    "\n",
    "Jean is the son of Nathan Tomer was a mixed-race freedman, \n",
    "born into slavery in 1839 in Chatham County, North Carolina. \n",
    "\n",
    "Jean Tomer is most well known for his first book Cane, \n",
    "which vividly portrays the life of African-Americans in southern farmlands.\n",
    "\"\"\"\n",
    "toomer_bio_fixed = toomer_bio.replace(\"Tomer\",\"Toomer\")\n",
    "\n",
    "print(toomer_bio_fixed)"
   ]
  },
  {
   "cell_type": "markdown",
   "id": "c303a68e-9a77-4701-a6e0-5867c3d377af",
   "metadata": {},
   "source": [
    "## Find"
   ]
  },
  {
   "cell_type": "markdown",
   "id": "a3150c61-e92b-41b4-a6f8-e9b87d30ca71",
   "metadata": {},
   "source": [
    "- `.find()` takes a string as an argument and returns the first `index` value where that string is located."
   ]
  },
  {
   "cell_type": "code",
   "execution_count": 14,
   "id": "c74eb5ef-f6f5-4560-802d-ed154aa2f299",
   "metadata": {},
   "outputs": [
    {
     "name": "stdout",
     "output_type": "stream",
     "text": [
      "31\n"
     ]
    }
   ],
   "source": [
    "string_example = \"What's the index of the letter z in this string\"\n",
    "\n",
    "z_letter_index = string_example.find(\"z\")\n",
    "\n",
    "print(z_letter_index)"
   ]
  },
  {
   "cell_type": "code",
   "execution_count": 12,
   "id": "e32c612e-d590-4274-ab7b-351048268aea",
   "metadata": {},
   "outputs": [
    {
     "name": "stdout",
     "output_type": "stream",
     "text": [
      "[0, 6]\n"
     ]
    }
   ],
   "source": [
    "target = \"abc\"\n",
    "string = \"abcdababcd\"\n",
    "\n",
    "indices = []\n",
    "for i in range(len(string)):\n",
    "  if string[i:i+len(target)] == target:\n",
    "    indices.append(i)\n",
    "\n",
    "print(indices)"
   ]
  },
  {
   "cell_type": "markdown",
   "id": "1a688ba5-af10-4ef4-9439-f5260ea38e3f",
   "metadata": {},
   "source": [
    "## Format"
   ]
  },
  {
   "cell_type": "markdown",
   "id": "7bbb3766-8167-4258-827a-43bf02e7dd70",
   "metadata": {},
   "source": [
    "- `.format()` takes variables as an argument and includes them in the string that it is run on.\n",
    "\n",
    "- You include `{}` marks as placeholders for where those variables will be imported.\n",
    "\n",
    "- Any type of input can be given as an argument to the `format()` method, including `str`, `float`, `int`, `bool`, `objects`, and `expressions` which will be evaluated and then formatted into the string.\n",
    "\n",
    "- By including `keywords` in the string, and in the arguments, you can remove ambiguity."
   ]
  },
  {
   "cell_type": "code",
   "execution_count": 19,
   "id": "1b147d0b-23c8-45ad-b685-987afdf6c045",
   "metadata": {},
   "outputs": [
    {
     "data": {
      "text/plain": [
       "'My favorite song is \"Feel Good Inc\" by Gorillaz.'"
      ]
     },
     "execution_count": 19,
     "metadata": {},
     "output_type": "execute_result"
    }
   ],
   "source": [
    "def favorite_song_statement(song, artist):\n",
    "  return \"My favorite song is \\\"{song}\\\" by {artist}.\".format(song=song, artist=artist)\n",
    "\n",
    "favorite_song_statement(\"Feel Good Inc\",\"Gorillaz\")"
   ]
  },
  {
   "cell_type": "code",
   "execution_count": 20,
   "id": "8b5a026e-3f55-4887-98e1-7b51070278ac",
   "metadata": {},
   "outputs": [
    {
     "name": "stdout",
     "output_type": "stream",
     "text": [
      "20, 40, 30\n"
     ]
    }
   ],
   "source": [
    "string = \"{}, {a}, {}\".format(20, 30, a=40)\n",
    "\n",
    "print(string)"
   ]
  },
  {
   "cell_type": "code",
   "execution_count": 29,
   "id": "802051cf-0fd1-45f8-ba1a-d8ada0d92888",
   "metadata": {},
   "outputs": [
    {
     "name": "stdout",
     "output_type": "stream",
     "text": [
      "Please enter the following information.\n"
     ]
    },
    {
     "name": "stdout",
     "output_type": "stream",
     "text": [
      "Name of artist:  Coldplay\n",
      "Song name:  Viva La Vida\n",
      "Main genre:  Pop\n",
      "Publishing date:  2008\n"
     ]
    },
    {
     "name": "stdout",
     "output_type": "stream",
     "text": [
      "My favorite song is \"Viva La Vida\" by Coldplay.\n",
      "It was published in 2008 and its genre is Pop\n"
     ]
    }
   ],
   "source": [
    "def favorite_song_statement(publishing_date, artist, song_name, genre):\n",
    "  return \"My favorite song is \\\"{song}\\\" by {artist}.\\nIt was published in {publishing_date} and its genre is {genre}\".format(song=song, artist=artist, publishing_date=publishing_date, genre=genre)\n",
    "\n",
    "print(\"Please enter the following information.\")\n",
    "artist = input(\"Name of artist: \")\n",
    "song = input(\"Song name: \")\n",
    "genre = input(\"Main genre: \")\n",
    "publishing_date = input(\"Publishing date: \")\n",
    "my_song_description = favorite_song_statement(publishing_date, artist, song, genre)\n",
    "print(my_song_description)"
   ]
  },
  {
   "cell_type": "code",
   "execution_count": 54,
   "id": "9613adef-f28c-4b8d-b3f9-2def27dfab22",
   "metadata": {},
   "outputs": [
    {
     "name": "stdout",
     "output_type": "stream",
     "text": [
      "The poem Afterimages was published by Audre Lorde in 1997.\n",
      "The poem The Shadow was published by William Carlos Williams in 1915.\n",
      "The poem Ecstasy was published by Gabriela Mistral in 1925.\n",
      "The poem Georgia Dusk was published by Jean Toomer in 1923.\n",
      "The poem Parting Before Daybreak was published by An Qi in 2014.\n",
      "The poem The Untold Want was published by Walt Whitman in 1871.\n",
      "The poem Mr. Grumpledump's Song was published by Shel Silverstein in 2004.\n",
      "The poem Angel Sound Mexico City was published by Carmen Boullosa in 2013.\n",
      "The poem In Love was published by Kamala Suraiyya in 1965.\n",
      "The poem Dream Variations was published by Langston Hughes in 1994.\n",
      "The poem Dreamwood was published by Adrienne Rich in 1987.\n"
     ]
    }
   ],
   "source": [
    "highlighted_poems = \"Afterimages:Audre Lorde:1997,  The Shadow:William Carlos Williams:1915, Ecstasy:Gabriela Mistral:1925,   Georgia Dusk:Jean Toomer:1923,   Parting Before Daybreak:An Qi:2014, The Untold Want:Walt Whitman:1871, Mr. Grumpledump's Song:Shel Silverstein:2004, Angel Sound Mexico City:Carmen Boullosa:2013, In Love:Kamala Suraiyya:1965, Dream Variations:Langston Hughes:1994, Dreamwood:Adrienne Rich:1987\"\n",
    "\n",
    "#print(highlighted_poems)\n",
    "\n",
    "highlighted_poems_list = highlighted_poems.split(\",\")\n",
    "\n",
    "#print(highlighted_poems_list)\n",
    "\n",
    "highlighted_poems_stripped = []\n",
    "\n",
    "for poem in highlighted_poems_list:\n",
    "  highlighted_poems_stripped.append(poem.strip())\n",
    "\n",
    "#print(highlighted_poems_stripped)\n",
    "\n",
    "highlighted_poems_details = []\n",
    "\n",
    "for poem in highlighted_poems_stripped:\n",
    "  highlighted_poems_details.append(poem.split(\":\"))\n",
    "\n",
    "#print(highlighted_poems_details)\n",
    "\n",
    "titles = []\n",
    "poets = []\n",
    "dates = []\n",
    "\n",
    "for element in highlighted_poems_details:\n",
    "    titles.append(element[0])\n",
    "    poets.append(element[1])\n",
    "    dates.append(element[2])\n",
    "    \n",
    "for i in range(len(titles)):\n",
    "    print(\"The poem {title} was published by {poet} in {date}.\".format(title=titles[i],poet=poets[i],date=dates[i]))"
   ]
  },
  {
   "cell_type": "markdown",
   "id": "22163316",
   "metadata": {},
   "source": [
    "# Code Challenges"
   ]
  },
  {
   "cell_type": "code",
   "execution_count": 2,
   "id": "19de15c1-6095-46b0-9765-a9b3947e5f14",
   "metadata": {},
   "outputs": [
    {
     "name": "stdout",
     "output_type": "stream",
     "text": [
      "9\n"
     ]
    }
   ],
   "source": [
    "# Create a count letters function\n",
    "def unique_english_letters(word):\n",
    "    unique_letters = []\n",
    "    for letter in word:\n",
    "        if (letter in word) and not (letter in unique_letters):\n",
    "            unique_letters.append(letter)\n",
    "    return len(unique_letters)\n",
    "\n",
    "# Count the number of unique letters of the english word \"watermelon\"\n",
    "print(unique_english_letters(\"watermelon\"))"
   ]
  },
  {
   "cell_type": "code",
   "execution_count": 7,
   "id": "824ecec5",
   "metadata": {},
   "outputs": [
    {
     "name": "stdout",
     "output_type": "stream",
     "text": [
      "4\n",
      "1\n"
     ]
    }
   ],
   "source": [
    "\"\"\"\n",
    "Instructions:\n",
    "Write a function that takes a string and a single character as parameters.\n",
    "The function should return the number of times x appears in word.\n",
    "\"\"\"\n",
    "\n",
    "# Write your count_char_x function here:\n",
    "def count_char_x(word, x):\n",
    "  count = 0\n",
    "  for i in range(len(word)):\n",
    "      if x in word[i]:\n",
    "          count += 1\n",
    "  return count\n",
    "\n",
    "# Uncomment these function calls to test your tip function:\n",
    "print(count_char_x(\"mississippi\", \"s\"))\n",
    "# should print 4\n",
    "print(count_char_x(\"mississippi\", \"m\"))\n",
    "# should print 1"
   ]
  },
  {
   "cell_type": "code",
   "execution_count": 12,
   "id": "01298bcb",
   "metadata": {},
   "outputs": [
    {
     "name": "stdout",
     "output_type": "stream",
     "text": [
      "2\n",
      "2\n"
     ]
    }
   ],
   "source": [
    "\n",
    "\"\"\"\n",
    "Write a function that takes \"word\" and \"x\" as arguments.\n",
    "Return the number of times \"x\" appears in \"word\".\n",
    "The function should work when \"x\" is multiple characters long.\n",
    "\"\"\"\n",
    "\n",
    "def count_multi_char_x(word,x):\n",
    "  indices = []\n",
    "  for i in range(len(word)):\n",
    "    if word[i:i+len(x)] == x:\n",
    "      indices.append(i)\n",
    "  return len(indices)\n",
    "\n",
    "print(count_multi_char_x(\"banana\",\"an\"))\n",
    "\n",
    "print(count_multi_char_x(\"mississipi\",\"iss\"))\n"
   ]
  },
  {
   "cell_type": "code",
   "execution_count": 15,
   "id": "a057351c",
   "metadata": {},
   "outputs": [
    {
     "data": {
      "text/plain": [
       "'pl'"
      ]
     },
     "execution_count": 15,
     "metadata": {},
     "output_type": "execute_result"
    }
   ],
   "source": [
    "\"\"\"\n",
    "This function should return the substring between the first \n",
    "occurrence of start and end in word.\n",
    "If start or end are not in word, the function should return word.\n",
    "\"\"\"\n",
    "\n",
    "def substring_between_letters(word,start,end):\n",
    "    start_index = word.find(start)\n",
    "    end_index = word.find(end)\n",
    "\n",
    "    if (start in word) and (end in word):\n",
    "        return word[start_index+1:end_index]\n",
    "    else:\n",
    "        return word\n",
    "\n",
    "substring_between_letters(\"apple\", \"p\", \"e\")\n",
    "# output: \"pl\""
   ]
  },
  {
   "cell_type": "code",
   "execution_count": 21,
   "id": "84d72244",
   "metadata": {},
   "outputs": [
    {
     "name": "stdout",
     "output_type": "stream",
     "text": [
      "False\n",
      "True\n"
     ]
    }
   ],
   "source": [
    "\"\"\"\n",
    "This function should return True if every word in sentence \n",
    "has a length greater than or equal to x\n",
    "\"\"\"\n",
    "\n",
    "# Write your x_length_words function here:\n",
    "def x_length_words(sentence,x):\n",
    "  sentence_list = sentence.split()\n",
    "  booleans_list = []\n",
    "  for i in range(len(sentence_list)):\n",
    "      if len(sentence_list[i]) >= x:\n",
    "          return True\n",
    "      else:\n",
    "          return False\n",
    "\n",
    "# Uncomment these function calls to test your tip function:\n",
    "print(x_length_words(\"i like apples\", 2))\n",
    "# should print False\n",
    "print(x_length_words(\"he likes apples\", 2))\n",
    "# should print True"
   ]
  },
  {
   "cell_type": "code",
   "execution_count": 25,
   "id": "0738845a",
   "metadata": {},
   "outputs": [
    {
     "name": "stdout",
     "output_type": "stream",
     "text": [
      "True\n",
      "True\n",
      "False\n"
     ]
    }
   ],
   "source": [
    "\"\"\"\n",
    "This function should return True if name appears in sentence \n",
    "in all lowercase letters, all uppercase letters, or with any \n",
    "mix of uppercase and lowercase letters. \n",
    "The function should return False otherwise.\n",
    "\"\"\"\n",
    "\n",
    "def check_for_name(sentence,name):\n",
    "    sentence_list = sentence.split()\n",
    "    if sentence_list[-1].lower() == name.lower():\n",
    "        return True\n",
    "    else:\n",
    "        return False\n",
    "\n",
    "# Uncomment these function calls to test your  function:\n",
    "print(check_for_name(\"My name is Jamie\", \"Jamie\"))\n",
    "# should print True\n",
    "print(check_for_name(\"My name is jamie\", \"Jamie\"))\n",
    "# should print True\n",
    "print(check_for_name(\"My name is Samantha\", \"Jamie\"))\n",
    "# should print False"
   ]
  },
  {
   "cell_type": "code",
   "execution_count": 61,
   "id": "01c02d3b",
   "metadata": {},
   "outputs": [
    {
     "name": "stdout",
     "output_type": "stream",
     "text": [
      "Cdcdm\n",
      "Hlowrd\n",
      "\n"
     ]
    }
   ],
   "source": [
    "\"\"\"\n",
    "Create a function that takes a string named word as a parameter. \n",
    "The function should return a string containing every other letter in word.\n",
    "\"\"\"\n",
    "\n",
    "def every_other_letter(word):\n",
    "    mod_word = []\n",
    "    for i in range(len(word)):\n",
    "        if i % 2 == 0:\n",
    "            mod_word.append(word[i])\n",
    "    return \"\".join(mod_word)\n",
    "\n",
    "# Uncomment these function calls to test your function:\n",
    "print(every_other_letter(\"Codecademy\"))\n",
    "# should print Cdcdm\n",
    "print(every_other_letter(\"Hello world!\"))\n",
    "# should print Hlowrd\n",
    "print(every_other_letter(\"\"))\n",
    "# should print "
   ]
  },
  {
   "cell_type": "code",
   "execution_count": 81,
   "id": "85609c34",
   "metadata": {},
   "outputs": [
    {
     "name": "stdout",
     "output_type": "stream",
     "text": [
      "ymedacedoC\n",
      "!dlrow olleH\n",
      "\n"
     ]
    }
   ],
   "source": [
    "\"\"\"\n",
    "Write a function that has a string named word as a parameter.\n",
    "The function should return word in reverse.\n",
    "\"\"\"\n",
    "\n",
    "def reverse_string(word):\n",
    "    reverse_list = []\n",
    "    for i in range(1,len(word)+1):\n",
    "        reverse_list.append(word[i*-1])\n",
    "    return \"\".join(reverse_list)\n",
    "\n",
    "# Uncomment these function calls to test your  function:\n",
    "print(reverse_string(\"Codecademy\"))\n",
    "# should print ymedacedoC\n",
    "print(reverse_string(\"Hello world!\"))\n",
    "# should print !dlrow olleH\n",
    "print(reverse_string(\"\"))\n",
    "# should print"
   ]
  },
  {
   "cell_type": "code",
   "execution_count": 86,
   "id": "35741374",
   "metadata": {},
   "outputs": [
    {
     "name": "stdout",
     "output_type": "stream",
     "text": [
      "Lodecademy Cearn\n",
      "wello Horld!\n",
      "b a\n"
     ]
    }
   ],
   "source": [
    "\"\"\"\n",
    "Write a function that takes two words as parameters. \n",
    "Switch the first letters of each word.\n",
    "Return the two new words as a single string separated by a space.\n",
    "\"\"\"\n",
    "\n",
    "def make_spoonerism(word1, word2):\n",
    "    word1_first_letter = word1[0]\n",
    "    word2_first_letter = word2[0]\n",
    "\n",
    "    new_word1 = word1.replace(word1[0],word2_first_letter)\n",
    "    new_word2 = word2.replace(word2[0],word1_first_letter)\n",
    "\n",
    "    words_list = [new_word1, new_word2]\n",
    "\n",
    "    return \" \".join(words_list)\n",
    "\n",
    "# Uncomment these function calls to test your function:\n",
    "print(make_spoonerism(\"Codecademy\", \"Learn\"))\n",
    "# should print Lodecademy Cearn\n",
    "print(make_spoonerism(\"Hello\", \"world!\"))\n",
    "# should print wello Horld!\n",
    "print(make_spoonerism(\"a\", \"b\"))\n",
    "# should print b a"
   ]
  },
  {
   "cell_type": "code",
   "execution_count": 88,
   "id": "6349e6a9",
   "metadata": {},
   "outputs": [
    {
     "name": "stdout",
     "output_type": "stream",
     "text": [
      "Codecademy!!!!!!!!!!\n",
      "Codecademy is the best place to learn\n"
     ]
    }
   ],
   "source": [
    "\"\"\"\n",
    "Create a function that has one string as parameter.\n",
    "This function should add exclamation points to the end \n",
    "of word until word is 20 characters long. \n",
    "If word is already at least 20 characters long, just return word.\n",
    "\"\"\"\n",
    "\n",
    "def add_exclamation(word):\n",
    "    word_length = len(word)\n",
    "    \n",
    "    if word_length == 20:\n",
    "        return word\n",
    "    else:\n",
    "        remaining_chars = 20 - len(word)\n",
    "        exclamations = \"!\" * remaining_chars\n",
    "        return word + exclamations\n",
    "\n",
    "# Uncomment these function calls to test your function:\n",
    "print(add_exclamation(\"Codecademy\"))\n",
    "# should print Codecademy!!!!!!!!!!\n",
    "print(add_exclamation(\"Codecademy is the best place to learn\"))\n",
    "# should print Codecademy is the best place to learn"
   ]
  }
 ],
 "metadata": {
  "kernelspec": {
   "display_name": "Python 3",
   "language": "python",
   "name": "python3"
  },
  "language_info": {
   "codemirror_mode": {
    "name": "ipython",
    "version": 3
   },
   "file_extension": ".py",
   "mimetype": "text/x-python",
   "name": "python",
   "nbconvert_exporter": "python",
   "pygments_lexer": "ipython3",
   "version": "3.9.4"
  }
 },
 "nbformat": 4,
 "nbformat_minor": 5
}
