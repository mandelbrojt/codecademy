{
 "cells": [
  {
   "cell_type": "markdown",
   "metadata": {},
   "source": [
    "# [Dictionaries Documentation](https://docs.python.org/3/tutorial/datastructures.html#dictionaries)"
   ]
  },
  {
   "cell_type": "markdown",
   "metadata": {},
   "source": [
    "# Properties"
   ]
  },
  {
   "cell_type": "markdown",
   "metadata": {},
   "source": [
    "- Unordered set of `key:value` pairs separated by a comma.\n",
    "- Used to associate values with one another.\n",
    "- Begins and ends with curly braces `{` and `}`.\n",
    "- Is a good practice to insert a space () after each comma.\n",
    "- Values can be of any type (string, number, list, or even another dictionary).\n",
    "- Keys must always be unchangeable, hashable data types, like numbers, strings or tuples.\n",
    "- Performing `list()` on a `dictionary` returns a **list of all the keys** used in the dictionary."
   ]
  },
  {
   "cell_type": "code",
   "execution_count": 9,
   "metadata": {},
   "outputs": [
    {
     "name": "stdout",
     "output_type": "stream",
     "text": [
      "{'software design': ['Aaron', 'Delila', 'Samson']}\n"
     ]
    }
   ],
   "source": [
    "# Create a dictionary with lists as values\n",
    "students_in_classes = {\"software design\": [\"Aaron\", \"Delila\", \"Samson\"]}\n",
    "print(students_in_classes)"
   ]
  },
  {
   "cell_type": "code",
   "execution_count": 2,
   "metadata": {},
   "outputs": [
    {
     "name": "stdout",
     "output_type": "stream",
     "text": [
      "{(0, 0): 100, (1, 1): 200, (1, 0): 150}\n"
     ]
    }
   ],
   "source": [
    "# Create a dictionary with tuples as keys\n",
    "coordinates = { (0,0) : 100, (1,1) : 200}\n",
    "\n",
    "# Add a new key to current dictionary\n",
    "coordinates[(1,0)] = 150\n",
    "\n",
    "print(coordinates)"
   ]
  },
  {
   "cell_type": "code",
   "execution_count": null,
   "metadata": {},
   "outputs": [],
   "source": [
    "# Create an empty dictionary\n",
    "empty_dict = {}"
   ]
  },
  {
   "cell_type": "code",
   "execution_count": 10,
   "metadata": {},
   "outputs": [
    {
     "name": "stdout",
     "output_type": "stream",
     "text": [
      "{'key1': 'value1', 'key2': 'value2', 'key3': 'value3'}\n"
     ]
    }
   ],
   "source": [
    "# Create a dict by using tuples\n",
    "list_of_tuples = [(\"key1\", \"value1\"), (\"key2\", \"value2\"), (\"key3\", \"value3\")]\n",
    "\n",
    "my_dict = dict(list_of_tuples)\n",
    "print(my_dict)"
   ]
  },
  {
   "cell_type": "markdown",
   "metadata": {},
   "source": [
    "# Add Keys"
   ]
  },
  {
   "cell_type": "code",
   "execution_count": 4,
   "metadata": {},
   "outputs": [
    {
     "name": "stdout",
     "output_type": "stream",
     "text": [
      "{'zebras': 8, 'monkeys': 12}\n"
     ]
    }
   ],
   "source": [
    "# Create an empty dictionary\n",
    "animals_in_zoo = {}\n",
    "\n",
    "# Add a key zebras with value 8\n",
    "animals_in_zoo[\"zebras\"] = 8\n",
    "\n",
    "# Add a key monekys with value 12\n",
    "animals_in_zoo[\"monkeys\"] = 12\n",
    "\n",
    "print(animals_in_zoo)"
   ]
  },
  {
   "cell_type": "markdown",
   "metadata": {},
   "source": [
    "- Use `.update()` method to add multiple keys to a dictionary."
   ]
  },
  {
   "cell_type": "code",
   "execution_count": 5,
   "metadata": {},
   "outputs": [
    {
     "name": "stdout",
     "output_type": "stream",
     "text": [
      "{'teraCoder': 9018293, 'proProgrammer': 119238, 'theLooper': 138475, 'stringQueen': 85739}\n"
     ]
    }
   ],
   "source": [
    "user_ids = {\"teraCoder\": 9018293, \"proProgrammer\": 119238}\n",
    "\n",
    "user_ids.update({\"theLooper\": 138475,\"stringQueen\": 85739})\n",
    "\n",
    "print(user_ids)"
   ]
  },
  {
   "cell_type": "markdown",
   "metadata": {},
   "source": [
    "# Overwrite Values"
   ]
  },
  {
   "cell_type": "code",
   "execution_count": 6,
   "metadata": {},
   "outputs": [
    {
     "name": "stdout",
     "output_type": "stream",
     "text": [
      "{'Best Picture': 'Moonlight', 'Best Actor': 'Casey Affleck', 'Best Actress': 'Emma Stone', 'Animated Feature': 'Zootopia'}\n"
     ]
    }
   ],
   "source": [
    "oscar_winners = {\"Best Picture\": \"La La Land\", \"Best Actor\": \"Casey Affleck\", \"Best Actress\": \"Emma Stone\", \"Animated Feature\": \"Zootopia\"}\n",
    "\n",
    "oscar_winners[\"Best Picture\"] = \"Moonlight\"\n",
    "\n",
    "print(oscar_winners)"
   ]
  },
  {
   "cell_type": "markdown",
   "metadata": {},
   "source": [
    "# Dictionary Comprehenssion"
   ]
  },
  {
   "cell_type": "code",
   "execution_count": 11,
   "metadata": {},
   "outputs": [
    {
     "name": "stdout",
     "output_type": "stream",
     "text": [
      "{'Jenny': 61, 'Alexus': 70, 'Sam': 67, 'Grace': 64}\n"
     ]
    }
   ],
   "source": [
    "# Create a list of names and heights\n",
    "names = ['Jenny', 'Alexus', 'Sam', 'Grace']\n",
    "heights = [61, 70, 67, 64]\n",
    "\n",
    "# Create a dictionary with dict comprehenssion\n",
    "students = {key:value for key, value in zip(names, heights)}\n",
    "\n",
    "print(students)"
   ]
  },
  {
   "cell_type": "markdown",
   "metadata": {},
   "source": [
    "# Looping Techniques"
   ]
  },
  {
   "cell_type": "markdown",
   "metadata": {},
   "source": [
    "- The key and corresponding value can be retrieved at the same time using the `.items()` method."
   ]
  },
  {
   "cell_type": "code",
   "execution_count": 13,
   "metadata": {},
   "outputs": [
    {
     "name": "stdout",
     "output_type": "stream",
     "text": [
      "The CEO of Allianz is Oliver Baete\n",
      "The CEO of Allstate is Tom Wilson\n",
      "The CEO of Chubb is Evan Greenberg\n"
     ]
    }
   ],
   "source": [
    "insurance_company = [\"Allianz\", \"Allstate\", \"Chubb\"]\n",
    "ceo_name = [\"Oliver Baete\", \"Tom Wilson\", \"Evan Greenberg\"]\n",
    "\n",
    "insurance = {key:value for key,value in zip(insurance_company,ceo_name)}\n",
    "\n",
    "for company, ceo in insurance.items():\n",
    "    print(\"The CEO of {company} is {ceo}\".format(company=company, ceo=ceo))"
   ]
  },
  {
   "cell_type": "markdown",
   "metadata": {},
   "source": [
    "# Dictionary Keys"
   ]
  },
  {
   "cell_type": "markdown",
   "metadata": {},
   "source": [
    "## Prevent KeyError\n",
    "\n",
    "- `try` and `except` can be used to handle `KeyError`."
   ]
  },
  {
   "cell_type": "code",
   "execution_count": 1,
   "metadata": {},
   "outputs": [
    {
     "name": "stdout",
     "output_type": "stream",
     "text": [
      "Unknown Caffeine Level\n"
     ]
    }
   ],
   "source": [
    "caffeine_level = {\"espresso\": 64, \"chai\": 40, \"decaf\": 0, \"drip\": 120}\n",
    "\n",
    "try:\n",
    "  print(caffeine_level[\"matcha\"])\n",
    "except KeyError:\n",
    "  print(\"Unknown Caffeine Level\")"
   ]
  },
  {
   "cell_type": "markdown",
   "metadata": {},
   "source": [
    "## Safely Get Keys\n",
    "\n",
    "- Use the `.get()` method to search for a value in a dictionary.\n",
    "\n",
    "    - Syntax: ```dict.get(key,action)```"
   ]
  },
  {
   "cell_type": "code",
   "execution_count": 6,
   "metadata": {},
   "outputs": [
    {
     "name": "stdout",
     "output_type": "stream",
     "text": [
      "This user does not exists\n"
     ]
    }
   ],
   "source": [
    "user_ids = {\"teraCoder\": 100019, \n",
    "            \"pythonGuy\": 182921,\n",
    "            \"samTheJavaMaam\": 123112,\n",
    "            \"lyleLoop\": 102931,\n",
    "            \"keysmithKeith\": 129384}\n",
    "\n",
    "print(user_ids.get(\"defaultUser\",\"This user does not exists\"))"
   ]
  },
  {
   "cell_type": "markdown",
   "metadata": {},
   "source": [
    "## Remove Keys\n",
    "\n",
    "- Use .`pop()` to remove an item by its key. A default value can be returned if the key does not exist in the dictionary.\n",
    "\n",
    "- It returns the value for the key and then remove the key/value from the dictionary.\n",
    "\n",
    "    \n",
    "    - Syntax: `dict.pop(key,action)`"
   ]
  },
  {
   "cell_type": "code",
   "execution_count": 18,
   "metadata": {},
   "outputs": [
    {
     "name": "stdout",
     "output_type": "stream",
     "text": [
      "10\n",
      "The key does not exists\n"
     ]
    }
   ],
   "source": [
    "available_items = {\"health potion\": 10, \n",
    "                   \"cake of the cure\": 5,\n",
    "                   \"green elixir\": 20,\n",
    "                   \"strength sandwich\": 25,\n",
    "                   \"stamina grains\": 15,\n",
    "                   \"power stew\": 30}\n",
    "\n",
    "print(available_items.pop(\"health potion\",\"The key does not exists\"))\n",
    "print(available_items.pop(\"exotic root\",\"The key does not exists\"))"
   ]
  },
  {
   "cell_type": "markdown",
   "metadata": {},
   "source": [
    "## Get All Keys\n",
    "\n",
    "- Use the `.keys()` method to obtain all the keys. The result is a `dict_keys` object and it can't be modified.\n",
    "    \n",
    "    - Syntax: `dict.keys()`"
   ]
  },
  {
   "cell_type": "code",
   "execution_count": 17,
   "metadata": {},
   "outputs": [
    {
     "name": "stdout",
     "output_type": "stream",
     "text": [
      "Grace\n",
      "Jeffrey\n",
      "Sylvia\n",
      "Pedro\n",
      "Martin\n",
      "Dina\n"
     ]
    }
   ],
   "source": [
    "# Create a dictionary of lists\n",
    "test_scores = {\"Grace\":[80, 72, 90], \n",
    "               \"Jeffrey\":[88, 68, 81],\n",
    "               \"Sylvia\":[80, 82, 84],\n",
    "               \"Pedro\":[98, 96, 95],\n",
    "               \"Martin\":[78, 80, 78],\n",
    "               \"Dina\":[64, 60, 75]}\n",
    "\n",
    "# Iterate through each dictionary key\n",
    "for student in test_scores.keys():\n",
    "  print(student)"
   ]
  },
  {
   "cell_type": "markdown",
   "metadata": {},
   "source": [
    "# Dictionary Values"
   ]
  },
  {
   "cell_type": "markdown",
   "metadata": {},
   "source": [
    "## Get All Values\n",
    "\n",
    "- The `.values()` method returns a `dict_values` object with all of the values in the dictionary. It can be used in the place of a list for iteration.\n",
    "\n",
    "    - Syntax: `dict.values()`"
   ]
  },
  {
   "cell_type": "code",
   "execution_count": 1,
   "metadata": {},
   "outputs": [
    {
     "name": "stdout",
     "output_type": "stream",
     "text": [
      "115\n"
     ]
    }
   ],
   "source": [
    "num_exercises = {\"functions\": 10,\n",
    "                 \"syntax\": 13, \n",
    "                 \"control flow\": 15, \n",
    "                 \"loops\": 22, \n",
    "                 \"lists\": 19, \n",
    "                 \"classes\": 18, \n",
    "                 \"dictionaries\": 18}\n",
    "\n",
    "total_exercises = 0\n",
    "\n",
    "# Iterate through all dictionary values\n",
    "for value in num_exercises.values():\n",
    "  total_exercises += value\n",
    "\n",
    "print(total_exercises)"
   ]
  },
  {
   "cell_type": "markdown",
   "metadata": {},
   "source": [
    "# Dictionary Items"
   ]
  },
  {
   "cell_type": "markdown",
   "metadata": {},
   "source": [
    "- Get both the keys and the values with the `.items()` method. It returns a `dict_list` object. \n",
    "\n",
    "- Each element of the `dict_list` returned by `.items()` is a `tuple` consisting of: `(key,value)`."
   ]
  },
  {
   "cell_type": "code",
   "execution_count": 2,
   "metadata": {},
   "outputs": [
    {
     "name": "stdout",
     "output_type": "stream",
     "text": [
      "Apple has a value of 184 billion dollars. \n",
      "Google has a value of 141.7 billion dollars. \n",
      "Microsoft has a value of 80 billion dollars. \n",
      "Coca-Cola has a value of 69.7 billion dollars. \n",
      "Amazon has a value of 64.8 billion dollars. \n"
     ]
    }
   ],
   "source": [
    "biggest_brands = {\"Apple\": 184, \"Google\": 141.7, \"Microsoft\": 80, \"Coca-Cola\": 69.7, \"Amazon\": 64.8}\n",
    " \n",
    "for company, value in biggest_brands.items():\n",
    "  print(company + \" has a value of \" + str(value) + \" billion dollars. \")"
   ]
  },
  {
   "cell_type": "markdown",
   "metadata": {},
   "source": [
    "# Projects"
   ]
  },
  {
   "cell_type": "code",
   "execution_count": 3,
   "metadata": {},
   "outputs": [
    {
     "name": "stdout",
     "output_type": "stream",
     "text": [
      "Connie's insurance cost is 8886.0 dollars.\n",
      "Marina is a 27 year old Female Non-smoker with a BMI of 31.1 and insurance cost of 6607.0\n",
      "Connie is a 43 year old Female Non-smoker with a BMI of 25.3 and insurance cost of 8886.0\n",
      "Isaac is a 35 year old Male Smoker with a BMI of 20.6 and insurance cost of 16444.0\n",
      "Valentina is a 52 year old Female Non-smoker with a BMI of 18.7 and insurance cost of 6420.0\n"
     ]
    }
   ],
   "source": [
    "names = [\"Marina\",\"Vinay\",\"Connie\",\"Isaac\",\"Valentina\"]\n",
    "\n",
    "ages = [27,24,43,35,52]\n",
    "\n",
    "zipped_ages = zip(names,ages)\n",
    "\n",
    "names_to_ages = {name:age for name,age in zipped_ages}\n",
    "\n",
    "marina_age = names_to_ages.get(\"Marina\")\n",
    "\n",
    "medical_records = {}\n",
    "\n",
    "medical_records.update({\"Marina\":{\"Age\": 27, \"Sex\": \"Female\", \"BMI\": 31.1, \"Children\": 2, \"Smoker\": \"Non-smoker\", \"Insurance_cost\": 6607.0}})\n",
    "\n",
    "medical_records.update({\"Vinay\":{\"Age\": 24, \"Sex\": \"Male\", \"BMI\": 26.9, \"Children\": 0, \"Smoker\": \"Non-smoker\", \"Insurance_cost\": 3225.0},\"Connie\":{\"Age\": 43, \"Sex\": \"Female\", \"BMI\": 25.3, \"Children\": 3, \"Smoker\": \"Non-smoker\", \"Insurance_cost\": 8886.0},\"Isaac\":{\"Age\": 35, \"Sex\": \"Male\", \"BMI\": 20.6, \"Children\": 4, \"Smoker\": \"Smoker\", \"Insurance_cost\": 16444.0},\"Valentina\":{\"Age\": 52, \"Sex\": \"Female\", \"BMI\": 18.7, \"Children\": 1, \"Smoker\": \"Non-smoker\", \"Insurance_cost\": 6420.0}})\n",
    "\n",
    "print(\"Connie's insurance cost is \"+ str(medical_records[\"Connie\"][\"Insurance_cost\"]) + \" dollars.\")\n",
    "\n",
    "medical_records.pop(\"Vinay\")\n",
    "\n",
    "for key,value in medical_records.items():\n",
    "  print(\"{Name} is a {Age} year old {Sex} {Smoker} with a BMI of {BMI} and insurance cost of {Insurance_cost}\".format(Name=key,Age=value[\"Age\"],Sex=value[\"Sex\"],Smoker=value[\"Smoker\"],BMI=value[\"BMI\"],Insurance_cost=value[\"Insurance_cost\"]))"
   ]
  }
 ],
 "metadata": {
  "interpreter": {
   "hash": "aee8b7b246df8f9039afb4144a1f6fd8d2ca17a180786b69acc140d282b71a49"
  },
  "kernelspec": {
   "display_name": "Python 3.9.4 64-bit",
   "language": "python",
   "name": "python3"
  },
  "language_info": {
   "codemirror_mode": {
    "name": "ipython",
    "version": 3
   },
   "file_extension": ".py",
   "mimetype": "text/x-python",
   "name": "python",
   "nbconvert_exporter": "python",
   "pygments_lexer": "ipython3",
   "version": "3.9.4"
  },
  "orig_nbformat": 4
 },
 "nbformat": 4,
 "nbformat_minor": 2
}
