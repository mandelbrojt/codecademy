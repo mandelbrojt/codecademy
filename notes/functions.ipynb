{
 "cells": [
  {
   "cell_type": "markdown",
   "metadata": {},
   "source": [
    "# Function Scopes\n",
    "\n",
    "## Local Scope\n",
    "- A variable defined inside a function is known as a `local variable` — a variable defined in a `local scope`. A local variable is only accessible inside the function.\n",
    "\n",
    "- Local variables from one function cannot be accessed outside of that function.\n",
    "\n",
    "## Global Scope\n",
    "- Variables that can be accessed anywhere in a script are referred to as `global variables` and are defined in a `global scope`.\n",
    "\n",
    "- Global variables are typically defined outside of all of the functions in the script and store data we want to use throughout the entire program."
   ]
  },
  {
   "cell_type": "code",
   "execution_count": 1,
   "metadata": {},
   "outputs": [
    {
     "name": "stdout",
     "output_type": "stream",
     "text": [
      "Inside the inner function!\n",
      "Inside the outer function!\n"
     ]
    }
   ],
   "source": [
    "def outer_func():\n",
    "    location = \"Inside the outer function!\"\n",
    " \n",
    "    def inner_func():\n",
    "        location = \"Inside the inner function!\"\n",
    "        print(location)\n",
    " \n",
    "    inner_func()\n",
    " \n",
    "    print(location)\n",
    " \n",
    "outer_func()"
   ]
  },
  {
   "cell_type": "markdown",
   "metadata": {},
   "source": [
    "## Scope and Nested Functions\n",
    "- Each instance of location has a different scope, so when the functions are called, Python uses the closest available scope for the variable definition.\n",
    "\n",
    "-  When we call outer_func() we do not overwrite the value of location and both of the strings are printed."
   ]
  },
  {
   "cell_type": "code",
   "execution_count": 3,
   "metadata": {},
   "outputs": [
    {
     "name": "stdout",
     "output_type": "stream",
     "text": [
      "Your balance is 1000\n",
      "Your new balance is 500\n",
      "You will gain interest on: 500\n",
      "You will be taxed: 65.0\n"
     ]
    }
   ],
   "source": [
    "balance = 1000\n",
    "\n",
    "def print_balance(): \n",
    "    print(\"Your balance is \" + str(balance))\n",
    "\n",
    "def deduct(amount):\n",
    "    print(\"Your new balance is \" + str(balance - amount))\n",
    "\n",
    "savings = 500\n",
    "\n",
    "def calculate_interest_on_savings():\n",
    "  print(\"You will gain interest on: \" + str(savings))\n",
    "  def calculate_taxes():\n",
    "    tax_amount = savings * 0.13\n",
    "    print(\"You will be taxed: \" + str(tax_amount))\n",
    "  calculate_taxes()\n",
    "\n",
    "print_balance()\n",
    "deduct(500)\n",
    "calculate_interest_on_savings()"
   ]
  }
 ],
 "metadata": {
  "interpreter": {
   "hash": "aee8b7b246df8f9039afb4144a1f6fd8d2ca17a180786b69acc140d282b71a49"
  },
  "kernelspec": {
   "display_name": "Python 3.9.4 64-bit",
   "language": "python",
   "name": "python3"
  },
  "language_info": {
   "codemirror_mode": {
    "name": "ipython",
    "version": 3
   },
   "file_extension": ".py",
   "mimetype": "text/x-python",
   "name": "python",
   "nbconvert_exporter": "python",
   "pygments_lexer": "ipython3",
   "version": "3.9.4"
  },
  "orig_nbformat": 4
 },
 "nbformat": 4,
 "nbformat_minor": 2
}
